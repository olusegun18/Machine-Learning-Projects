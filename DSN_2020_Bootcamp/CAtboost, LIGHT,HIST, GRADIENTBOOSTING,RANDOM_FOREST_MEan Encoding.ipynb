{
 "cells": [
  {
   "cell_type": "code",
   "execution_count": 46,
   "metadata": {},
   "outputs": [],
   "source": [
    "import numpy as np\n",
    "import pandas as pd\n",
    "import matplotlib.pyplot as plt\n",
    "%matplotlib inline\n",
    "import seaborn as sns\n",
    "import warnings\n",
    "warnings.filterwarnings('ignore')\n",
    "pd.options.display.max_columns = 80\n",
    "pd.options.display.max_rows = 81\n"
   ]
  },
  {
   "cell_type": "code",
   "execution_count": 47,
   "metadata": {},
   "outputs": [],
   "source": [
    "data = pd.read_csv('Train.csv')\n",
    "data2 = pd.read_csv('Test.csv')"
   ]
  },
  {
   "cell_type": "code",
   "execution_count": 48,
   "metadata": {},
   "outputs": [
    {
     "data": {
      "text/plain": [
       "(80000, 52)"
      ]
     },
     "execution_count": 48,
     "metadata": {},
     "output_type": "execute_result"
    }
   ],
   "source": [
    "new_data = pd.concat([data,data2]).reset_index(drop=True)\n",
    "new_data.shape"
   ]
  },
  {
   "cell_type": "code",
   "execution_count": 49,
   "metadata": {},
   "outputs": [
    {
     "data": {
      "text/html": [
       "<div>\n",
       "<style scoped>\n",
       "    .dataframe tbody tr th:only-of-type {\n",
       "        vertical-align: middle;\n",
       "    }\n",
       "\n",
       "    .dataframe tbody tr th {\n",
       "        vertical-align: top;\n",
       "    }\n",
       "\n",
       "    .dataframe thead th {\n",
       "        text-align: right;\n",
       "    }\n",
       "</style>\n",
       "<table border=\"1\" class=\"dataframe\">\n",
       "  <thead>\n",
       "    <tr style=\"text-align: right;\">\n",
       "      <th></th>\n",
       "      <th>Applicant_ID</th>\n",
       "      <th>form_field1</th>\n",
       "      <th>form_field2</th>\n",
       "      <th>form_field3</th>\n",
       "      <th>form_field4</th>\n",
       "      <th>form_field5</th>\n",
       "      <th>form_field6</th>\n",
       "      <th>form_field7</th>\n",
       "      <th>form_field8</th>\n",
       "      <th>form_field9</th>\n",
       "      <th>form_field10</th>\n",
       "      <th>form_field11</th>\n",
       "      <th>form_field12</th>\n",
       "      <th>form_field13</th>\n",
       "      <th>form_field14</th>\n",
       "      <th>form_field15</th>\n",
       "      <th>form_field16</th>\n",
       "      <th>form_field17</th>\n",
       "      <th>form_field18</th>\n",
       "      <th>form_field19</th>\n",
       "      <th>form_field20</th>\n",
       "      <th>form_field21</th>\n",
       "      <th>form_field22</th>\n",
       "      <th>form_field23</th>\n",
       "      <th>form_field24</th>\n",
       "      <th>form_field25</th>\n",
       "      <th>form_field26</th>\n",
       "      <th>form_field27</th>\n",
       "      <th>form_field28</th>\n",
       "      <th>form_field29</th>\n",
       "      <th>form_field30</th>\n",
       "      <th>form_field31</th>\n",
       "      <th>form_field32</th>\n",
       "      <th>form_field33</th>\n",
       "      <th>form_field34</th>\n",
       "      <th>form_field35</th>\n",
       "      <th>form_field36</th>\n",
       "      <th>form_field37</th>\n",
       "      <th>form_field38</th>\n",
       "      <th>form_field39</th>\n",
       "      <th>form_field40</th>\n",
       "      <th>form_field41</th>\n",
       "      <th>form_field42</th>\n",
       "      <th>form_field43</th>\n",
       "      <th>form_field44</th>\n",
       "      <th>form_field45</th>\n",
       "      <th>form_field46</th>\n",
       "      <th>form_field47</th>\n",
       "      <th>form_field48</th>\n",
       "      <th>form_field49</th>\n",
       "      <th>form_field50</th>\n",
       "      <th>default_status</th>\n",
       "    </tr>\n",
       "  </thead>\n",
       "  <tbody>\n",
       "    <tr>\n",
       "      <th>0</th>\n",
       "      <td>Apcnt_1000000</td>\n",
       "      <td>3436.0</td>\n",
       "      <td>0.28505</td>\n",
       "      <td>1.6560</td>\n",
       "      <td>0.0</td>\n",
       "      <td>0.000</td>\n",
       "      <td>0.0</td>\n",
       "      <td>10689720.0</td>\n",
       "      <td>252072.0</td>\n",
       "      <td>4272776.0</td>\n",
       "      <td>11333126.0</td>\n",
       "      <td>4397256.0</td>\n",
       "      <td>2301324.0</td>\n",
       "      <td>7875694.0</td>\n",
       "      <td>96375139</td>\n",
       "      <td>112181765.0</td>\n",
       "      <td>1.0</td>\n",
       "      <td>1.0</td>\n",
       "      <td>1.0</td>\n",
       "      <td>3.0</td>\n",
       "      <td>3.0</td>\n",
       "      <td>134.655</td>\n",
       "      <td>NaN</td>\n",
       "      <td>NaN</td>\n",
       "      <td>134.655</td>\n",
       "      <td>4000.5</td>\n",
       "      <td>17064.0</td>\n",
       "      <td>11376.0</td>\n",
       "      <td>60.0</td>\n",
       "      <td>17064.0</td>\n",
       "      <td>5962.0</td>\n",
       "      <td>NaN</td>\n",
       "      <td>1052.0</td>\n",
       "      <td>8.0000</td>\n",
       "      <td>2.0</td>\n",
       "      <td>NaN</td>\n",
       "      <td>12.0</td>\n",
       "      <td>12.0</td>\n",
       "      <td>4.0</td>\n",
       "      <td>0.0</td>\n",
       "      <td>NaN</td>\n",
       "      <td>NaN</td>\n",
       "      <td>0.392854</td>\n",
       "      <td>2.02</td>\n",
       "      <td>0.711632</td>\n",
       "      <td>0.0</td>\n",
       "      <td>0.0</td>\n",
       "      <td>charge</td>\n",
       "      <td>NaN</td>\n",
       "      <td>1.129518</td>\n",
       "      <td>0.044335</td>\n",
       "      <td>no</td>\n",
       "    </tr>\n",
       "    <tr>\n",
       "      <th>1</th>\n",
       "      <td>Apcnt_1000004</td>\n",
       "      <td>3456.0</td>\n",
       "      <td>0.67400</td>\n",
       "      <td>0.2342</td>\n",
       "      <td>0.0</td>\n",
       "      <td>0.000</td>\n",
       "      <td>0.0</td>\n",
       "      <td>898979.0</td>\n",
       "      <td>497531.0</td>\n",
       "      <td>9073814.0</td>\n",
       "      <td>2533168.0</td>\n",
       "      <td>244292.0</td>\n",
       "      <td>3982971.0</td>\n",
       "      <td>2141445.0</td>\n",
       "      <td>28141427</td>\n",
       "      <td>45169902.0</td>\n",
       "      <td>1.0</td>\n",
       "      <td>1.0</td>\n",
       "      <td>1.0</td>\n",
       "      <td>2.0</td>\n",
       "      <td>2.0</td>\n",
       "      <td>109.230</td>\n",
       "      <td>11385.24</td>\n",
       "      <td>14584.29</td>\n",
       "      <td>86.685</td>\n",
       "      <td>4161.0</td>\n",
       "      <td>13413.0</td>\n",
       "      <td>8942.0</td>\n",
       "      <td>304.0</td>\n",
       "      <td>13413.0</td>\n",
       "      <td>5780.0</td>\n",
       "      <td>NaN</td>\n",
       "      <td>2554.0</td>\n",
       "      <td>17.5000</td>\n",
       "      <td>0.0</td>\n",
       "      <td>0.0</td>\n",
       "      <td>16.0</td>\n",
       "      <td>24.0</td>\n",
       "      <td>8.0</td>\n",
       "      <td>0.0</td>\n",
       "      <td>NaN</td>\n",
       "      <td>NaN</td>\n",
       "      <td>0.314281</td>\n",
       "      <td>8.08</td>\n",
       "      <td>0.183584</td>\n",
       "      <td>NaN</td>\n",
       "      <td>0.0</td>\n",
       "      <td>charge</td>\n",
       "      <td>349.805730</td>\n",
       "      <td>1.620483</td>\n",
       "      <td>0.322436</td>\n",
       "      <td>no</td>\n",
       "    </tr>\n",
       "    <tr>\n",
       "      <th>2</th>\n",
       "      <td>Apcnt_1000008</td>\n",
       "      <td>3276.0</td>\n",
       "      <td>0.53845</td>\n",
       "      <td>3.1510</td>\n",
       "      <td>0.0</td>\n",
       "      <td>6.282</td>\n",
       "      <td>NaN</td>\n",
       "      <td>956940.0</td>\n",
       "      <td>NaN</td>\n",
       "      <td>192944.0</td>\n",
       "      <td>1079864.0</td>\n",
       "      <td>NaN</td>\n",
       "      <td>NaN</td>\n",
       "      <td>0.0</td>\n",
       "      <td>16576457</td>\n",
       "      <td>22452691.0</td>\n",
       "      <td>NaN</td>\n",
       "      <td>NaN</td>\n",
       "      <td>NaN</td>\n",
       "      <td>0.0</td>\n",
       "      <td>0.0</td>\n",
       "      <td>NaN</td>\n",
       "      <td>NaN</td>\n",
       "      <td>NaN</td>\n",
       "      <td>NaN</td>\n",
       "      <td>1597.5</td>\n",
       "      <td>4746.0</td>\n",
       "      <td>3164.0</td>\n",
       "      <td>60.0</td>\n",
       "      <td>15696.0</td>\n",
       "      <td>NaN</td>\n",
       "      <td>14508.0</td>\n",
       "      <td>70.0</td>\n",
       "      <td>0.6666</td>\n",
       "      <td>0.0</td>\n",
       "      <td>NaN</td>\n",
       "      <td>12.0</td>\n",
       "      <td>0.0</td>\n",
       "      <td>6.0</td>\n",
       "      <td>0.0</td>\n",
       "      <td>149.6805</td>\n",
       "      <td>NaN</td>\n",
       "      <td>0.162965</td>\n",
       "      <td>18.18</td>\n",
       "      <td>0.791136</td>\n",
       "      <td>0.0</td>\n",
       "      <td>0.0</td>\n",
       "      <td>charge</td>\n",
       "      <td>NaN</td>\n",
       "      <td>1.513370</td>\n",
       "      <td>0.011640</td>\n",
       "      <td>yes</td>\n",
       "    </tr>\n",
       "    <tr>\n",
       "      <th>3</th>\n",
       "      <td>Apcnt_1000012</td>\n",
       "      <td>3372.0</td>\n",
       "      <td>0.17005</td>\n",
       "      <td>0.5050</td>\n",
       "      <td>0.0</td>\n",
       "      <td>0.000</td>\n",
       "      <td>192166.0</td>\n",
       "      <td>3044703.0</td>\n",
       "      <td>385499.0</td>\n",
       "      <td>3986472.0</td>\n",
       "      <td>3621979.0</td>\n",
       "      <td>NaN</td>\n",
       "      <td>771776.0</td>\n",
       "      <td>1186839.0</td>\n",
       "      <td>48187375</td>\n",
       "      <td>136297820.0</td>\n",
       "      <td>0.0</td>\n",
       "      <td>0.0</td>\n",
       "      <td>0.0</td>\n",
       "      <td>1.0</td>\n",
       "      <td>1.0</td>\n",
       "      <td>120.120</td>\n",
       "      <td>8580.00</td>\n",
       "      <td>0.00</td>\n",
       "      <td>85.800</td>\n",
       "      <td>1701.0</td>\n",
       "      <td>4014.0</td>\n",
       "      <td>2676.0</td>\n",
       "      <td>60.0</td>\n",
       "      <td>11679.0</td>\n",
       "      <td>NaN</td>\n",
       "      <td>NaN</td>\n",
       "      <td>522.0</td>\n",
       "      <td>7.8334</td>\n",
       "      <td>1.0</td>\n",
       "      <td>1.0</td>\n",
       "      <td>4.0</td>\n",
       "      <td>8.0</td>\n",
       "      <td>4.0</td>\n",
       "      <td>1.0</td>\n",
       "      <td>NaN</td>\n",
       "      <td>NaN</td>\n",
       "      <td>0.488884</td>\n",
       "      <td>2.02</td>\n",
       "      <td>0.685168</td>\n",
       "      <td>NaN</td>\n",
       "      <td>0.0</td>\n",
       "      <td>charge</td>\n",
       "      <td>89.940100</td>\n",
       "      <td>0.664452</td>\n",
       "      <td>0.082729</td>\n",
       "      <td>no</td>\n",
       "    </tr>\n",
       "    <tr>\n",
       "      <th>4</th>\n",
       "      <td>Apcnt_1000016</td>\n",
       "      <td>3370.0</td>\n",
       "      <td>0.77270</td>\n",
       "      <td>1.1010</td>\n",
       "      <td>0.0</td>\n",
       "      <td>0.000</td>\n",
       "      <td>1556.0</td>\n",
       "      <td>214728.0</td>\n",
       "      <td>214728.0</td>\n",
       "      <td>1284089.0</td>\n",
       "      <td>361770.0</td>\n",
       "      <td>396391.0</td>\n",
       "      <td>818456.0</td>\n",
       "      <td>511535.0</td>\n",
       "      <td>28141427</td>\n",
       "      <td>15292757.0</td>\n",
       "      <td>0.0</td>\n",
       "      <td>0.0</td>\n",
       "      <td>0.0</td>\n",
       "      <td>3.0</td>\n",
       "      <td>3.0</td>\n",
       "      <td>104.535</td>\n",
       "      <td>8360.19</td>\n",
       "      <td>10326.45</td>\n",
       "      <td>115.335</td>\n",
       "      <td>1551.0</td>\n",
       "      <td>3285.0</td>\n",
       "      <td>2190.0</td>\n",
       "      <td>60.0</td>\n",
       "      <td>19437.0</td>\n",
       "      <td>12958.0</td>\n",
       "      <td>5202.0</td>\n",
       "      <td>272.0</td>\n",
       "      <td>1.0000</td>\n",
       "      <td>0.0</td>\n",
       "      <td>0.0</td>\n",
       "      <td>24.0</td>\n",
       "      <td>2.0</td>\n",
       "      <td>24.0</td>\n",
       "      <td>0.0</td>\n",
       "      <td>150.0135</td>\n",
       "      <td>NaN</td>\n",
       "      <td>0.275000</td>\n",
       "      <td>12.12</td>\n",
       "      <td>0.438168</td>\n",
       "      <td>0.0</td>\n",
       "      <td>0.0</td>\n",
       "      <td>charge</td>\n",
       "      <td>97.887502</td>\n",
       "      <td>1.427891</td>\n",
       "      <td>0.045630</td>\n",
       "      <td>no</td>\n",
       "    </tr>\n",
       "  </tbody>\n",
       "</table>\n",
       "</div>"
      ],
      "text/plain": [
       "    Applicant_ID  form_field1  form_field2  form_field3  form_field4  \\\n",
       "0  Apcnt_1000000       3436.0      0.28505       1.6560          0.0   \n",
       "1  Apcnt_1000004       3456.0      0.67400       0.2342          0.0   \n",
       "2  Apcnt_1000008       3276.0      0.53845       3.1510          0.0   \n",
       "3  Apcnt_1000012       3372.0      0.17005       0.5050          0.0   \n",
       "4  Apcnt_1000016       3370.0      0.77270       1.1010          0.0   \n",
       "\n",
       "   form_field5  form_field6  form_field7  form_field8  form_field9  \\\n",
       "0        0.000          0.0   10689720.0     252072.0    4272776.0   \n",
       "1        0.000          0.0     898979.0     497531.0    9073814.0   \n",
       "2        6.282          NaN     956940.0          NaN     192944.0   \n",
       "3        0.000     192166.0    3044703.0     385499.0    3986472.0   \n",
       "4        0.000       1556.0     214728.0     214728.0    1284089.0   \n",
       "\n",
       "   form_field10  form_field11  form_field12  form_field13  form_field14  \\\n",
       "0    11333126.0     4397256.0     2301324.0     7875694.0      96375139   \n",
       "1     2533168.0      244292.0     3982971.0     2141445.0      28141427   \n",
       "2     1079864.0           NaN           NaN           0.0      16576457   \n",
       "3     3621979.0           NaN      771776.0     1186839.0      48187375   \n",
       "4      361770.0      396391.0      818456.0      511535.0      28141427   \n",
       "\n",
       "   form_field15  form_field16  form_field17  form_field18  form_field19  \\\n",
       "0   112181765.0           1.0           1.0           1.0           3.0   \n",
       "1    45169902.0           1.0           1.0           1.0           2.0   \n",
       "2    22452691.0           NaN           NaN           NaN           0.0   \n",
       "3   136297820.0           0.0           0.0           0.0           1.0   \n",
       "4    15292757.0           0.0           0.0           0.0           3.0   \n",
       "\n",
       "   form_field20  form_field21  form_field22  form_field23  form_field24  \\\n",
       "0           3.0       134.655           NaN           NaN       134.655   \n",
       "1           2.0       109.230      11385.24      14584.29        86.685   \n",
       "2           0.0           NaN           NaN           NaN           NaN   \n",
       "3           1.0       120.120       8580.00          0.00        85.800   \n",
       "4           3.0       104.535       8360.19      10326.45       115.335   \n",
       "\n",
       "   form_field25  form_field26  form_field27  form_field28  form_field29  \\\n",
       "0        4000.5       17064.0       11376.0          60.0       17064.0   \n",
       "1        4161.0       13413.0        8942.0         304.0       13413.0   \n",
       "2        1597.5        4746.0        3164.0          60.0       15696.0   \n",
       "3        1701.0        4014.0        2676.0          60.0       11679.0   \n",
       "4        1551.0        3285.0        2190.0          60.0       19437.0   \n",
       "\n",
       "   form_field30  form_field31  form_field32  form_field33  form_field34  \\\n",
       "0        5962.0           NaN        1052.0        8.0000           2.0   \n",
       "1        5780.0           NaN        2554.0       17.5000           0.0   \n",
       "2           NaN       14508.0          70.0        0.6666           0.0   \n",
       "3           NaN           NaN         522.0        7.8334           1.0   \n",
       "4       12958.0        5202.0         272.0        1.0000           0.0   \n",
       "\n",
       "   form_field35  form_field36  form_field37  form_field38  form_field39  \\\n",
       "0           NaN          12.0          12.0           4.0           0.0   \n",
       "1           0.0          16.0          24.0           8.0           0.0   \n",
       "2           NaN          12.0           0.0           6.0           0.0   \n",
       "3           1.0           4.0           8.0           4.0           1.0   \n",
       "4           0.0          24.0           2.0          24.0           0.0   \n",
       "\n",
       "   form_field40  form_field41  form_field42  form_field43  form_field44  \\\n",
       "0           NaN           NaN      0.392854          2.02      0.711632   \n",
       "1           NaN           NaN      0.314281          8.08      0.183584   \n",
       "2      149.6805           NaN      0.162965         18.18      0.791136   \n",
       "3           NaN           NaN      0.488884          2.02      0.685168   \n",
       "4      150.0135           NaN      0.275000         12.12      0.438168   \n",
       "\n",
       "   form_field45  form_field46 form_field47  form_field48  form_field49  \\\n",
       "0           0.0           0.0       charge           NaN      1.129518   \n",
       "1           NaN           0.0       charge    349.805730      1.620483   \n",
       "2           0.0           0.0       charge           NaN      1.513370   \n",
       "3           NaN           0.0       charge     89.940100      0.664452   \n",
       "4           0.0           0.0       charge     97.887502      1.427891   \n",
       "\n",
       "   form_field50 default_status  \n",
       "0      0.044335             no  \n",
       "1      0.322436             no  \n",
       "2      0.011640            yes  \n",
       "3      0.082729             no  \n",
       "4      0.045630             no  "
      ]
     },
     "execution_count": 49,
     "metadata": {},
     "output_type": "execute_result"
    }
   ],
   "source": [
    "new_data.head()"
   ]
  },
  {
   "cell_type": "code",
   "execution_count": 50,
   "metadata": {},
   "outputs": [],
   "source": [
    "new_data['form_fieldn3'] = (new_data['form_field3'] + new_data['form_field4'] + new_data['form_field5'])/3\n",
    "new_data.drop([\"form_field3\",\"form_field4\",\"form_field5\"], axis =1, inplace = True)"
   ]
  },
  {
   "cell_type": "code",
   "execution_count": 51,
   "metadata": {},
   "outputs": [],
   "source": [
    "new_data.drop(['Applicant_ID',\"form_field41\",\"form_field40\",\"form_field31\",'form_field45','form_field11',\"form_field23\"], axis =1, inplace = True)"
   ]
  },
  {
   "cell_type": "code",
   "execution_count": 52,
   "metadata": {},
   "outputs": [],
   "source": [
    "new_data.drop([\"form_field46\",\"form_field39\",\"form_field34\"], axis =1, inplace = True)\n",
    "\n",
    "new_data.drop(['form_field13', 'form_field8','form_field21','form_field29','form_field19',\n",
    "           'form_field33', 'form_field9','form_field30','form_field43','form_field22',\n",
    "           'form_field37', 'form_field42','form_field24','form_field15','form_field6',\n",
    "           'form_field44', 'form_field36','form_field7','form_field38'], axis =1, inplace = True)"
   ]
  },
  {
   "cell_type": "code",
   "execution_count": 53,
   "metadata": {},
   "outputs": [],
   "source": [
    "missing_col = new_data.columns[new_data.isna().any()]\n",
    "missing_col = missing_col[:-1]\n",
    "\n",
    "\n",
    "for col in missing_col:\n",
    "    #new_data[col].fillna(method = 'ffill', inplace = True)\n",
    "    new_data[col].fillna(0, inplace = True)"
   ]
  },
  {
   "cell_type": "code",
   "execution_count": null,
   "metadata": {},
   "outputs": [],
   "source": []
  },
  {
   "cell_type": "code",
   "execution_count": null,
   "metadata": {},
   "outputs": [],
   "source": []
  },
  {
   "cell_type": "code",
   "execution_count": 54,
   "metadata": {},
   "outputs": [],
   "source": [
    "corr_matrix = new_data.corr()"
   ]
  },
  {
   "cell_type": "code",
   "execution_count": 55,
   "metadata": {},
   "outputs": [
    {
     "data": {
      "image/png": "[encoded data removed]",
      "text/plain": [
       "<Figure size 576x432 with 2 Axes>"
      ]
     },
     "metadata": {
      "needs_background": "light"
     },
     "output_type": "display_data"
    }
   ],
   "source": [
    "# Create correlation heatmap\n",
    "plt.figure(figsize=(8,6))\n",
    "plt.title('Correlation Heatmap of Iris Dataset')\n",
    "a = sns.heatmap(corr_matrix, square=True, annot=True, fmt='.2f', linecolor='black')\n",
    "a.set_xticklabels(a.get_xticklabels(), rotation=30)\n",
    "a.set_yticklabels(a.get_yticklabels(), rotation=30)           \n",
    "plt.show() "
   ]
  },
  {
   "cell_type": "code",
   "execution_count": 56,
   "metadata": {},
   "outputs": [],
   "source": [
    " # Select upper triangle of correlation matrix\n",
    "upper = corr_matrix.where(np.triu(np.ones(corr_matrix.shape), k=1).astype(np.bool))\n",
    "#upper  "
   ]
  },
  {
   "cell_type": "code",
   "execution_count": 57,
   "metadata": {},
   "outputs": [
    {
     "name": "stdout",
     "output_type": "stream",
     "text": [
      "['form_field17', 'form_field18', 'form_field26', 'form_field27', 'form_field32']\n"
     ]
    }
   ],
   "source": [
    "to_drop = [column for column in upper.columns if any(upper[column] > 0.7)]\n",
    "print(to_drop)"
   ]
  },
  {
   "cell_type": "code",
   "execution_count": null,
   "metadata": {},
   "outputs": [],
   "source": []
  },
  {
   "cell_type": "code",
   "execution_count": 58,
   "metadata": {},
   "outputs": [],
   "source": [
    "missing_col = new_data.columns[new_data.isna().any()]"
   ]
  },
  {
   "cell_type": "code",
   "execution_count": 59,
   "metadata": {},
   "outputs": [
    {
     "data": {
      "text/plain": [
       "Index([], dtype='object')"
      ]
     },
     "execution_count": 59,
     "metadata": {},
     "output_type": "execute_result"
    }
   ],
   "source": [
    "missing_col = missing_col[:-1]\n",
    "missing_col"
   ]
  },
  {
   "cell_type": "code",
   "execution_count": 60,
   "metadata": {},
   "outputs": [],
   "source": [
    "for col in missing_col:\n",
    "    #new_data[col].fillna(method = 'ffill', inplace = True)\n",
    "    new_data[col].fillna(0, inplace = True)"
   ]
  },
  {
   "cell_type": "code",
   "execution_count": null,
   "metadata": {},
   "outputs": [],
   "source": [
    "\n"
   ]
  },
  {
   "cell_type": "code",
   "execution_count": 61,
   "metadata": {},
   "outputs": [],
   "source": [
    "new_data.drop(['form_field10'], axis =1, inplace = True)\n",
    "new_data.drop(['form_field17','form_field18','form_field20','form_field26','form_field27','form_fieldn3'], axis =1, inplace = True)\n",
    "new_data.drop(['form_field32','form_field49'], axis =1, inplace = True)"
   ]
  },
  {
   "cell_type": "code",
   "execution_count": null,
   "metadata": {},
   "outputs": [],
   "source": []
  },
  {
   "cell_type": "code",
   "execution_count": 62,
   "metadata": {},
   "outputs": [
    {
     "data": {
      "text/html": [
       "<div>\n",
       "<style scoped>\n",
       "    .dataframe tbody tr th:only-of-type {\n",
       "        vertical-align: middle;\n",
       "    }\n",
       "\n",
       "    .dataframe tbody tr th {\n",
       "        vertical-align: top;\n",
       "    }\n",
       "\n",
       "    .dataframe thead th {\n",
       "        text-align: right;\n",
       "    }\n",
       "</style>\n",
       "<table border=\"1\" class=\"dataframe\">\n",
       "  <thead>\n",
       "    <tr style=\"text-align: right;\">\n",
       "      <th></th>\n",
       "      <th>form_field1</th>\n",
       "      <th>form_field2</th>\n",
       "      <th>form_field12</th>\n",
       "      <th>form_field14</th>\n",
       "      <th>form_field16</th>\n",
       "      <th>form_field25</th>\n",
       "      <th>form_field28</th>\n",
       "      <th>form_field35</th>\n",
       "      <th>form_field47</th>\n",
       "      <th>form_field48</th>\n",
       "      <th>form_field50</th>\n",
       "      <th>default_status</th>\n",
       "    </tr>\n",
       "  </thead>\n",
       "  <tbody>\n",
       "    <tr>\n",
       "      <th>0</th>\n",
       "      <td>3436.0</td>\n",
       "      <td>0.28505</td>\n",
       "      <td>2301324.0</td>\n",
       "      <td>96375139</td>\n",
       "      <td>1.0</td>\n",
       "      <td>4000.5</td>\n",
       "      <td>60.0</td>\n",
       "      <td>0.0</td>\n",
       "      <td>charge</td>\n",
       "      <td>0.000000</td>\n",
       "      <td>0.044335</td>\n",
       "      <td>no</td>\n",
       "    </tr>\n",
       "    <tr>\n",
       "      <th>1</th>\n",
       "      <td>3456.0</td>\n",
       "      <td>0.67400</td>\n",
       "      <td>3982971.0</td>\n",
       "      <td>28141427</td>\n",
       "      <td>1.0</td>\n",
       "      <td>4161.0</td>\n",
       "      <td>304.0</td>\n",
       "      <td>0.0</td>\n",
       "      <td>charge</td>\n",
       "      <td>349.805730</td>\n",
       "      <td>0.322436</td>\n",
       "      <td>no</td>\n",
       "    </tr>\n",
       "    <tr>\n",
       "      <th>2</th>\n",
       "      <td>3276.0</td>\n",
       "      <td>0.53845</td>\n",
       "      <td>0.0</td>\n",
       "      <td>16576457</td>\n",
       "      <td>0.0</td>\n",
       "      <td>1597.5</td>\n",
       "      <td>60.0</td>\n",
       "      <td>0.0</td>\n",
       "      <td>charge</td>\n",
       "      <td>0.000000</td>\n",
       "      <td>0.011640</td>\n",
       "      <td>yes</td>\n",
       "    </tr>\n",
       "    <tr>\n",
       "      <th>3</th>\n",
       "      <td>3372.0</td>\n",
       "      <td>0.17005</td>\n",
       "      <td>771776.0</td>\n",
       "      <td>48187375</td>\n",
       "      <td>0.0</td>\n",
       "      <td>1701.0</td>\n",
       "      <td>60.0</td>\n",
       "      <td>1.0</td>\n",
       "      <td>charge</td>\n",
       "      <td>89.940100</td>\n",
       "      <td>0.082729</td>\n",
       "      <td>no</td>\n",
       "    </tr>\n",
       "    <tr>\n",
       "      <th>4</th>\n",
       "      <td>3370.0</td>\n",
       "      <td>0.77270</td>\n",
       "      <td>818456.0</td>\n",
       "      <td>28141427</td>\n",
       "      <td>0.0</td>\n",
       "      <td>1551.0</td>\n",
       "      <td>60.0</td>\n",
       "      <td>0.0</td>\n",
       "      <td>charge</td>\n",
       "      <td>97.887502</td>\n",
       "      <td>0.045630</td>\n",
       "      <td>no</td>\n",
       "    </tr>\n",
       "    <tr>\n",
       "      <th>5</th>\n",
       "      <td>3724.0</td>\n",
       "      <td>0.00000</td>\n",
       "      <td>976390.0</td>\n",
       "      <td>16576457</td>\n",
       "      <td>0.0</td>\n",
       "      <td>2590.5</td>\n",
       "      <td>3772.0</td>\n",
       "      <td>0.0</td>\n",
       "      <td>lending</td>\n",
       "      <td>0.000000</td>\n",
       "      <td>0.000000</td>\n",
       "      <td>no</td>\n",
       "    </tr>\n",
       "    <tr>\n",
       "      <th>6</th>\n",
       "      <td>3350.0</td>\n",
       "      <td>0.24205</td>\n",
       "      <td>0.0</td>\n",
       "      <td>21973443</td>\n",
       "      <td>0.0</td>\n",
       "      <td>822.0</td>\n",
       "      <td>426.0</td>\n",
       "      <td>0.0</td>\n",
       "      <td>charge</td>\n",
       "      <td>0.000000</td>\n",
       "      <td>0.004390</td>\n",
       "      <td>yes</td>\n",
       "    </tr>\n",
       "    <tr>\n",
       "      <th>7</th>\n",
       "      <td>3416.0</td>\n",
       "      <td>0.87020</td>\n",
       "      <td>1284089.0</td>\n",
       "      <td>11564970</td>\n",
       "      <td>0.0</td>\n",
       "      <td>1498.5</td>\n",
       "      <td>548.0</td>\n",
       "      <td>1.0</td>\n",
       "      <td>charge</td>\n",
       "      <td>155.295994</td>\n",
       "      <td>0.128389</td>\n",
       "      <td>no</td>\n",
       "    </tr>\n",
       "    <tr>\n",
       "      <th>8</th>\n",
       "      <td>3376.0</td>\n",
       "      <td>0.29180</td>\n",
       "      <td>97639.0</td>\n",
       "      <td>11564970</td>\n",
       "      <td>0.0</td>\n",
       "      <td>1597.5</td>\n",
       "      <td>182.0</td>\n",
       "      <td>0.0</td>\n",
       "      <td>charge</td>\n",
       "      <td>0.000000</td>\n",
       "      <td>0.009990</td>\n",
       "      <td>no</td>\n",
       "    </tr>\n",
       "    <tr>\n",
       "      <th>9</th>\n",
       "      <td>3310.0</td>\n",
       "      <td>0.24395</td>\n",
       "      <td>0.0</td>\n",
       "      <td>11564970</td>\n",
       "      <td>0.0</td>\n",
       "      <td>502.5</td>\n",
       "      <td>182.0</td>\n",
       "      <td>1.0</td>\n",
       "      <td>charge</td>\n",
       "      <td>0.000000</td>\n",
       "      <td>0.000000</td>\n",
       "      <td>yes</td>\n",
       "    </tr>\n",
       "  </tbody>\n",
       "</table>\n",
       "</div>"
      ],
      "text/plain": [
       "   form_field1  form_field2  form_field12  form_field14  form_field16  \\\n",
       "0       3436.0      0.28505     2301324.0      96375139           1.0   \n",
       "1       3456.0      0.67400     3982971.0      28141427           1.0   \n",
       "2       3276.0      0.53845           0.0      16576457           0.0   \n",
       "3       3372.0      0.17005      771776.0      48187375           0.0   \n",
       "4       3370.0      0.77270      818456.0      28141427           0.0   \n",
       "5       3724.0      0.00000      976390.0      16576457           0.0   \n",
       "6       3350.0      0.24205           0.0      21973443           0.0   \n",
       "7       3416.0      0.87020     1284089.0      11564970           0.0   \n",
       "8       3376.0      0.29180       97639.0      11564970           0.0   \n",
       "9       3310.0      0.24395           0.0      11564970           0.0   \n",
       "\n",
       "   form_field25  form_field28  form_field35 form_field47  form_field48  \\\n",
       "0        4000.5          60.0           0.0       charge      0.000000   \n",
       "1        4161.0         304.0           0.0       charge    349.805730   \n",
       "2        1597.5          60.0           0.0       charge      0.000000   \n",
       "3        1701.0          60.0           1.0       charge     89.940100   \n",
       "4        1551.0          60.0           0.0       charge     97.887502   \n",
       "5        2590.5        3772.0           0.0      lending      0.000000   \n",
       "6         822.0         426.0           0.0       charge      0.000000   \n",
       "7        1498.5         548.0           1.0       charge    155.295994   \n",
       "8        1597.5         182.0           0.0       charge      0.000000   \n",
       "9         502.5         182.0           1.0       charge      0.000000   \n",
       "\n",
       "   form_field50 default_status  \n",
       "0      0.044335             no  \n",
       "1      0.322436             no  \n",
       "2      0.011640            yes  \n",
       "3      0.082729             no  \n",
       "4      0.045630             no  \n",
       "5      0.000000             no  \n",
       "6      0.004390            yes  \n",
       "7      0.128389             no  \n",
       "8      0.009990             no  \n",
       "9      0.000000            yes  "
      ]
     },
     "execution_count": 62,
     "metadata": {},
     "output_type": "execute_result"
    }
   ],
   "source": [
    "new_data.head(10)"
   ]
  },
  {
   "cell_type": "code",
   "execution_count": null,
   "metadata": {},
   "outputs": [],
   "source": [
    "\n"
   ]
  },
  {
   "cell_type": "code",
   "execution_count": null,
   "metadata": {},
   "outputs": [],
   "source": []
  },
  {
   "cell_type": "code",
   "execution_count": 63,
   "metadata": {},
   "outputs": [],
   "source": [
    "new_data.default_status[new_data.default_status == 'no'] = 0\n",
    "new_data.default_status[new_data.default_status == 'yes'] = 1"
   ]
  },
  {
   "cell_type": "code",
   "execution_count": 64,
   "metadata": {},
   "outputs": [],
   "source": [
    "new_data['default_status'] = new_data['default_status'].astype(int)"
   ]
  },
  {
   "cell_type": "code",
   "execution_count": 65,
   "metadata": {},
   "outputs": [],
   "source": [
    "new_data.groupby(['form_field35'])['default_status'].count() \n",
    "Mean_encoded_subject =new_data.groupby(['form_field35'])['default_status'].mean().to_dict() \n",
    "new_data['form_field35'] = new_data['form_field35'].map(Mean_encoded_subject) "
   ]
  },
  {
   "cell_type": "code",
   "execution_count": 66,
   "metadata": {},
   "outputs": [],
   "source": [
    "new_data.groupby(['form_field47'])['default_status'].count() \n",
    "Mean_encoded_subject =new_data.groupby(['form_field47'])['default_status'].mean().to_dict() \n",
    "new_data['form_field47'] = new_data['form_field47'].map(Mean_encoded_subject) "
   ]
  },
  {
   "cell_type": "code",
   "execution_count": null,
   "metadata": {},
   "outputs": [],
   "source": []
  },
  {
   "cell_type": "code",
   "execution_count": null,
   "metadata": {},
   "outputs": [],
   "source": []
  },
  {
   "cell_type": "code",
   "execution_count": 67,
   "metadata": {},
   "outputs": [],
   "source": [
    "from sklearn.model_selection import train_test_split"
   ]
  },
  {
   "cell_type": "code",
   "execution_count": 68,
   "metadata": {},
   "outputs": [],
   "source": [
    "train = new_data[0:56000]\n",
    "test = new_data[56000:]"
   ]
  },
  {
   "cell_type": "code",
   "execution_count": 69,
   "metadata": {},
   "outputs": [],
   "source": [
    "train.default_status[train.default_status == 'no'] = 0\n",
    "train.default_status[train.default_status == 'yes'] = 1"
   ]
  },
  {
   "cell_type": "code",
   "execution_count": 70,
   "metadata": {},
   "outputs": [],
   "source": [
    "train['default_status'] = train['default_status'].astype(int)"
   ]
  },
  {
   "cell_type": "code",
   "execution_count": null,
   "metadata": {},
   "outputs": [],
   "source": []
  },
  {
   "cell_type": "code",
   "execution_count": 71,
   "metadata": {},
   "outputs": [],
   "source": [
    "X = train.drop(['default_status'], axis =1)\n",
    "y = train['default_status']"
   ]
  },
  {
   "cell_type": "code",
   "execution_count": 72,
   "metadata": {},
   "outputs": [],
   "source": [
    "from sklearn.model_selection import train_test_split\n",
    "X_train, X_test, y_train, y_test = train_test_split(X, y, test_size=1/3, random_state=19)"
   ]
  },
  {
   "cell_type": "code",
   "execution_count": 73,
   "metadata": {},
   "outputs": [],
   "source": [
    "#from sklearn.preprocessing import StandardScaler,MinMaxScaler\n",
    "#from sklearn.preprocessing import RobustScaler\n",
    "\n",
    "\n",
    "\n",
    "#sc = MinMaxScaler()\n",
    "#X_train = sc.fit_transform(X_train)\n",
    "#X_test = sc.fit_transform(X_test)"
   ]
  },
  {
   "cell_type": "code",
   "execution_count": null,
   "metadata": {},
   "outputs": [],
   "source": []
  },
  {
   "cell_type": "code",
   "execution_count": null,
   "metadata": {},
   "outputs": [],
   "source": []
  },
  {
   "cell_type": "code",
   "execution_count": 74,
   "metadata": {},
   "outputs": [],
   "source": [
    "#import sklearn\n",
    "#sklearn.metrics.SCORERS.keys()"
   ]
  },
  {
   "cell_type": "code",
   "execution_count": null,
   "metadata": {},
   "outputs": [],
   "source": [
    "\n"
   ]
  },
  {
   "cell_type": "code",
   "execution_count": 75,
   "metadata": {},
   "outputs": [],
   "source": [
    "from sklearn.metrics import accuracy_score, f1_score, confusion_matrix, precision_score, classification_report, log_loss"
   ]
  },
  {
   "cell_type": "code",
   "execution_count": 76,
   "metadata": {},
   "outputs": [
    {
     "name": "stdout",
     "output_type": "stream",
     "text": [
      "Accuracy: -0.4214\n"
     ]
    }
   ],
   "source": [
    "from catboost import CatBoostClassifier\n",
    "from sklearn.model_selection import cross_val_score\n",
    "from sklearn.model_selection import RepeatedStratifiedKFold\n",
    "cat__model = CatBoostClassifier(silent=True, n_estimators= 2000,learning_rate= 0.009)\n",
    "cv = RepeatedStratifiedKFold(n_splits = 5, n_repeats = 3, random_state = 20000)\n",
    "n_scores = cross_val_score(cat__model,X_train,y_train, scoring = \"neg_log_loss\", cv=cv, n_jobs =1, error_score = \"raise\")\n",
    "print(\"Accuracy: {:.4f}\".format(np.mean(n_scores)))\n"
   ]
  },
  {
   "cell_type": "code",
   "execution_count": 79,
   "metadata": {},
   "outputs": [],
   "source": [
    "from catboost import Pool\n",
    "cat__model.fit(Pool(X_train,y_train))\n",
    "cat = cat__model.predict_proba(X_test)[:,1]\n"
   ]
  },
  {
   "cell_type": "code",
   "execution_count": 80,
   "metadata": {},
   "outputs": [
    {
     "name": "stdout",
     "output_type": "stream",
     "text": [
      "0.41983711551712516\n"
     ]
    }
   ],
   "source": [
    "#print(accuracy_score(y_test,cat))\n",
    "#print(classification_report(y_test,cat))\n",
    "print(log_loss(y_test,cat))"
   ]
  },
  {
   "cell_type": "code",
   "execution_count": null,
   "metadata": {},
   "outputs": [],
   "source": []
  },
  {
   "cell_type": "code",
   "execution_count": 81,
   "metadata": {},
   "outputs": [],
   "source": [
    "#plt.figure(num=None, figsize=(10,8), dpi=80, facecolor='w', edgecolor='k')\n",
    "\n",
    "#feat_importances = pd.Series(cat_model.feature_importances_, index= X.columns)\n",
    "\n",
    "#feat_importances.nlargest(24).plot(kind='barh')"
   ]
  },
  {
   "cell_type": "code",
   "execution_count": 82,
   "metadata": {},
   "outputs": [],
   "source": [
    "from sklearn.model_selection import StratifiedKFold\n",
    "from sklearn.metrics import roc_auc_score\n",
    "\n",
    "\n",
    "features = X_train.columns\n",
    "\n",
    "def metric(y,pred):\n",
    "    return roc_auc_score(y,pred, labels = [0,1])\n",
    "\n",
    "n_skf = 8\n",
    "kf = StratifiedKFold(n_skf)\n",
    "seed = 2020\n",
    "\n",
    "params = {'n_estimators':2000,\n",
    "          'learning_rate':0.009,\n",
    "          #'objective':'CrossEntropy',\n",
    "          'eval_metric':'AUC',\n",
    "          'random_seed':seed,\n",
    "          'early_stopping_rounds':200,\n",
    "          'use_best_model': True\n",
    "\n",
    "         }\n",
    "\n",
    "          "
   ]
  },
  {
   "cell_type": "code",
   "execution_count": null,
   "metadata": {},
   "outputs": [],
   "source": []
  },
  {
   "cell_type": "code",
   "execution_count": 83,
   "metadata": {},
   "outputs": [
    {
     "name": "stdout",
     "output_type": "stream",
     "text": [
      "0:\ttest: 0.7901657\tbest: 0.7901657 (0)\ttotal: 49.8ms\tremaining: 1m 39s\n",
      "100:\ttest: 0.8122528\tbest: 0.8122664 (99)\ttotal: 2.97s\tremaining: 55.8s\n",
      "200:\ttest: 0.8159336\tbest: 0.8159336 (200)\ttotal: 5.67s\tremaining: 50.7s\n",
      "300:\ttest: 0.8179648\tbest: 0.8179648 (300)\ttotal: 8.31s\tremaining: 46.9s\n",
      "400:\ttest: 0.8194000\tbest: 0.8194000 (400)\ttotal: 11s\tremaining: 44.1s\n",
      "500:\ttest: 0.8203713\tbest: 0.8203805 (499)\ttotal: 13.6s\tremaining: 40.8s\n",
      "600:\ttest: 0.8211225\tbest: 0.8211225 (600)\ttotal: 16.3s\tremaining: 38s\n",
      "700:\ttest: 0.8216382\tbest: 0.8216382 (700)\ttotal: 19.1s\tremaining: 35.5s\n",
      "800:\ttest: 0.8220745\tbest: 0.8220745 (800)\ttotal: 22.4s\tremaining: 33.5s\n",
      "900:\ttest: 0.8224203\tbest: 0.8224203 (900)\ttotal: 25.7s\tremaining: 31.3s\n",
      "1000:\ttest: 0.8227889\tbest: 0.8227889 (1000)\ttotal: 28.7s\tremaining: 28.6s\n",
      "1100:\ttest: 0.8231224\tbest: 0.8231224 (1100)\ttotal: 31.2s\tremaining: 25.5s\n",
      "1200:\ttest: 0.8234273\tbest: 0.8234321 (1199)\ttotal: 33.6s\tremaining: 22.3s\n",
      "1300:\ttest: 0.8237959\tbest: 0.8237959 (1300)\ttotal: 37.2s\tremaining: 20s\n",
      "1400:\ttest: 0.8240363\tbest: 0.8240388 (1399)\ttotal: 40.6s\tremaining: 17.3s\n",
      "1500:\ttest: 0.8242821\tbest: 0.8242821 (1500)\ttotal: 44.1s\tremaining: 14.7s\n",
      "1600:\ttest: 0.8244353\tbest: 0.8244383 (1595)\ttotal: 47.3s\tremaining: 11.8s\n",
      "1700:\ttest: 0.8244935\tbest: 0.8245023 (1699)\ttotal: 50.6s\tremaining: 8.89s\n",
      "1800:\ttest: 0.8245676\tbest: 0.8245676 (1800)\ttotal: 53.5s\tremaining: 5.91s\n",
      "1900:\ttest: 0.8246438\tbest: 0.8246438 (1900)\ttotal: 56.4s\tremaining: 2.94s\n",
      "1999:\ttest: 0.8247270\tbest: 0.8247270 (1999)\ttotal: 59.1s\tremaining: 0us\n",
      "\n",
      "bestTest = 0.824727015\n",
      "bestIteration = 1999\n",
      "\n",
      "Fold 0 : 0.8247270149767046\n",
      "0:\ttest: 0.7947953\tbest: 0.7947953 (0)\ttotal: 27.9ms\tremaining: 55.8s\n",
      "100:\ttest: 0.8187789\tbest: 0.8187789 (100)\ttotal: 2.64s\tremaining: 49.7s\n",
      "200:\ttest: 0.8226748\tbest: 0.8226748 (200)\ttotal: 5.1s\tremaining: 45.7s\n",
      "300:\ttest: 0.8248707\tbest: 0.8248707 (300)\ttotal: 7.49s\tremaining: 42.3s\n",
      "400:\ttest: 0.8262657\tbest: 0.8262657 (400)\ttotal: 11.1s\tremaining: 44.3s\n",
      "500:\ttest: 0.8273000\tbest: 0.8273028 (499)\ttotal: 13.5s\tremaining: 40.5s\n",
      "600:\ttest: 0.8280248\tbest: 0.8280248 (600)\ttotal: 15.9s\tremaining: 37s\n",
      "700:\ttest: 0.8285181\tbest: 0.8285181 (700)\ttotal: 18.4s\tremaining: 34.1s\n",
      "800:\ttest: 0.8289341\tbest: 0.8289341 (800)\ttotal: 20.8s\tremaining: 31.1s\n",
      "900:\ttest: 0.8293851\tbest: 0.8293851 (900)\ttotal: 23.1s\tremaining: 28.2s\n",
      "1000:\ttest: 0.8297743\tbest: 0.8297743 (1000)\ttotal: 25.6s\tremaining: 25.5s\n",
      "1100:\ttest: 0.8299866\tbest: 0.8299866 (1100)\ttotal: 27.9s\tremaining: 22.8s\n",
      "1200:\ttest: 0.8301667\tbest: 0.8301927 (1191)\ttotal: 30.3s\tremaining: 20.2s\n",
      "1300:\ttest: 0.8303652\tbest: 0.8303702 (1299)\ttotal: 32.7s\tremaining: 17.6s\n",
      "1400:\ttest: 0.8304804\tbest: 0.8304804 (1400)\ttotal: 35.1s\tremaining: 15s\n",
      "1500:\ttest: 0.8306661\tbest: 0.8306661 (1500)\ttotal: 37.5s\tremaining: 12.5s\n",
      "1600:\ttest: 0.8307871\tbest: 0.8307970 (1588)\ttotal: 40.1s\tremaining: 9.99s\n",
      "1700:\ttest: 0.8308371\tbest: 0.8308705 (1651)\ttotal: 43.1s\tremaining: 7.58s\n",
      "1800:\ttest: 0.8308852\tbest: 0.8308935 (1793)\ttotal: 45.8s\tremaining: 5.06s\n",
      "1900:\ttest: 0.8308843\tbest: 0.8309014 (1898)\ttotal: 48.5s\tremaining: 2.52s\n",
      "1999:\ttest: 0.8308491\tbest: 0.8309023 (1912)\ttotal: 51s\tremaining: 0us\n",
      "\n",
      "bestTest = 0.8309022622\n",
      "bestIteration = 1912\n",
      "\n",
      "Shrink model to first 1913 iterations.\n",
      "Fold 1 : 0.8309022622448676\n",
      "0:\ttest: 0.7851794\tbest: 0.7851794 (0)\ttotal: 37ms\tremaining: 1m 14s\n",
      "100:\ttest: 0.8133161\tbest: 0.8133161 (100)\ttotal: 2.64s\tremaining: 49.7s\n",
      "200:\ttest: 0.8164543\tbest: 0.8164543 (200)\ttotal: 5.26s\tremaining: 47.1s\n",
      "300:\ttest: 0.8188283\tbest: 0.8188283 (300)\ttotal: 8.2s\tremaining: 46.3s\n",
      "400:\ttest: 0.8201123\tbest: 0.8201127 (399)\ttotal: 10.8s\tremaining: 43.2s\n",
      "500:\ttest: 0.8210865\tbest: 0.8210865 (500)\ttotal: 13.3s\tremaining: 39.9s\n",
      "600:\ttest: 0.8219264\tbest: 0.8219264 (600)\ttotal: 15.8s\tremaining: 36.7s\n",
      "700:\ttest: 0.8224621\tbest: 0.8224621 (700)\ttotal: 18.1s\tremaining: 33.6s\n",
      "800:\ttest: 0.8229415\tbest: 0.8229415 (800)\ttotal: 20.5s\tremaining: 30.7s\n",
      "900:\ttest: 0.8233012\tbest: 0.8233034 (899)\ttotal: 22.9s\tremaining: 27.9s\n",
      "1000:\ttest: 0.8235493\tbest: 0.8235506 (998)\ttotal: 25.3s\tremaining: 25.2s\n",
      "1100:\ttest: 0.8237493\tbest: 0.8237565 (1099)\ttotal: 27.8s\tremaining: 22.7s\n",
      "1200:\ttest: 0.8239880\tbest: 0.8239880 (1200)\ttotal: 30.2s\tremaining: 20.1s\n",
      "1300:\ttest: 0.8242801\tbest: 0.8242801 (1300)\ttotal: 32.6s\tremaining: 17.5s\n",
      "1400:\ttest: 0.8244648\tbest: 0.8244648 (1400)\ttotal: 35s\tremaining: 15s\n",
      "1500:\ttest: 0.8246769\tbest: 0.8246769 (1500)\ttotal: 37.4s\tremaining: 12.4s\n",
      "1600:\ttest: 0.8247028\tbest: 0.8247206 (1564)\ttotal: 39.8s\tremaining: 9.91s\n",
      "1700:\ttest: 0.8247547\tbest: 0.8247547 (1700)\ttotal: 42.1s\tremaining: 7.41s\n",
      "1800:\ttest: 0.8248374\tbest: 0.8248481 (1796)\ttotal: 44.6s\tremaining: 4.92s\n",
      "1900:\ttest: 0.8249209\tbest: 0.8249335 (1892)\ttotal: 47s\tremaining: 2.45s\n",
      "1999:\ttest: 0.8249319\tbest: 0.8249406 (1950)\ttotal: 49.4s\tremaining: 0us\n",
      "\n",
      "bestTest = 0.8249406415\n",
      "bestIteration = 1950\n",
      "\n",
      "Shrink model to first 1951 iterations.\n",
      "Fold 2 : 0.824940641513149\n",
      "0:\ttest: 0.7765921\tbest: 0.7765921 (0)\ttotal: 81.9ms\tremaining: 2m 43s\n",
      "100:\ttest: 0.8074184\tbest: 0.8074184 (100)\ttotal: 3.86s\tremaining: 1m 12s\n",
      "200:\ttest: 0.8115027\tbest: 0.8115027 (200)\ttotal: 6.59s\tremaining: 59s\n",
      "300:\ttest: 0.8144512\tbest: 0.8144512 (300)\ttotal: 8.99s\tremaining: 50.8s\n",
      "400:\ttest: 0.8163819\tbest: 0.8163819 (400)\ttotal: 11.3s\tremaining: 45.2s\n",
      "500:\ttest: 0.8177636\tbest: 0.8177636 (500)\ttotal: 13.7s\tremaining: 41.1s\n",
      "600:\ttest: 0.8187635\tbest: 0.8187635 (600)\ttotal: 16.1s\tremaining: 37.6s\n",
      "700:\ttest: 0.8194735\tbest: 0.8194735 (700)\ttotal: 18.5s\tremaining: 34.3s\n",
      "800:\ttest: 0.8200940\tbest: 0.8200940 (800)\ttotal: 20.9s\tremaining: 31.3s\n",
      "900:\ttest: 0.8205014\tbest: 0.8205014 (900)\ttotal: 23.6s\tremaining: 28.8s\n",
      "1000:\ttest: 0.8209160\tbest: 0.8209160 (1000)\ttotal: 26.2s\tremaining: 26.2s\n",
      "1100:\ttest: 0.8212661\tbest: 0.8212661 (1100)\ttotal: 28.8s\tremaining: 23.6s\n",
      "1200:\ttest: 0.8215678\tbest: 0.8215678 (1200)\ttotal: 31.4s\tremaining: 20.9s\n",
      "1300:\ttest: 0.8218188\tbest: 0.8218188 (1300)\ttotal: 34.2s\tremaining: 18.4s\n",
      "1400:\ttest: 0.8219760\tbest: 0.8219926 (1396)\ttotal: 37s\tremaining: 15.8s\n",
      "1500:\ttest: 0.8221706\tbest: 0.8221842 (1493)\ttotal: 40.4s\tremaining: 13.4s\n",
      "1600:\ttest: 0.8222420\tbest: 0.8222494 (1583)\ttotal: 43.5s\tremaining: 10.8s\n",
      "1700:\ttest: 0.8223171\tbest: 0.8223388 (1678)\ttotal: 46.6s\tremaining: 8.18s\n",
      "1800:\ttest: 0.8223561\tbest: 0.8223608 (1793)\ttotal: 49.7s\tremaining: 5.49s\n",
      "1900:\ttest: 0.8223330\tbest: 0.8223916 (1830)\ttotal: 53.1s\tremaining: 2.77s\n",
      "1999:\ttest: 0.8223099\tbest: 0.8223916 (1830)\ttotal: 56.4s\tremaining: 0us\n",
      "\n",
      "bestTest = 0.8223916371\n",
      "bestIteration = 1830\n",
      "\n",
      "Shrink model to first 1831 iterations.\n",
      "Fold 3 : 0.8223916370977961\n",
      "0:\ttest: 0.7820363\tbest: 0.7820363 (0)\ttotal: 32.6ms\tremaining: 1m 5s\n",
      "100:\ttest: 0.8144554\tbest: 0.8144554 (100)\ttotal: 2.86s\tremaining: 53.8s\n",
      "200:\ttest: 0.8173916\tbest: 0.8173916 (200)\ttotal: 6.01s\tremaining: 53.8s\n",
      "300:\ttest: 0.8195585\tbest: 0.8195585 (300)\ttotal: 9.52s\tremaining: 53.7s\n",
      "400:\ttest: 0.8208752\tbest: 0.8208752 (400)\ttotal: 13.2s\tremaining: 52.7s\n",
      "500:\ttest: 0.8216327\tbest: 0.8216327 (500)\ttotal: 16.1s\tremaining: 48.3s\n",
      "600:\ttest: 0.8222139\tbest: 0.8222268 (598)\ttotal: 18.8s\tremaining: 43.7s\n",
      "700:\ttest: 0.8226039\tbest: 0.8226071 (699)\ttotal: 21.5s\tremaining: 39.9s\n",
      "800:\ttest: 0.8229782\tbest: 0.8229782 (800)\ttotal: 24.2s\tremaining: 36.2s\n",
      "900:\ttest: 0.8232339\tbest: 0.8232339 (900)\ttotal: 26.7s\tremaining: 32.6s\n",
      "1000:\ttest: 0.8234310\tbest: 0.8234391 (998)\ttotal: 29.2s\tremaining: 29.1s\n",
      "1100:\ttest: 0.8235605\tbest: 0.8235695 (1089)\ttotal: 31.7s\tremaining: 25.9s\n",
      "1200:\ttest: 0.8237185\tbest: 0.8237313 (1188)\ttotal: 34.7s\tremaining: 23.1s\n",
      "1300:\ttest: 0.8237905\tbest: 0.8237988 (1298)\ttotal: 37.7s\tremaining: 20.2s\n",
      "1400:\ttest: 0.8240321\tbest: 0.8240321 (1400)\ttotal: 40.6s\tremaining: 17.4s\n",
      "1500:\ttest: 0.8240830\tbest: 0.8241063 (1464)\ttotal: 43.4s\tremaining: 14.4s\n",
      "1600:\ttest: 0.8240026\tbest: 0.8241101 (1514)\ttotal: 47s\tremaining: 11.7s\n",
      "1700:\ttest: 0.8240078\tbest: 0.8241101 (1514)\ttotal: 50.1s\tremaining: 8.8s\n",
      "Stopped by overfitting detector  (200 iterations wait)\n",
      "\n",
      "bestTest = 0.8241101414\n",
      "bestIteration = 1514\n",
      "\n",
      "Shrink model to first 1515 iterations.\n",
      "Fold 4 : 0.8241101414493538\n",
      "0:\ttest: 0.7698197\tbest: 0.7698197 (0)\ttotal: 33.7ms\tremaining: 1m 7s\n",
      "100:\ttest: 0.8017559\tbest: 0.8017559 (100)\ttotal: 2.82s\tremaining: 53.1s\n"
     ]
    },
    {
     "name": "stdout",
     "output_type": "stream",
     "text": [
      "200:\ttest: 0.8045772\tbest: 0.8045772 (200)\ttotal: 5.94s\tremaining: 53.2s\n",
      "300:\ttest: 0.8068030\tbest: 0.8068030 (300)\ttotal: 9.09s\tremaining: 51.3s\n",
      "400:\ttest: 0.8085665\tbest: 0.8085665 (400)\ttotal: 11.9s\tremaining: 47.5s\n",
      "500:\ttest: 0.8095871\tbest: 0.8095913 (499)\ttotal: 15s\tremaining: 44.9s\n",
      "600:\ttest: 0.8103660\tbest: 0.8103660 (600)\ttotal: 18.2s\tremaining: 42.3s\n",
      "700:\ttest: 0.8109914\tbest: 0.8109914 (700)\ttotal: 20.6s\tremaining: 38.2s\n",
      "800:\ttest: 0.8114471\tbest: 0.8114471 (800)\ttotal: 23.1s\tremaining: 34.6s\n",
      "900:\ttest: 0.8118211\tbest: 0.8118211 (898)\ttotal: 26s\tremaining: 31.7s\n",
      "1000:\ttest: 0.8120732\tbest: 0.8120732 (1000)\ttotal: 28.6s\tremaining: 28.5s\n",
      "1100:\ttest: 0.8123964\tbest: 0.8123964 (1100)\ttotal: 31s\tremaining: 25.3s\n",
      "1200:\ttest: 0.8125404\tbest: 0.8125404 (1200)\ttotal: 33.4s\tremaining: 22.2s\n",
      "1300:\ttest: 0.8127364\tbest: 0.8127388 (1272)\ttotal: 35.8s\tremaining: 19.2s\n",
      "1400:\ttest: 0.8128384\tbest: 0.8128384 (1400)\ttotal: 38.2s\tremaining: 16.3s\n",
      "1500:\ttest: 0.8128700\tbest: 0.8129020 (1425)\ttotal: 40.6s\tremaining: 13.5s\n",
      "1600:\ttest: 0.8129204\tbest: 0.8129235 (1591)\ttotal: 43s\tremaining: 10.7s\n",
      "1700:\ttest: 0.8129125\tbest: 0.8129662 (1677)\ttotal: 45.9s\tremaining: 8.07s\n",
      "1800:\ttest: 0.8128167\tbest: 0.8129662 (1677)\ttotal: 50.6s\tremaining: 5.59s\n",
      "Stopped by overfitting detector  (200 iterations wait)\n",
      "\n",
      "bestTest = 0.812966231\n",
      "bestIteration = 1677\n",
      "\n",
      "Shrink model to first 1678 iterations.\n",
      "Fold 5 : 0.8129662309578515\n",
      "0:\ttest: 0.8005299\tbest: 0.8005299 (0)\ttotal: 25ms\tremaining: 50s\n",
      "100:\ttest: 0.8310699\tbest: 0.8310699 (100)\ttotal: 2.52s\tremaining: 47.4s\n",
      "200:\ttest: 0.8337553\tbest: 0.8337553 (200)\ttotal: 5.41s\tremaining: 48.4s\n",
      "300:\ttest: 0.8353581\tbest: 0.8353581 (300)\ttotal: 8.01s\tremaining: 45.2s\n",
      "400:\ttest: 0.8364472\tbest: 0.8364472 (400)\ttotal: 10.6s\tremaining: 42.1s\n",
      "500:\ttest: 0.8371919\tbest: 0.8371919 (500)\ttotal: 13s\tremaining: 38.8s\n",
      "600:\ttest: 0.8377640\tbest: 0.8377640 (600)\ttotal: 15.3s\tremaining: 35.6s\n",
      "700:\ttest: 0.8381720\tbest: 0.8381720 (700)\ttotal: 17.6s\tremaining: 32.7s\n",
      "800:\ttest: 0.8385186\tbest: 0.8385186 (800)\ttotal: 19.9s\tremaining: 29.8s\n",
      "900:\ttest: 0.8386837\tbest: 0.8386869 (899)\ttotal: 22.3s\tremaining: 27.2s\n",
      "1000:\ttest: 0.8388628\tbest: 0.8388664 (998)\ttotal: 24.7s\tremaining: 24.6s\n",
      "1100:\ttest: 0.8389890\tbest: 0.8389890 (1100)\ttotal: 27s\tremaining: 22.1s\n",
      "1200:\ttest: 0.8390864\tbest: 0.8390989 (1192)\ttotal: 29.4s\tremaining: 19.6s\n",
      "1300:\ttest: 0.8391243\tbest: 0.8391311 (1284)\ttotal: 31.8s\tremaining: 17.1s\n",
      "1400:\ttest: 0.8391227\tbest: 0.8391311 (1284)\ttotal: 34.4s\tremaining: 14.7s\n",
      "1500:\ttest: 0.8391471\tbest: 0.8391523 (1470)\ttotal: 37.2s\tremaining: 12.4s\n",
      "1600:\ttest: 0.8390925\tbest: 0.8391817 (1526)\ttotal: 39.7s\tremaining: 9.89s\n",
      "1700:\ttest: 0.8389583\tbest: 0.8391817 (1526)\ttotal: 42s\tremaining: 7.38s\n",
      "Stopped by overfitting detector  (200 iterations wait)\n",
      "\n",
      "bestTest = 0.8391817427\n",
      "bestIteration = 1526\n",
      "\n",
      "Shrink model to first 1527 iterations.\n",
      "Fold 6 : 0.8391817427065433\n",
      "0:\ttest: 0.7860864\tbest: 0.7860864 (0)\ttotal: 27.1ms\tremaining: 54.1s\n",
      "100:\ttest: 0.8143771\tbest: 0.8143771 (100)\ttotal: 2.41s\tremaining: 45.2s\n",
      "200:\ttest: 0.8188957\tbest: 0.8188957 (200)\ttotal: 4.78s\tremaining: 42.7s\n",
      "300:\ttest: 0.8217551\tbest: 0.8217551 (300)\ttotal: 7.13s\tremaining: 40.2s\n",
      "400:\ttest: 0.8236596\tbest: 0.8236596 (400)\ttotal: 9.54s\tremaining: 38s\n",
      "500:\ttest: 0.8248595\tbest: 0.8248595 (500)\ttotal: 11.9s\tremaining: 35.5s\n",
      "600:\ttest: 0.8256125\tbest: 0.8256125 (600)\ttotal: 14.3s\tremaining: 33.2s\n",
      "700:\ttest: 0.8261370\tbest: 0.8261370 (700)\ttotal: 16.8s\tremaining: 31.2s\n",
      "800:\ttest: 0.8266873\tbest: 0.8266884 (799)\ttotal: 19.4s\tremaining: 29.1s\n",
      "900:\ttest: 0.8270817\tbest: 0.8270817 (900)\ttotal: 21.9s\tremaining: 26.7s\n",
      "1000:\ttest: 0.8274144\tbest: 0.8274190 (999)\ttotal: 24.5s\tremaining: 24.5s\n",
      "1100:\ttest: 0.8276617\tbest: 0.8276689 (1097)\ttotal: 27.3s\tremaining: 22.3s\n",
      "1200:\ttest: 0.8279398\tbest: 0.8279437 (1198)\ttotal: 30s\tremaining: 19.9s\n",
      "1300:\ttest: 0.8281329\tbest: 0.8281329 (1300)\ttotal: 32.6s\tremaining: 17.5s\n",
      "1400:\ttest: 0.8283842\tbest: 0.8284011 (1394)\ttotal: 35.1s\tremaining: 15s\n",
      "1500:\ttest: 0.8285790\tbest: 0.8285808 (1499)\ttotal: 37.6s\tremaining: 12.5s\n",
      "1600:\ttest: 0.8286588\tbest: 0.8286595 (1599)\ttotal: 40.2s\tremaining: 10s\n",
      "1700:\ttest: 0.8286752\tbest: 0.8286860 (1607)\ttotal: 43.8s\tremaining: 7.7s\n",
      "1800:\ttest: 0.8286821\tbest: 0.8287001 (1792)\ttotal: 46.1s\tremaining: 5.1s\n",
      "1900:\ttest: 0.8287313\tbest: 0.8287405 (1858)\ttotal: 48.4s\tremaining: 2.52s\n",
      "1999:\ttest: 0.8287360\tbest: 0.8287485 (1944)\ttotal: 50.7s\tremaining: 0us\n",
      "\n",
      "bestTest = 0.8287485071\n",
      "bestIteration = 1944\n",
      "\n",
      "Shrink model to first 1945 iterations.\n",
      "Fold 7 : 0.8287485071065864\n",
      "Avg log:  0.8259960222566065\n"
     ]
    }
   ],
   "source": [
    "##CATBOOST CROSSVAL\n",
    "\n",
    "score_list = []\n",
    "score = 0\n",
    "test_oofs = []\n",
    "          \n",
    "          \n",
    "          \n",
    "for i, (tr_idx, vr_idx) in enumerate(kf.split(X,y)):\n",
    "          xtrain, ytrain = X.loc[tr_idx, features], y.loc[tr_idx]\n",
    "          xval,yval = X.loc[vr_idx, features], y.loc[vr_idx]\n",
    "          model = CatBoostClassifier(**params)\n",
    "          model.fit(xtrain, ytrain, eval_set = [(xval,yval)], verbose = 100)\n",
    "          \n",
    "          p = model.predict_proba(xval)[:,1]\n",
    "          sc = metric(yval,p)\n",
    "          score_list.append(sc)\n",
    "          score += sc/n_skf\n",
    "          \n",
    "          pred  = model.predict_proba(test)[:,1]\n",
    "          test_oofs.append(pred)\n",
    "          \n",
    "          \n",
    "          print('Fold {} : {}'.format(i,sc))\n",
    "          \n",
    "          \n",
    "print('Avg log: ', score)"
   ]
  },
  {
   "cell_type": "code",
   "execution_count": 84,
   "metadata": {},
   "outputs": [
    {
     "data": {
      "text/plain": [
       "'8 fold CV, score: 0.8259960222566065'"
      ]
     },
     "execution_count": 84,
     "metadata": {},
     "output_type": "execute_result"
    }
   ],
   "source": [
    "f\"{n_skf} fold CV, score: {score}\""
   ]
  },
  {
   "cell_type": "code",
   "execution_count": 85,
   "metadata": {},
   "outputs": [],
   "source": [
    "#oof_prediction = pd.DataFrame(test_oofs).T\n",
    "#oof_prediction.columns = ['fold_' + str(i) for i in range(1, n_skf + 1)]\n",
    "#oof_prediction.head()"
   ]
  },
  {
   "cell_type": "code",
   "execution_count": 86,
   "metadata": {},
   "outputs": [],
   "source": [
    "#df = pd.read_csv('SampleSubmission.csv')\n",
    "#df['default_status'] = np.mean(test_oofs, axis = 0)\n",
    "#df.to_csv('CATCrossVale.csv', index = False)"
   ]
  },
  {
   "cell_type": "code",
   "execution_count": 87,
   "metadata": {},
   "outputs": [
    {
     "name": "stdout",
     "output_type": "stream",
     "text": [
      "Accuracy: -0.4249\n"
     ]
    }
   ],
   "source": [
    "from lightgbm import LGBMClassifier\n",
    "from sklearn.model_selection import cross_val_score\n",
    "from sklearn.model_selection import RepeatedStratifiedKFold\n",
    "light_model = LGBMClassifier(silent = True, metric = \"binary_logloss\", num_iterations = 210, learning_rate = 0.025, num_leaves = 65, max_depth = 8)\n",
    "cv = RepeatedStratifiedKFold(n_splits = 7, n_repeats = 3, random_state = 20000)\n",
    "n_scores = cross_val_score(light_model,X_train,y_train, scoring = \"neg_log_loss\", cv=cv, n_jobs =2, error_score = \"raise\")\n",
    "print(\"Accuracy: {:.4f}\".format(np.mean(n_scores)))"
   ]
  },
  {
   "cell_type": "code",
   "execution_count": 88,
   "metadata": {},
   "outputs": [
    {
     "name": "stdout",
     "output_type": "stream",
     "text": [
      "0.42233321952318864\n"
     ]
    }
   ],
   "source": [
    "from lightgbm import LGBMClassifier\n",
    "import lightgbm as lgb\n",
    "d_train = lgb.Dataset(X_train, label = y_train)\n",
    "light_model.fit(X_train,y_train)\n",
    "light = light_model.predict_proba(X_test)[:,1]\n",
    "print(log_loss(y_test,light))\n",
    "#print(classification_report(y_test,light))"
   ]
  },
  {
   "cell_type": "code",
   "execution_count": null,
   "metadata": {},
   "outputs": [],
   "source": []
  },
  {
   "cell_type": "code",
   "execution_count": 89,
   "metadata": {},
   "outputs": [
    {
     "name": "stdout",
     "output_type": "stream",
     "text": [
      "Accuracy: 0.7998\n"
     ]
    }
   ],
   "source": [
    "from sklearn.experimental import enable_hist_gradient_boosting\n",
    "from sklearn.ensemble import HistGradientBoostingClassifier\n",
    "from sklearn.model_selection import cross_val_score\n",
    "from sklearn.model_selection import RepeatedStratifiedKFold\n",
    "h_model = HistGradientBoostingClassifier()\n",
    "cv = RepeatedStratifiedKFold(n_splits = 10, n_repeats = 3, random_state = 1)\n",
    "n_scores = cross_val_score(h_model,X_train,y_train, scoring = \"accuracy\", cv=cv, n_jobs =1, error_score = \"raise\")\n",
    "print(\"Accuracy: {:.4f}\".format(np.mean(n_scores)))\n"
   ]
  },
  {
   "cell_type": "code",
   "execution_count": 90,
   "metadata": {},
   "outputs": [
    {
     "data": {
      "text/plain": [
       "HistGradientBoostingClassifier(l2_regularization=0.0, learning_rate=0.1,\n",
       "                               loss='auto', max_bins=255, max_depth=None,\n",
       "                               max_iter=100, max_leaf_nodes=31,\n",
       "                               min_samples_leaf=20, n_iter_no_change=None,\n",
       "                               random_state=None, scoring=None, tol=1e-07,\n",
       "                               validation_fraction=0.1, verbose=0,\n",
       "                               warm_start=False)"
      ]
     },
     "execution_count": 90,
     "metadata": {},
     "output_type": "execute_result"
    }
   ],
   "source": [
    "h_model = HistGradientBoostingClassifier()\n",
    "h_model.fit(X_train,y_train)\n",
    "\n"
   ]
  },
  {
   "cell_type": "code",
   "execution_count": 91,
   "metadata": {},
   "outputs": [
    {
     "name": "stdout",
     "output_type": "stream",
     "text": [
      "0.42311195673022345\n"
     ]
    }
   ],
   "source": [
    "hist = h_model.predict_proba(X_test)[:,1]\n",
    "print(log_loss(y_test,hist))"
   ]
  },
  {
   "cell_type": "code",
   "execution_count": null,
   "metadata": {},
   "outputs": [],
   "source": []
  },
  {
   "cell_type": "code",
   "execution_count": null,
   "metadata": {},
   "outputs": [],
   "source": []
  },
  {
   "cell_type": "code",
   "execution_count": 92,
   "metadata": {},
   "outputs": [],
   "source": [
    "test.drop(['default_status'], axis = 1, inplace = True)"
   ]
  },
  {
   "cell_type": "code",
   "execution_count": 93,
   "metadata": {},
   "outputs": [],
   "source": [
    "from sklearn.ensemble import GradientBoostingClassifier\n",
    "ll = GradientBoostingClassifier(random_state = 10)\n",
    "from sklearn.model_selection import GridSearchCV\n",
    "\n",
    "parameter = {'learning_rate':[0.15,0.1,0.05,0.01,0.005,0.001], 'n_estimators': [100,250,500,750,1000,1250,1500,1750]}\n",
    "tune = GridSearchCV(estimator = GradientBoostingClassifier(max_depth = 7, min_samples_split = 2, min_samples_leaf = 2, subsample = 1, max_features = 'sqrt', random_state = 10), param_grid = parameter, scoring = 'neg_log_loss', n_jobs = 2, iid=False, cv=3)"
   ]
  },
  {
   "cell_type": "code",
   "execution_count": 94,
   "metadata": {},
   "outputs": [],
   "source": [
    "#tune.fit(X_train,y_train)\n",
    "#print(tune.best_params_)\n",
    "#print(tune.best_score_)"
   ]
  },
  {
   "cell_type": "code",
   "execution_count": 95,
   "metadata": {},
   "outputs": [],
   "source": [
    "gb_model = GradientBoostingClassifier(learning_rate = 0.005, n_estimators = 1250, max_depth = 5, min_samples_split = 2, min_samples_leaf = 1, subsample = 1, max_features = 'sqrt', random_state = 10)"
   ]
  },
  {
   "cell_type": "code",
   "execution_count": 96,
   "metadata": {},
   "outputs": [
    {
     "data": {
      "text/plain": [
       "GradientBoostingClassifier(ccp_alpha=0.0, criterion='friedman_mse', init=None,\n",
       "                           learning_rate=0.005, loss='deviance', max_depth=5,\n",
       "                           max_features='sqrt', max_leaf_nodes=None,\n",
       "                           min_impurity_decrease=0.0, min_impurity_split=None,\n",
       "                           min_samples_leaf=1, min_samples_split=2,\n",
       "                           min_weight_fraction_leaf=0.0, n_estimators=1250,\n",
       "                           n_iter_no_change=None, presort='deprecated',\n",
       "                           random_state=10, subsample=1, tol=0.0001,\n",
       "                           validation_fraction=0.1, verbose=0,\n",
       "                           warm_start=False)"
      ]
     },
     "execution_count": 96,
     "metadata": {},
     "output_type": "execute_result"
    }
   ],
   "source": [
    "gb_model.fit(X_train,y_train)\n"
   ]
  },
  {
   "cell_type": "code",
   "execution_count": 97,
   "metadata": {},
   "outputs": [
    {
     "name": "stdout",
     "output_type": "stream",
     "text": [
      "0.4220608334443221\n"
     ]
    }
   ],
   "source": [
    "pred = gb_model.predict_proba(X_test)[:,1]\n",
    "print(log_loss(y_test,pred))\n",
    "#accuracy_score(y_test, pred)"
   ]
  },
  {
   "cell_type": "code",
   "execution_count": null,
   "metadata": {},
   "outputs": [],
   "source": []
  },
  {
   "cell_type": "code",
   "execution_count": 98,
   "metadata": {},
   "outputs": [],
   "source": [
    "## CAtboostCroosval\n",
    "\n"
   ]
  },
  {
   "cell_type": "code",
   "execution_count": 99,
   "metadata": {},
   "outputs": [],
   "source": [
    "from sklearn.feature_selection import SelectKBest\n",
    "from sklearn.feature_selection import chi2\n",
    "X_new = SelectKBest(chi2, k= 5).fit_transform(X_train,y_train)"
   ]
  },
  {
   "cell_type": "code",
   "execution_count": 103,
   "metadata": {},
   "outputs": [
    {
     "data": {
      "text/plain": [
       "array([[2.19590500e+06, 9.63751390e+07, 6.07720000e+04, 0.00000000e+00,\n",
       "        2.43995008e-02],\n",
       "       [1.05496800e+06, 7.70998000e+07, 6.07720000e+04, 1.37886289e+04,\n",
       "        6.13501506e-01],\n",
       "       [4.91073600e+06, 3.46949100e+07, 6.07720000e+04, 3.09550242e+03,\n",
       "        7.14463493e-01],\n",
       "       ...,\n",
       "       [2.38651500e+06, 1.73474550e+07, 6.07720000e+04, 2.38651500e+06,\n",
       "        0.00000000e+00],\n",
       "       [0.00000000e+00, 1.16700000e+03, 0.00000000e+00, 0.00000000e+00,\n",
       "        1.08906760e+03],\n",
       "       [0.00000000e+00, 1.16700000e+03, 6.00000000e+01, 0.00000000e+00,\n",
       "        3.30050559e+02]])"
      ]
     },
     "execution_count": 103,
     "metadata": {},
     "output_type": "execute_result"
    }
   ],
   "source": [
    "X_new\n"
   ]
  },
  {
   "cell_type": "code",
   "execution_count": 102,
   "metadata": {},
   "outputs": [
    {
     "data": {
      "text/html": [
       "<div>\n",
       "<style scoped>\n",
       "    .dataframe tbody tr th:only-of-type {\n",
       "        vertical-align: middle;\n",
       "    }\n",
       "\n",
       "    .dataframe tbody tr th {\n",
       "        vertical-align: top;\n",
       "    }\n",
       "\n",
       "    .dataframe thead th {\n",
       "        text-align: right;\n",
       "    }\n",
       "</style>\n",
       "<table border=\"1\" class=\"dataframe\">\n",
       "  <thead>\n",
       "    <tr style=\"text-align: right;\">\n",
       "      <th></th>\n",
       "      <th>form_field1</th>\n",
       "      <th>form_field2</th>\n",
       "      <th>form_field12</th>\n",
       "      <th>form_field14</th>\n",
       "      <th>form_field16</th>\n",
       "      <th>form_field25</th>\n",
       "      <th>form_field28</th>\n",
       "      <th>form_field35</th>\n",
       "      <th>form_field47</th>\n",
       "      <th>form_field48</th>\n",
       "      <th>form_field50</th>\n",
       "    </tr>\n",
       "  </thead>\n",
       "  <tbody>\n",
       "    <tr>\n",
       "      <th>24986</th>\n",
       "      <td>3776.0</td>\n",
       "      <td>0.30910</td>\n",
       "      <td>2195905.0</td>\n",
       "      <td>96375139</td>\n",
       "      <td>0.0</td>\n",
       "      <td>2121.0</td>\n",
       "      <td>60772.0</td>\n",
       "      <td>0.154159</td>\n",
       "      <td>0.222357</td>\n",
       "      <td>0.000000e+00</td>\n",
       "      <td>0.024400</td>\n",
       "    </tr>\n",
       "    <tr>\n",
       "      <th>16196</th>\n",
       "      <td>3748.0</td>\n",
       "      <td>0.04290</td>\n",
       "      <td>1054968.0</td>\n",
       "      <td>77099800</td>\n",
       "      <td>0.0</td>\n",
       "      <td>2284.5</td>\n",
       "      <td>60772.0</td>\n",
       "      <td>0.154159</td>\n",
       "      <td>0.222357</td>\n",
       "      <td>1.378863e+04</td>\n",
       "      <td>0.613502</td>\n",
       "    </tr>\n",
       "    <tr>\n",
       "      <th>48255</th>\n",
       "      <td>3646.0</td>\n",
       "      <td>0.30220</td>\n",
       "      <td>4910736.0</td>\n",
       "      <td>34694910</td>\n",
       "      <td>0.0</td>\n",
       "      <td>2301.0</td>\n",
       "      <td>60772.0</td>\n",
       "      <td>0.154159</td>\n",
       "      <td>0.077699</td>\n",
       "      <td>3.095502e+03</td>\n",
       "      <td>0.714463</td>\n",
       "    </tr>\n",
       "    <tr>\n",
       "      <th>43905</th>\n",
       "      <td>3624.0</td>\n",
       "      <td>0.00000</td>\n",
       "      <td>0.0</td>\n",
       "      <td>16576457</td>\n",
       "      <td>0.0</td>\n",
       "      <td>0.0</td>\n",
       "      <td>60772.0</td>\n",
       "      <td>0.154159</td>\n",
       "      <td>0.222357</td>\n",
       "      <td>0.000000e+00</td>\n",
       "      <td>0.000000</td>\n",
       "    </tr>\n",
       "    <tr>\n",
       "      <th>7518</th>\n",
       "      <td>0.0</td>\n",
       "      <td>0.20710</td>\n",
       "      <td>100751.0</td>\n",
       "      <td>9637475</td>\n",
       "      <td>0.0</td>\n",
       "      <td>228.0</td>\n",
       "      <td>0.0</td>\n",
       "      <td>0.154159</td>\n",
       "      <td>0.222357</td>\n",
       "      <td>7.719792e+00</td>\n",
       "      <td>0.000000</td>\n",
       "    </tr>\n",
       "    <tr>\n",
       "      <th>...</th>\n",
       "      <td>...</td>\n",
       "      <td>...</td>\n",
       "      <td>...</td>\n",
       "      <td>...</td>\n",
       "      <td>...</td>\n",
       "      <td>...</td>\n",
       "      <td>...</td>\n",
       "      <td>...</td>\n",
       "      <td>...</td>\n",
       "      <td>...</td>\n",
       "      <td>...</td>\n",
       "    </tr>\n",
       "    <tr>\n",
       "      <th>33811</th>\n",
       "      <td>3378.0</td>\n",
       "      <td>1.00920</td>\n",
       "      <td>371884.0</td>\n",
       "      <td>28912425</td>\n",
       "      <td>0.0</td>\n",
       "      <td>2145.0</td>\n",
       "      <td>60.0</td>\n",
       "      <td>0.154159</td>\n",
       "      <td>0.222357</td>\n",
       "      <td>2.568969e+01</td>\n",
       "      <td>0.013333</td>\n",
       "    </tr>\n",
       "    <tr>\n",
       "      <th>21416</th>\n",
       "      <td>3786.0</td>\n",
       "      <td>0.00000</td>\n",
       "      <td>379275.0</td>\n",
       "      <td>77099800</td>\n",
       "      <td>0.0</td>\n",
       "      <td>1581.0</td>\n",
       "      <td>60772.0</td>\n",
       "      <td>0.154159</td>\n",
       "      <td>0.077699</td>\n",
       "      <td>0.000000e+00</td>\n",
       "      <td>0.047750</td>\n",
       "    </tr>\n",
       "    <tr>\n",
       "      <th>34146</th>\n",
       "      <td>3766.0</td>\n",
       "      <td>0.00000</td>\n",
       "      <td>2386515.0</td>\n",
       "      <td>17347455</td>\n",
       "      <td>0.0</td>\n",
       "      <td>3064.5</td>\n",
       "      <td>60772.0</td>\n",
       "      <td>0.154159</td>\n",
       "      <td>0.077699</td>\n",
       "      <td>2.386515e+06</td>\n",
       "      <td>0.000000</td>\n",
       "    </tr>\n",
       "    <tr>\n",
       "      <th>17141</th>\n",
       "      <td>3326.0</td>\n",
       "      <td>0.96130</td>\n",
       "      <td>0.0</td>\n",
       "      <td>1167</td>\n",
       "      <td>0.0</td>\n",
       "      <td>1392.0</td>\n",
       "      <td>0.0</td>\n",
       "      <td>0.154159</td>\n",
       "      <td>0.222357</td>\n",
       "      <td>0.000000e+00</td>\n",
       "      <td>1089.067604</td>\n",
       "    </tr>\n",
       "    <tr>\n",
       "      <th>10862</th>\n",
       "      <td>3224.0</td>\n",
       "      <td>0.05325</td>\n",
       "      <td>0.0</td>\n",
       "      <td>1167</td>\n",
       "      <td>0.0</td>\n",
       "      <td>2326.5</td>\n",
       "      <td>60.0</td>\n",
       "      <td>0.154159</td>\n",
       "      <td>0.077699</td>\n",
       "      <td>0.000000e+00</td>\n",
       "      <td>330.050559</td>\n",
       "    </tr>\n",
       "  </tbody>\n",
       "</table>\n",
       "<p>37333 rows × 11 columns</p>\n",
       "</div>"
      ],
      "text/plain": [
       "       form_field1  form_field2  form_field12  form_field14  form_field16  \\\n",
       "24986       3776.0      0.30910     2195905.0      96375139           0.0   \n",
       "16196       3748.0      0.04290     1054968.0      77099800           0.0   \n",
       "48255       3646.0      0.30220     4910736.0      34694910           0.0   \n",
       "43905       3624.0      0.00000           0.0      16576457           0.0   \n",
       "7518           0.0      0.20710      100751.0       9637475           0.0   \n",
       "...            ...          ...           ...           ...           ...   \n",
       "33811       3378.0      1.00920      371884.0      28912425           0.0   \n",
       "21416       3786.0      0.00000      379275.0      77099800           0.0   \n",
       "34146       3766.0      0.00000     2386515.0      17347455           0.0   \n",
       "17141       3326.0      0.96130           0.0          1167           0.0   \n",
       "10862       3224.0      0.05325           0.0          1167           0.0   \n",
       "\n",
       "       form_field25  form_field28  form_field35  form_field47  form_field48  \\\n",
       "24986        2121.0       60772.0      0.154159      0.222357  0.000000e+00   \n",
       "16196        2284.5       60772.0      0.154159      0.222357  1.378863e+04   \n",
       "48255        2301.0       60772.0      0.154159      0.077699  3.095502e+03   \n",
       "43905           0.0       60772.0      0.154159      0.222357  0.000000e+00   \n",
       "7518          228.0           0.0      0.154159      0.222357  7.719792e+00   \n",
       "...             ...           ...           ...           ...           ...   \n",
       "33811        2145.0          60.0      0.154159      0.222357  2.568969e+01   \n",
       "21416        1581.0       60772.0      0.154159      0.077699  0.000000e+00   \n",
       "34146        3064.5       60772.0      0.154159      0.077699  2.386515e+06   \n",
       "17141        1392.0           0.0      0.154159      0.222357  0.000000e+00   \n",
       "10862        2326.5          60.0      0.154159      0.077699  0.000000e+00   \n",
       "\n",
       "       form_field50  \n",
       "24986      0.024400  \n",
       "16196      0.613502  \n",
       "48255      0.714463  \n",
       "43905      0.000000  \n",
       "7518       0.000000  \n",
       "...             ...  \n",
       "33811      0.013333  \n",
       "21416      0.047750  \n",
       "34146      0.000000  \n",
       "17141   1089.067604  \n",
       "10862    330.050559  \n",
       "\n",
       "[37333 rows x 11 columns]"
      ]
     },
     "execution_count": 102,
     "metadata": {},
     "output_type": "execute_result"
    }
   ],
   "source": []
  },
  {
   "cell_type": "code",
   "execution_count": null,
   "metadata": {},
   "outputs": [],
   "source": []
  },
  {
   "cell_type": "code",
   "execution_count": null,
   "metadata": {},
   "outputs": [],
   "source": []
  },
  {
   "cell_type": "code",
   "execution_count": null,
   "metadata": {},
   "outputs": [],
   "source": [
    "from sklearn.metrics import log_loss\n",
    "print('CatBoost Log loss: {}'.format(log_loss(y_test, cat_model.predict_proba(X_test)[:,1])))\n",
    "#print('LGBM Log loss: {}'.format(log_loss(y_test, light_model.predict_proba(X_test)[:,1])))\n",
    "#print('Hist Log loss: {}'.format(log_loss(y_test, h_model.predict_proba(X_test)[:,1])))\n",
    "#print('GradientBoostingClassifier Log loss: {}'.format(log_loss(y_test, gb_model.predict_proba(X_test)[:,1])))\n",
    "print('CatBoostOutofFold Log loss Log loss: {}'.format(log_loss(y_test, model.predict_proba(X_test)[:,1])))"
   ]
  },
  {
   "cell_type": "code",
   "execution_count": null,
   "metadata": {},
   "outputs": [],
   "source": []
  },
  {
   "cell_type": "code",
   "execution_count": null,
   "metadata": {},
   "outputs": [],
   "source": [
    "test.drop(['default_status'],axis=1, inplace = True)"
   ]
  },
  {
   "cell_type": "code",
   "execution_count": null,
   "metadata": {},
   "outputs": [],
   "source": []
  },
  {
   "cell_type": "code",
   "execution_count": null,
   "metadata": {},
   "outputs": [],
   "source": [
    "r_pred = cat_model.predict_proba(X_test)[:,1]\n",
    "l_pred = light_model.predict_proba(X_test)[:,1]\n",
    "h_pred = h_model.predict_proba(X_test)[:,1]\n",
    "gb_pred = gb_model.predict_proba(X_test)[:,1]\n",
    "pred = model.predict_proba(X_test)[:,1]"
   ]
  },
  {
   "cell_type": "code",
   "execution_count": null,
   "metadata": {},
   "outputs": [],
   "source": [
    "real_pred1 = cat_model.predict_proba(test)[:,1]\n",
    "real_pred2 = light_model.predict_proba(test)[:,1]\n",
    "real_pred3 = h_model.predict_proba(test)[:,1]\n",
    "real_pred4 = gb_model.predict_proba(test)[:,1]\n",
    "real_pred5 = model.predict_proba(test)[:,1]"
   ]
  },
  {
   "cell_type": "code",
   "execution_count": null,
   "metadata": {},
   "outputs": [],
   "source": [
    "stacked_predictions = np.column_stack((r_pred,l_pred,h_pred,gb_pred,pred))\n",
    "stacked_testpred = np.column_stack((real_pred1,real_pred2,real_pred3,real_pred4,real_pred5))"
   ]
  },
  {
   "cell_type": "code",
   "execution_count": null,
   "metadata": {},
   "outputs": [],
   "source": [
    "cat_model.fit(stacked_predictions,y_test)"
   ]
  },
  {
   "cell_type": "code",
   "execution_count": null,
   "metadata": {},
   "outputs": [],
   "source": [
    "finalpred2 = cat_model.predict_proba(stacked_testpred)[:,1]"
   ]
  },
  {
   "cell_type": "code",
   "execution_count": null,
   "metadata": {},
   "outputs": [],
   "source": []
  },
  {
   "cell_type": "code",
   "execution_count": null,
   "metadata": {},
   "outputs": [],
   "source": []
  },
  {
   "cell_type": "code",
   "execution_count": null,
   "metadata": {},
   "outputs": [],
   "source": []
  },
  {
   "cell_type": "code",
   "execution_count": null,
   "metadata": {},
   "outputs": [],
   "source": []
  },
  {
   "cell_type": "code",
   "execution_count": null,
   "metadata": {},
   "outputs": [],
   "source": []
  },
  {
   "cell_type": "code",
   "execution_count": null,
   "metadata": {},
   "outputs": [],
   "source": []
  },
  {
   "cell_type": "code",
   "execution_count": null,
   "metadata": {},
   "outputs": [],
   "source": []
  },
  {
   "cell_type": "code",
   "execution_count": null,
   "metadata": {},
   "outputs": [],
   "source": [
    "#test_prediction = cat_model.predict_proba(test)[:,-1]\n",
    "test_prediction = light_model.predict_proba(test)[:,-1]"
   ]
  },
  {
   "cell_type": "code",
   "execution_count": null,
   "metadata": {},
   "outputs": [],
   "source": [
    "df = pd.read_csv('Test.csv')\n",
    "output = pd.DataFrame({'Applicant_ID' : df['Applicant_ID'], \"default_status\": finalpred2})\n",
    "output.head(20)"
   ]
  },
  {
   "cell_type": "code",
   "execution_count": null,
   "metadata": {},
   "outputs": [],
   "source": [
    "output.to_csv('Stack2Cat.csv', index = False)"
   ]
  },
  {
   "cell_type": "code",
   "execution_count": null,
   "metadata": {},
   "outputs": [],
   "source": []
  }
 ],
 "metadata": {
  "kernelspec": {
   "display_name": "Python 3",
   "language": "python",
   "name": "python3"
  },
  "language_info": {
   "codemirror_mode": {
    "name": "ipython",
    "version": 3
   },
   "file_extension": ".py",
   "mimetype": "text/x-python",
   "name": "python",
   "nbconvert_exporter": "python",
   "pygments_lexer": "ipython3",
   "version": "3.7.6"
  }
 },
 "nbformat": 4,
 "nbformat_minor": 4
}
