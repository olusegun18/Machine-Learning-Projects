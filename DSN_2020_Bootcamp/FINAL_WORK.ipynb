{
 "cells": [
  {
   "cell_type": "code",
   "execution_count": 1,
   "metadata": {
    "id": "XxsFNhWbt4CK"
   },
   "outputs": [],
   "source": [
    "import numpy as np\n",
    "import pandas as pd\n",
    "import matplotlib.pyplot as plt\n",
    "%matplotlib inline\n",
    "import seaborn as sns\n",
    "import warnings\n",
    "warnings.filterwarnings('ignore')\n",
    "pd.options.display.max_columns = 80\n",
    "pd.options.display.max_rows = 81"
   ]
  },
  {
   "cell_type": "code",
   "execution_count": 2,
   "metadata": {
    "id": "i_TNxhrEt4CQ"
   },
   "outputs": [],
   "source": [
    "data = pd.read_csv('Train.csv')\n",
    "data2 = pd.read_csv('Test.csv')"
   ]
  },
  {
   "cell_type": "code",
   "execution_count": 3,
   "metadata": {
    "colab": {
     "base_uri": "https://localhost:8080/",
     "height": 34
    },
    "id": "XdK6BXoKt4CT",
    "outputId": "ce0ce18d-66d1-4fdb-ab80-eb6639525727"
   },
   "outputs": [
    {
     "data": {
      "text/plain": [
       "(80000, 52)"
      ]
     },
     "execution_count": 3,
     "metadata": {},
     "output_type": "execute_result"
    }
   ],
   "source": [
    "new_data = pd.concat([data,data2]).reset_index(drop=True)\n",
    "new_data.shape"
   ]
  },
  {
   "cell_type": "code",
   "execution_count": 4,
   "metadata": {
    "id": "7GmzQGnst4CY"
   },
   "outputs": [],
   "source": [
    "new_data.drop(['Applicant_ID'], axis =1, inplace = True)\n",
    "data.drop(['Applicant_ID'], axis =1, inplace = True)\n",
    "data2.drop(['Applicant_ID'], axis =1, inplace = True)\n"
   ]
  },
  {
   "cell_type": "code",
   "execution_count": 5,
   "metadata": {
    "id": "A4Pg0hqbt4Cc"
   },
   "outputs": [],
   "source": [
    "#new_data.drop(['form_field5', 'form_field10', 'form_field17', \n",
    "               #'form_field18', 'form_field20', 'form_field22', \n",
    "               #'form_field23', 'form_field26', 'form_field27', \n",
    "               #'form_field28', 'form_field29', 'form_field32', \n",
    "               #'form_field37', 'form_field39', 'form_field46', 'form_field49'], axis =1, inplace = True)\n",
    "                \n",
    "## Drop rows with much missing values > 70%\n",
    "new_data.drop([\"form_field40\"], axis =1, inplace = True)\n",
    "new_data.drop([\"form_field31\"], axis =1, inplace = True)\n",
    "#new_data.drop([\"form_field40\",\"form_field41\", 'form_field31','form_field45',\"form_field11\"], axis =1, inplace = True)\n"
   ]
  },
  {
   "cell_type": "code",
   "execution_count": 6,
   "metadata": {
    "id": "8HyaHk3ct4Co"
   },
   "outputs": [],
   "source": [
    "#pd.crosstab(new_data.form_field44, new_data.default_status)\n",
    "#pd.crosstab(new_data.form_field5, new_data.default_status)"
   ]
  },
  {
   "cell_type": "code",
   "execution_count": 7,
   "metadata": {
    "id": "jretIDWLt4Cr"
   },
   "outputs": [],
   "source": [
    "new_data['forma'] = new_data['form_field6'] + new_data['form_field7']+ new_data['form_field8']+ new_data['form_field9']+new_data['form_field12']\n",
    "    \n",
    "#new_data.drop([\"form_field6\",\"form_field7\", 'form_field8','form_field12'], axis =1, inplace = True)"
   ]
  },
  {
   "cell_type": "code",
   "execution_count": 8,
   "metadata": {
    "id": "pCoTplf3t4Cv"
   },
   "outputs": [],
   "source": [
    "new_data['formb'] = new_data['form_field21'] + new_data['form_field24']+ new_data['form_field25']\n",
    "#new_data.drop([\"form_field21\",\"form_field24\", 'form_field25'], axis =1, inplace = True)"
   ]
  },
  {
   "cell_type": "code",
   "execution_count": 9,
   "metadata": {
    "id": "l8MAxEOLt4Cy"
   },
   "outputs": [],
   "source": [
    "new_data['formc'] = new_data['form_field48'] + new_data['form_field50']\n",
    "new_data.drop([\"form_field48\", 'form_field50'], axis =1, inplace = True)\n",
    "\n",
    "\n",
    "new_data['formd'] = new_data['forma'] + new_data['formb'] + new_data['formc']"
   ]
  },
  {
   "cell_type": "code",
   "execution_count": null,
   "metadata": {
    "id": "3ob8R4Vat4C1"
   },
   "outputs": [],
   "source": []
  },
  {
   "cell_type": "code",
   "execution_count": 10,
   "metadata": {
    "id": "_t4JZ9odt4C8"
   },
   "outputs": [],
   "source": [
    "list1 = ['form_field2','form_field3','form_field4', 'form_field9',\n",
    "        'form_field13','form_field16','form_field19','form_field34','form_field35',\n",
    "        'form_field36','form_field38','form_field42']\n",
    "for col in list1:\n",
    "    #new_data[col].fillna(method = 'ffill', inplace = True)\n",
    "    new_data[col].fillna(0, inplace = True)\n"
   ]
  },
  {
   "cell_type": "code",
   "execution_count": 11,
   "metadata": {
    "id": "666-G2KOt4C_"
   },
   "outputs": [],
   "source": [
    "list2 = ['forma','formb','formc','formd','form_field15','form_field33','form_field44']\n",
    "for col in list2:\n",
    "    #new_data[col].fillna(method = 'ffill', inplace = True)\n",
    "    new_data[col].fillna(new_data[col].median(), inplace = True)"
   ]
  },
  {
   "cell_type": "code",
   "execution_count": 12,
   "metadata": {
    "id": "CKvLH_X1t4DC"
   },
   "outputs": [],
   "source": [
    "mcolumns = new_data.columns[new_data.isna().any()]\n",
    "mcolumns = mcolumns[:-1]\n",
    "\n",
    "\n",
    "for column in mcolumns:\n",
    "    #new_data[col].fillna(method = 'ffill', inplace = True)\n",
    "    new_data[column].fillna(-999, inplace = True)"
   ]
  },
  {
   "cell_type": "code",
   "execution_count": 13,
   "metadata": {
    "colab": {
     "base_uri": "https://localhost:8080/",
     "height": 265
    },
    "id": "AoMyThs2t4DF",
    "outputId": "1cd02dd0-2710-4138-d8ed-b63ccd30cf75"
   },
   "outputs": [
    {
     "data": {
      "text/plain": [
       "Index(['form_field1', 'form_field2', 'form_field3', 'form_field4',\n",
       "       'form_field5', 'form_field6', 'form_field7', 'form_field8',\n",
       "       'form_field9', 'form_field10', 'form_field11', 'form_field12',\n",
       "       'form_field13', 'form_field14', 'form_field15', 'form_field16',\n",
       "       'form_field17', 'form_field18', 'form_field19', 'form_field20',\n",
       "       'form_field21', 'form_field22', 'form_field23', 'form_field24',\n",
       "       'form_field25', 'form_field26', 'form_field27', 'form_field28',\n",
       "       'form_field29', 'form_field30', 'form_field32', 'form_field33',\n",
       "       'form_field34', 'form_field35', 'form_field36', 'form_field37',\n",
       "       'form_field38', 'form_field39', 'form_field41', 'form_field42',\n",
       "       'form_field43', 'form_field44', 'form_field45', 'form_field46',\n",
       "       'form_field47', 'form_field49', 'default_status', 'forma', 'formb',\n",
       "       'formc', 'formd'],\n",
       "      dtype='object')"
      ]
     },
     "execution_count": 13,
     "metadata": {},
     "output_type": "execute_result"
    }
   ],
   "source": [
    "new_data.columns"
   ]
  },
  {
   "cell_type": "code",
   "execution_count": 14,
   "metadata": {
    "colab": {
     "base_uri": "https://localhost:8080/",
     "height": 13122
    },
    "id": "wLNhimMCt4DI",
    "outputId": "767320ed-2666-43c3-e7b5-617d726065f0"
   },
   "outputs": [
    {
     "data": {
      "image/png": "[encoded data removed]",
      "text/plain": [
       "<Figure size 432x288 with 1 Axes>"
      ]
     },
     "metadata": {
      "needs_background": "light"
     },
     "output_type": "display_data"
    },
    {
     "data": {
      "image/png": "[encoded data removed]",
      "text/plain": [
       "<Figure size 432x288 with 1 Axes>"
      ]
     },
     "metadata": {
      "needs_background": "light"
     },
     "output_type": "display_data"
    },
    {
     "data": {
      "image/png": "[encoded data removed]",
      "text/plain": [
       "<Figure size 432x288 with 1 Axes>"
      ]
     },
     "metadata": {
      "needs_background": "light"
     },
     "output_type": "display_data"
    },
    {
     "data": {
      "image/png": "[encoded data removed]",
      "text/plain": [
       "<Figure size 432x288 with 1 Axes>"
      ]
     },
     "metadata": {
      "needs_background": "light"
     },
     "output_type": "display_data"
    },
    {
     "data": {
      "image/png": "[encoded data removed]",
      "text/plain": [
       "<Figure size 432x288 with 1 Axes>"
      ]
     },
     "metadata": {
      "needs_background": "light"
     },
     "output_type": "display_data"
    },
    {
     "data": {
      "image/png": "[encoded data removed]",
      "text/plain": [
       "<Figure size 432x288 with 1 Axes>"
      ]
     },
     "metadata": {
      "needs_background": "light"
     },
     "output_type": "display_data"
    },
    {
     "data": {
      "image/png": "[encoded data removed]",
      "text/plain": [
       "<Figure size 432x288 with 1 Axes>"
      ]
     },
     "metadata": {
      "needs_background": "light"
     },
     "output_type": "display_data"
    },
    {
     "data": {
      "image/png": "[encoded data removed]",
      "text/plain": [
       "<Figure size 432x288 with 1 Axes>"
      ]
     },
     "metadata": {
      "needs_background": "light"
     },
     "output_type": "display_data"
    },
    {
     "data": {
      "image/png": "[encoded data removed]",
      "text/plain": [
       "<Figure size 432x288 with 1 Axes>"
      ]
     },
     "metadata": {
      "needs_background": "light"
     },
     "output_type": "display_data"
    },
    {
     "data": {
      "image/png": "[encoded data removed]",
      "text/plain": [
       "<Figure size 432x288 with 1 Axes>"
      ]
     },
     "metadata": {
      "needs_background": "light"
     },
     "output_type": "display_data"
    },
    {
     "data": {
      "image/png": "[encoded data removed]",
      "text/plain": [
       "<Figure size 432x288 with 1 Axes>"
      ]
     },
     "metadata": {
      "needs_background": "light"
     },
     "output_type": "display_data"
    },
    {
     "data": {
      "image/png": "[encoded data removed]",
      "text/plain": [
       "<Figure size 432x288 with 1 Axes>"
      ]
     },
     "metadata": {
      "needs_background": "light"
     },
     "output_type": "display_data"
    },
    {
     "data": {
      "image/png": "[encoded data removed]",
      "text/plain": [
       "<Figure size 432x288 with 1 Axes>"
      ]
     },
     "metadata": {
      "needs_background": "light"
     },
     "output_type": "display_data"
    },
    {
     "data": {
      "image/png": "[encoded data removed]",
      "text/plain": [
       "<Figure size 432x288 with 1 Axes>"
      ]
     },
     "metadata": {
      "needs_background": "light"
     },
     "output_type": "display_data"
    },
    {
     "data": {
      "image/png": "[encoded data removed]",
      "text/plain": [
       "<Figure size 432x288 with 1 Axes>"
      ]
     },
     "metadata": {
      "needs_background": "light"
     },
     "output_type": "display_data"
    },
    {
     "data": {
      "image/png": "[encoded data removed]",
      "text/plain": [
       "<Figure size 432x288 with 1 Axes>"
      ]
     },
     "metadata": {
      "needs_background": "light"
     },
     "output_type": "display_data"
    },
    {
     "data": {
      "image/png": "[encoded data removed]",
      "text/plain": [
       "<Figure size 432x288 with 1 Axes>"
      ]
     },
     "metadata": {
      "needs_background": "light"
     },
     "output_type": "display_data"
    },
    {
     "data": {
      "image/png": "[encoded data removed]",
      "text/plain": [
       "<Figure size 432x288 with 1 Axes>"
      ]
     },
     "metadata": {
      "needs_background": "light"
     },
     "output_type": "display_data"
    },
    {
     "data": {
      "image/png": "[encoded data removed]",
      "text/plain": [
       "<Figure size 432x288 with 1 Axes>"
      ]
     },
     "metadata": {
      "needs_background": "light"
     },
     "output_type": "display_data"
    },
    {
     "data": {
      "image/png": "[encoded data removed]",
      "text/plain": [
       "<Figure size 432x288 with 1 Axes>"
      ]
     },
     "metadata": {
      "needs_background": "light"
     },
     "output_type": "display_data"
    },
    {
     "data": {
      "image/png": "[encoded data removed]",
      "text/plain": [
       "<Figure size 432x288 with 1 Axes>"
      ]
     },
     "metadata": {
      "needs_background": "light"
     },
     "output_type": "display_data"
    },
    {
     "data": {
      "image/png": "[encoded data removed]",
      "text/plain": [
       "<Figure size 432x288 with 1 Axes>"
      ]
     },
     "metadata": {
      "needs_background": "light"
     },
     "output_type": "display_data"
    },
    {
     "data": {
      "image/png": "[encoded data removed]",
      "text/plain": [
       "<Figure size 432x288 with 1 Axes>"
      ]
     },
     "metadata": {
      "needs_background": "light"
     },
     "output_type": "display_data"
    },
    {
     "data": {
      "image/png": "[encoded data removed]",
      "text/plain": [
       "<Figure size 432x288 with 1 Axes>"
      ]
     },
     "metadata": {
      "needs_background": "light"
     },
     "output_type": "display_data"
    },
    {
     "data": {
      "image/png": "[encoded data removed]",
      "text/plain": [
       "<Figure size 432x288 with 1 Axes>"
      ]
     },
     "metadata": {
      "needs_background": "light"
     },
     "output_type": "display_data"
    },
    {
     "data": {
      "image/png": "[encoded data removed]",
      "text/plain": [
       "<Figure size 432x288 with 1 Axes>"
      ]
     },
     "metadata": {
      "needs_background": "light"
     },
     "output_type": "display_data"
    },
    {
     "data": {
      "image/png": "[encoded data removed]",
      "text/plain": [
       "<Figure size 432x288 with 1 Axes>"
      ]
     },
     "metadata": {
      "needs_background": "light"
     },
     "output_type": "display_data"
    },
    {
     "data": {
      "image/png": "[encoded data removed]",
      "text/plain": [
       "<Figure size 432x288 with 1 Axes>"
      ]
     },
     "metadata": {
      "needs_background": "light"
     },
     "output_type": "display_data"
    },
    {
     "data": {
      "image/png": "[encoded data removed]",
      "text/plain": [
       "<Figure size 432x288 with 1 Axes>"
      ]
     },
     "metadata": {
      "needs_background": "light"
     },
     "output_type": "display_data"
    },
    {
     "data": {
      "image/png": "[encoded data removed]",
      "text/plain": [
       "<Figure size 432x288 with 1 Axes>"
      ]
     },
     "metadata": {
      "needs_background": "light"
     },
     "output_type": "display_data"
    },
    {
     "data": {
      "image/png": "[encoded data removed]",
      "text/plain": [
       "<Figure size 432x288 with 1 Axes>"
      ]
     },
     "metadata": {
      "needs_background": "light"
     },
     "output_type": "display_data"
    },
    {
     "data": {
      "image/png": "[encoded data removed]",
      "text/plain": [
       "<Figure size 432x288 with 1 Axes>"
      ]
     },
     "metadata": {
      "needs_background": "light"
     },
     "output_type": "display_data"
    },
    {
     "data": {
      "image/png": "[encoded data removed]",
      "text/plain": [
       "<Figure size 432x288 with 1 Axes>"
      ]
     },
     "metadata": {
      "needs_background": "light"
     },
     "output_type": "display_data"
    },
    {
     "data": {
      "image/png": "[encoded data removed]",
      "text/plain": [
       "<Figure size 432x288 with 1 Axes>"
      ]
     },
     "metadata": {
      "needs_background": "light"
     },
     "output_type": "display_data"
    },
    {
     "data": {
      "image/png": "[encoded data removed]",
      "text/plain": [
       "<Figure size 432x288 with 1 Axes>"
      ]
     },
     "metadata": {
      "needs_background": "light"
     },
     "output_type": "display_data"
    },
    {
     "data": {
      "image/png": "[encoded data removed]",
      "text/plain": [
       "<Figure size 432x288 with 1 Axes>"
      ]
     },
     "metadata": {
      "needs_background": "light"
     },
     "output_type": "display_data"
    },
    {
     "data": {
      "image/png": "[encoded data removed]",
      "text/plain": [
       "<Figure size 432x288 with 1 Axes>"
      ]
     },
     "metadata": {
      "needs_background": "light"
     },
     "output_type": "display_data"
    },
    {
     "data": {
      "image/png": "[encoded data removed]",
      "text/plain": [
       "<Figure size 432x288 with 1 Axes>"
      ]
     },
     "metadata": {
      "needs_background": "light"
     },
     "output_type": "display_data"
    },
    {
     "data": {
      "image/png": "[encoded data removed]",
      "text/plain": [
       "<Figure size 432x288 with 1 Axes>"
      ]
     },
     "metadata": {
      "needs_background": "light"
     },
     "output_type": "display_data"
    },
    {
     "data": {
      "image/png": "[encoded data removed]",
      "text/plain": [
       "<Figure size 432x288 with 1 Axes>"
      ]
     },
     "metadata": {
      "needs_background": "light"
     },
     "output_type": "display_data"
    },
    {
     "data": {
      "image/png": "[encoded data removed]",
      "text/plain": [
       "<Figure size 432x288 with 1 Axes>"
      ]
     },
     "metadata": {
      "needs_background": "light"
     },
     "output_type": "display_data"
    },
    {
     "data": {
      "image/png": "[encoded data removed]",
      "text/plain": [
       "<Figure size 432x288 with 1 Axes>"
      ]
     },
     "metadata": {
      "needs_background": "light"
     },
     "output_type": "display_data"
    },
    {
     "data": {
      "image/png": "[encoded data removed]",
      "text/plain": [
       "<Figure size 432x288 with 1 Axes>"
      ]
     },
     "metadata": {
      "needs_background": "light"
     },
     "output_type": "display_data"
    },
    {
     "data": {
      "image/png": "[encoded data removed]",
      "text/plain": [
       "<Figure size 432x288 with 1 Axes>"
      ]
     },
     "metadata": {
      "needs_background": "light"
     },
     "output_type": "display_data"
    },
    {
     "data": {
      "image/png": "[encoded data removed]",
      "text/plain": [
       "<Figure size 432x288 with 1 Axes>"
      ]
     },
     "metadata": {
      "needs_background": "light"
     },
     "output_type": "display_data"
    },
    {
     "data": {
      "image/png": "[encoded data removed]",
      "text/plain": [
       "<Figure size 432x288 with 1 Axes>"
      ]
     },
     "metadata": {
      "needs_background": "light"
     },
     "output_type": "display_data"
    },
    {
     "data": {
      "image/png": "[encoded data removed]",
      "text/plain": [
       "<Figure size 432x288 with 1 Axes>"
      ]
     },
     "metadata": {
      "needs_background": "light"
     },
     "output_type": "display_data"
    },
    {
     "data": {
      "image/png": "[encoded data removed]",
      "text/plain": [
       "<Figure size 432x288 with 1 Axes>"
      ]
     },
     "metadata": {
      "needs_background": "light"
     },
     "output_type": "display_data"
    },
    {
     "data": {
      "image/png": "[encoded data removed]",
      "text/plain": [
       "<Figure size 432x288 with 1 Axes>"
      ]
     },
     "metadata": {
      "needs_background": "light"
     },
     "output_type": "display_data"
    }
   ],
   "source": [
    "for col in new_data.drop(['form_field47','default_status'], axis =1).columns:\n",
    "    \n",
    "    new_data[col].plot(kind='hist', title = 'Hist' + col)\n",
    "    plt.show()"
   ]
  },
  {
   "cell_type": "code",
   "execution_count": 15,
   "metadata": {
    "id": "5LDnHo1Ct4DL"
   },
   "outputs": [],
   "source": [
    "new_data.form_field47[new_data.form_field47 == 'charge'] = 1\n",
    "new_data.form_field47[new_data.form_field47 == 'lending'] = 0\n",
    "new_data.form_field47 = new_data.form_field47.astype(int)"
   ]
  },
  {
   "cell_type": "code",
   "execution_count": 16,
   "metadata": {
    "id": "jzgAZWCet4DP"
   },
   "outputs": [],
   "source": [
    "from sklearn.preprocessing import StandardScaler, MinMaxScaler, RobustScaler\n",
    "from sklearn import preprocessing\n",
    "sc = StandardScaler()\n",
    "ms = MinMaxScaler()"
   ]
  },
  {
   "cell_type": "code",
   "execution_count": 17,
   "metadata": {
    "id": "Xg_-kKy4t4DS"
   },
   "outputs": [],
   "source": [
    "from sklearn.model_selection import train_test_split\n",
    "train = new_data[0:56000]\n",
    "test = new_data[56000:]\n",
    "train.default_status[train.default_status == 'no'] = 0\n",
    "train.default_status[train.default_status == 'yes'] = 1\n",
    "train['default_status'] = train['default_status'].astype(int)"
   ]
  },
  {
   "cell_type": "code",
   "execution_count": 18,
   "metadata": {
    "id": "0QdEf9Ewt4DV"
   },
   "outputs": [],
   "source": [
    "X = train.drop(['default_status'], axis = 1)\n",
    "y = train['default_status']\n",
    "#X= preprocessing.scale(X)\n",
    "#from sklearn.feature_selection import SelectKBest\n",
    "#from sklearn.feature_selection import chi2\n",
    "#X = SelectKBest(chi2, k=18).fit_transform(X,y)\n",
    "X_train, X_test, y_train, y_test = train_test_split(X, y, test_size=1/3, random_state=19)"
   ]
  },
  {
   "cell_type": "code",
   "execution_count": 19,
   "metadata": {
    "id": "yXwwMCC6t4Da"
   },
   "outputs": [],
   "source": [
    "#test.drop(['default_status'], axis =1 , inplace = True)"
   ]
  },
  {
   "cell_type": "code",
   "execution_count": 20,
   "metadata": {
    "id": "OV2IguqK0aNv"
   },
   "outputs": [],
   "source": [
    "#!pip install catboost"
   ]
  },
  {
   "cell_type": "code",
   "execution_count": 21,
   "metadata": {
    "id": "nmkL7k_8t4Dc"
   },
   "outputs": [],
   "source": [
    "from sklearn.metrics import accuracy_score, f1_score, confusion_matrix, precision_score, classification_report\n",
    "from sklearn.metrics import roc_auc_score\n",
    "from catboost import CatBoostClassifier\n",
    "from sklearn.linear_model import LogisticRegression"
   ]
  },
  {
   "cell_type": "code",
   "execution_count": 22,
   "metadata": {
    "id": "cZJzFs4Rt4Df"
   },
   "outputs": [],
   "source": [
    "## using stratified KFold"
   ]
  },
  {
   "cell_type": "code",
   "execution_count": 27,
   "metadata": {
    "id": "UR3hvJi-t4Di"
   },
   "outputs": [],
   "source": [
    "from sklearn.model_selection import StratifiedKFold\n",
    "from sklearn.model_selection import StratifiedShuffleSplit"
   ]
  },
  {
   "cell_type": "code",
   "execution_count": 24,
   "metadata": {
    "id": "-wWdVCRZt4Dm"
   },
   "outputs": [],
   "source": [
    "seed = 2020\n",
    "parameters = {\n",
    "              'n_estimators': 4000,\n",
    "              'learning_rate': 0.009,\n",
    "              'loss_function': 'CrossEntropy',\n",
    "              'max_depth': 8,\n",
    "              #'task_type':'GPU',\n",
    "              'eval_metric':'AUC',\n",
    "              'random_seed': seed,\n",
    "              'early_stopping_rounds': 300,\n",
    "              'use_best_model': True,\n",
    "}"
   ]
  },
  {
   "cell_type": "code",
   "execution_count": 29,
   "metadata": {
    "colab": {
     "base_uri": "https://localhost:8080/",
     "height": 3821
    },
    "id": "1Ja6ek85t4Dp",
    "outputId": "06455cfe-6ab5-47e1-bd44-d5c2fb202a1e"
   },
   "outputs": [
    {
     "name": "stdout",
     "output_type": "stream",
     "text": [
      "0:\ttest: 0.7971325\tbest: 0.7971325 (0)\ttotal: 392ms\tremaining: 26m 7s\n",
      "200:\ttest: 0.8314276\tbest: 0.8314276 (200)\ttotal: 42.4s\tremaining: 13m 21s\n",
      "400:\ttest: 0.8353786\tbest: 0.8353786 (400)\ttotal: 1m 19s\tremaining: 11m 57s\n",
      "600:\ttest: 0.8376548\tbest: 0.8376568 (599)\ttotal: 1m 53s\tremaining: 10m 44s\n",
      "800:\ttest: 0.8389096\tbest: 0.8389096 (800)\ttotal: 2m 27s\tremaining: 9m 48s\n",
      "1000:\ttest: 0.8396184\tbest: 0.8396184 (1000)\ttotal: 3m 2s\tremaining: 9m 5s\n",
      "1200:\ttest: 0.8401565\tbest: 0.8401565 (1200)\ttotal: 3m 38s\tremaining: 8m 28s\n",
      "1400:\ttest: 0.8407008\tbest: 0.8407115 (1398)\ttotal: 4m 14s\tremaining: 7m 52s\n",
      "1600:\ttest: 0.8409495\tbest: 0.8409565 (1595)\ttotal: 4m 50s\tremaining: 7m 14s\n",
      "1800:\ttest: 0.8410654\tbest: 0.8411027 (1744)\ttotal: 5m 25s\tremaining: 6m 37s\n",
      "2000:\ttest: 0.8409977\tbest: 0.8411028 (1807)\ttotal: 6m 1s\tremaining: 6m 1s\n",
      "Stopped by overfitting detector  (300 iterations wait)\n",
      "\n",
      "bestTest = 0.8411027526\n",
      "bestIteration = 1807\n",
      "\n",
      "Shrink model to first 1808 iterations.\n",
      "0.10513784407673032\n",
      "0:\ttest: 0.7970673\tbest: 0.7970673 (0)\ttotal: 324ms\tremaining: 21m 37s\n",
      "200:\ttest: 0.8291108\tbest: 0.8291108 (200)\ttotal: 35.9s\tremaining: 11m 17s\n",
      "400:\ttest: 0.8323221\tbest: 0.8323221 (400)\ttotal: 1m 11s\tremaining: 10m 41s\n",
      "600:\ttest: 0.8340001\tbest: 0.8340001 (600)\ttotal: 1m 50s\tremaining: 10m 24s\n",
      "800:\ttest: 0.8349416\tbest: 0.8349416 (800)\ttotal: 2m 26s\tremaining: 9m 43s\n",
      "1000:\ttest: 0.8355179\tbest: 0.8355192 (999)\ttotal: 3m\tremaining: 9m 1s\n",
      "1200:\ttest: 0.8359100\tbest: 0.8359100 (1200)\ttotal: 3m 35s\tremaining: 8m 22s\n",
      "1400:\ttest: 0.8363062\tbest: 0.8363142 (1399)\ttotal: 4m 10s\tremaining: 7m 43s\n",
      "1600:\ttest: 0.8365681\tbest: 0.8365696 (1599)\ttotal: 4m 44s\tremaining: 7m 6s\n",
      "1800:\ttest: 0.8367914\tbest: 0.8368370 (1721)\ttotal: 5m 19s\tremaining: 6m 30s\n",
      "2000:\ttest: 0.8367629\tbest: 0.8368370 (1721)\ttotal: 5m 54s\tremaining: 5m 54s\n",
      "Stopped by overfitting detector  (300 iterations wait)\n",
      "\n",
      "bestTest = 0.8368370006\n",
      "bestIteration = 1721\n",
      "\n",
      "Shrink model to first 1722 iterations.\n",
      "0.20974246915116168\n",
      "0:\ttest: 0.7983240\tbest: 0.7983240 (0)\ttotal: 269ms\tremaining: 17m 54s\n",
      "200:\ttest: 0.8265769\tbest: 0.8265769 (200)\ttotal: 36.7s\tremaining: 11m 33s\n",
      "400:\ttest: 0.8304118\tbest: 0.8304135 (399)\ttotal: 1m 12s\tremaining: 10m 46s\n",
      "600:\ttest: 0.8326939\tbest: 0.8326939 (600)\ttotal: 1m 50s\tremaining: 10m 27s\n",
      "800:\ttest: 0.8339494\tbest: 0.8339494 (800)\ttotal: 2m 26s\tremaining: 9m 43s\n",
      "1000:\ttest: 0.8348156\tbest: 0.8348156 (1000)\ttotal: 3m\tremaining: 9m 2s\n",
      "1200:\ttest: 0.8355399\tbest: 0.8355428 (1199)\ttotal: 3m 36s\tremaining: 8m 23s\n",
      "1400:\ttest: 0.8361940\tbest: 0.8361978 (1395)\ttotal: 4m 10s\tremaining: 7m 45s\n",
      "1600:\ttest: 0.8366697\tbest: 0.8366782 (1597)\ttotal: 4m 45s\tremaining: 7m 7s\n",
      "1800:\ttest: 0.8370316\tbest: 0.8370324 (1799)\ttotal: 5m 20s\tremaining: 6m 31s\n",
      "2000:\ttest: 0.8371163\tbest: 0.8371291 (1999)\ttotal: 5m 57s\tremaining: 5m 56s\n",
      "2200:\ttest: 0.8371399\tbest: 0.8371447 (2196)\ttotal: 6m 31s\tremaining: 5m 20s\n",
      "2400:\ttest: 0.8372193\tbest: 0.8372379 (2322)\ttotal: 7m 9s\tremaining: 4m 45s\n",
      "2600:\ttest: 0.8371937\tbest: 0.8372413 (2541)\ttotal: 7m 50s\tremaining: 4m 13s\n",
      "2800:\ttest: 0.8371387\tbest: 0.8372413 (2541)\ttotal: 8m 27s\tremaining: 3m 37s\n",
      "Stopped by overfitting detector  (300 iterations wait)\n",
      "\n",
      "bestTest = 0.8372413105\n",
      "bestIteration = 2541\n",
      "\n",
      "Shrink model to first 2542 iterations.\n",
      "0.31439763296565226\n",
      "0:\ttest: 0.8026142\tbest: 0.8026142 (0)\ttotal: 246ms\tremaining: 16m 23s\n",
      "200:\ttest: 0.8306564\tbest: 0.8306662 (199)\ttotal: 37.4s\tremaining: 11m 47s\n",
      "400:\ttest: 0.8351022\tbest: 0.8351022 (400)\ttotal: 1m 13s\tremaining: 10m 56s\n",
      "600:\ttest: 0.8375598\tbest: 0.8375598 (600)\ttotal: 1m 48s\tremaining: 10m 13s\n",
      "800:\ttest: 0.8389384\tbest: 0.8389384 (800)\ttotal: 2m 24s\tremaining: 9m 37s\n",
      "1000:\ttest: 0.8397128\tbest: 0.8397128 (1000)\ttotal: 2m 59s\tremaining: 8m 58s\n",
      "1200:\ttest: 0.8404840\tbest: 0.8404840 (1200)\ttotal: 3m 35s\tremaining: 8m 21s\n",
      "1400:\ttest: 0.8411281\tbest: 0.8411281 (1400)\ttotal: 4m 10s\tremaining: 7m 45s\n",
      "1600:\ttest: 0.8415797\tbest: 0.8415969 (1580)\ttotal: 4m 45s\tremaining: 7m 7s\n",
      "1800:\ttest: 0.8417851\tbest: 0.8418055 (1777)\ttotal: 5m 20s\tremaining: 6m 31s\n",
      "2000:\ttest: 0.8418799\tbest: 0.8419035 (1975)\ttotal: 5m 56s\tremaining: 5m 55s\n",
      "2200:\ttest: 0.8418925\tbest: 0.8419352 (2127)\ttotal: 6m 31s\tremaining: 5m 20s\n",
      "2400:\ttest: 0.8419578\tbest: 0.8419994 (2239)\ttotal: 7m 6s\tremaining: 4m 43s\n",
      "Stopped by overfitting detector  (300 iterations wait)\n",
      "\n",
      "bestTest = 0.8419994421\n",
      "bestIteration = 2239\n",
      "\n",
      "Shrink model to first 2240 iterations.\n",
      "0.41964756322768726\n",
      "0:\ttest: 0.7969081\tbest: 0.7969081 (0)\ttotal: 196ms\tremaining: 13m 2s\n",
      "200:\ttest: 0.8275659\tbest: 0.8275659 (200)\ttotal: 36.1s\tremaining: 11m 23s\n",
      "400:\ttest: 0.8309088\tbest: 0.8309088 (400)\ttotal: 1m 11s\tremaining: 10m 43s\n",
      "600:\ttest: 0.8328480\tbest: 0.8328480 (600)\ttotal: 1m 46s\tremaining: 10m 5s\n",
      "800:\ttest: 0.8340677\tbest: 0.8340677 (800)\ttotal: 2m 23s\tremaining: 9m 31s\n",
      "1000:\ttest: 0.8347677\tbest: 0.8347677 (1000)\ttotal: 2m 58s\tremaining: 8m 54s\n",
      "1200:\ttest: 0.8354467\tbest: 0.8354467 (1200)\ttotal: 3m 33s\tremaining: 8m 18s\n",
      "1400:\ttest: 0.8358754\tbest: 0.8358788 (1399)\ttotal: 4m 9s\tremaining: 7m 42s\n",
      "1600:\ttest: 0.8359568\tbest: 0.8360117 (1534)\ttotal: 4m 45s\tremaining: 7m 7s\n",
      "1800:\ttest: 0.8360178\tbest: 0.8360620 (1678)\ttotal: 5m 20s\tremaining: 6m 31s\n",
      "2000:\ttest: 0.8360701\tbest: 0.8361341 (1978)\ttotal: 5m 56s\tremaining: 5m 55s\n",
      "2200:\ttest: 0.8361519\tbest: 0.8361828 (2180)\ttotal: 6m 32s\tremaining: 5m 20s\n",
      "2400:\ttest: 0.8362658\tbest: 0.8362733 (2399)\ttotal: 7m 7s\tremaining: 4m 44s\n",
      "2600:\ttest: 0.8362005\tbest: 0.8363096 (2490)\ttotal: 7m 43s\tremaining: 4m 9s\n",
      "Stopped by overfitting detector  (300 iterations wait)\n",
      "\n",
      "bestTest = 0.8363095742\n",
      "bestIteration = 2490\n",
      "\n",
      "Shrink model to first 2491 iterations.\n",
      "0.5241862600064982\n",
      "0:\ttest: 0.8014646\tbest: 0.8014646 (0)\ttotal: 245ms\tremaining: 16m 18s\n",
      "200:\ttest: 0.8354110\tbest: 0.8354110 (200)\ttotal: 34.3s\tremaining: 10m 48s\n",
      "400:\ttest: 0.8392567\tbest: 0.8392567 (400)\ttotal: 1m 7s\tremaining: 10m 9s\n",
      "600:\ttest: 0.8413905\tbest: 0.8413905 (600)\ttotal: 1m 41s\tremaining: 9m 36s\n",
      "800:\ttest: 0.8427606\tbest: 0.8427656 (799)\ttotal: 2m 16s\tremaining: 9m 3s\n",
      "1000:\ttest: 0.8436376\tbest: 0.8436429 (999)\ttotal: 2m 49s\tremaining: 8m 27s\n",
      "1200:\ttest: 0.8442168\tbest: 0.8442168 (1200)\ttotal: 3m 23s\tremaining: 7m 53s\n",
      "1400:\ttest: 0.8447869\tbest: 0.8447961 (1399)\ttotal: 3m 57s\tremaining: 7m 20s\n",
      "1600:\ttest: 0.8453075\tbest: 0.8453095 (1597)\ttotal: 4m 31s\tremaining: 6m 46s\n",
      "1800:\ttest: 0.8453613\tbest: 0.8454274 (1759)\ttotal: 5m 4s\tremaining: 6m 11s\n",
      "2000:\ttest: 0.8454139\tbest: 0.8454301 (1931)\ttotal: 5m 38s\tremaining: 5m 38s\n",
      "2200:\ttest: 0.8453892\tbest: 0.8454301 (1931)\ttotal: 6m 11s\tremaining: 5m 4s\n",
      "2400:\ttest: 0.8454154\tbest: 0.8454679 (2277)\ttotal: 6m 48s\tremaining: 4m 32s\n",
      "2600:\ttest: 0.8455172\tbest: 0.8455369 (2537)\ttotal: 7m 23s\tremaining: 3m 58s\n",
      "2800:\ttest: 0.8454675\tbest: 0.8455613 (2672)\ttotal: 7m 56s\tremaining: 3m 24s\n",
      "Stopped by overfitting detector  (300 iterations wait)\n",
      "\n",
      "bestTest = 0.8455612836\n",
      "bestIteration = 2672\n",
      "\n",
      "Shrink model to first 2673 iterations.\n",
      "0.6298814204568405\n",
      "0:\ttest: 0.8045624\tbest: 0.8045624 (0)\ttotal: 228ms\tremaining: 15m 11s\n",
      "200:\ttest: 0.8343809\tbest: 0.8343809 (200)\ttotal: 35s\tremaining: 11m\n",
      "400:\ttest: 0.8388154\tbest: 0.8388154 (400)\ttotal: 1m 9s\tremaining: 10m 21s\n",
      "600:\ttest: 0.8413792\tbest: 0.8413792 (600)\ttotal: 1m 43s\tremaining: 9m 47s\n",
      "800:\ttest: 0.8428238\tbest: 0.8428238 (800)\ttotal: 2m 18s\tremaining: 9m 13s\n",
      "1000:\ttest: 0.8437573\tbest: 0.8437573 (1000)\ttotal: 2m 53s\tremaining: 8m 39s\n",
      "1200:\ttest: 0.8443942\tbest: 0.8443942 (1200)\ttotal: 3m 27s\tremaining: 8m 3s\n",
      "1400:\ttest: 0.8448741\tbest: 0.8448793 (1390)\ttotal: 4m 2s\tremaining: 7m 29s\n",
      "1600:\ttest: 0.8450777\tbest: 0.8450781 (1596)\ttotal: 4m 36s\tremaining: 6m 54s\n",
      "1800:\ttest: 0.8451841\tbest: 0.8452277 (1776)\ttotal: 5m 11s\tremaining: 6m 19s\n",
      "2000:\ttest: 0.8453914\tbest: 0.8453914 (2000)\ttotal: 5m 45s\tremaining: 5m 45s\n",
      "2200:\ttest: 0.8455139\tbest: 0.8455545 (2089)\ttotal: 6m 19s\tremaining: 5m 10s\n",
      "2400:\ttest: 0.8456045\tbest: 0.8456341 (2277)\ttotal: 6m 55s\tremaining: 4m 36s\n",
      "2600:\ttest: 0.8456856\tbest: 0.8457013 (2592)\ttotal: 7m 31s\tremaining: 4m 2s\n",
      "2800:\ttest: 0.8457035\tbest: 0.8457613 (2727)\ttotal: 8m 6s\tremaining: 3m 28s\n",
      "3000:\ttest: 0.8456610\tbest: 0.8457613 (2727)\ttotal: 8m 41s\tremaining: 2m 53s\n",
      "Stopped by overfitting detector  (300 iterations wait)\n",
      "\n",
      "bestTest = 0.8457613478\n",
      "bestIteration = 2727\n",
      "\n",
      "Shrink model to first 2728 iterations.\n"
     ]
    },
    {
     "name": "stdout",
     "output_type": "stream",
     "text": [
      "0.73560158893497\n",
      "0:\ttest: 0.8075374\tbest: 0.8075374 (0)\ttotal: 236ms\tremaining: 15m 44s\n",
      "200:\ttest: 0.8348448\tbest: 0.8348448 (200)\ttotal: 35.4s\tremaining: 11m 8s\n",
      "400:\ttest: 0.8387648\tbest: 0.8387648 (400)\ttotal: 1m 9s\tremaining: 10m 24s\n",
      "600:\ttest: 0.8408870\tbest: 0.8408870 (600)\ttotal: 1m 44s\tremaining: 9m 48s\n",
      "800:\ttest: 0.8421905\tbest: 0.8421905 (800)\ttotal: 2m 17s\tremaining: 9m 10s\n",
      "1000:\ttest: 0.8432098\tbest: 0.8432098 (1000)\ttotal: 2m 53s\tremaining: 8m 40s\n",
      "1200:\ttest: 0.8440163\tbest: 0.8440163 (1200)\ttotal: 3m 28s\tremaining: 8m 5s\n",
      "1400:\ttest: 0.8447596\tbest: 0.8447616 (1393)\ttotal: 4m 2s\tremaining: 7m 29s\n",
      "1600:\ttest: 0.8451847\tbest: 0.8451883 (1590)\ttotal: 4m 36s\tremaining: 6m 54s\n",
      "1800:\ttest: 0.8454592\tbest: 0.8454592 (1800)\ttotal: 5m 10s\tremaining: 6m 19s\n",
      "2000:\ttest: 0.8456841\tbest: 0.8456872 (1998)\ttotal: 5m 44s\tremaining: 5m 43s\n",
      "2200:\ttest: 0.8457359\tbest: 0.8457658 (2079)\ttotal: 6m 18s\tremaining: 5m 9s\n",
      "2400:\ttest: 0.8459218\tbest: 0.8459234 (2399)\ttotal: 6m 52s\tremaining: 4m 34s\n",
      "2600:\ttest: 0.8459171\tbest: 0.8459975 (2517)\ttotal: 7m 27s\tremaining: 4m\n",
      "2800:\ttest: 0.8460070\tbest: 0.8460070 (2800)\ttotal: 8m 2s\tremaining: 3m 26s\n",
      "3000:\ttest: 0.8460466\tbest: 0.8460466 (3000)\ttotal: 8m 36s\tremaining: 2m 52s\n",
      "3200:\ttest: 0.8461363\tbest: 0.8461381 (3199)\ttotal: 9m 11s\tremaining: 2m 17s\n",
      "3400:\ttest: 0.8461589\tbest: 0.8461881 (3374)\ttotal: 9m 45s\tremaining: 1m 43s\n",
      "3600:\ttest: 0.8461233\tbest: 0.8461881 (3374)\ttotal: 10m 19s\tremaining: 1m 8s\n",
      "Stopped by overfitting detector  (300 iterations wait)\n",
      "\n",
      "bestTest = 0.846188117\n",
      "bestIteration = 3374\n",
      "\n",
      "Shrink model to first 3375 iterations.\n",
      "0.8413751035615786\n"
     ]
    }
   ],
   "source": [
    "fold_score = 0\n",
    "test_pred = []\n",
    "\n",
    "n = 8\n",
    "#kf = StratifiedKFold(n)\n",
    "kf = StratifiedShuffleSplit(n_splits=8,test_size=0.2)\n",
    "\n",
    "for train_index, test_index in kf.split(X, y):\n",
    "    Xtrain, Xtest = X.loc[train_index], X.loc[test_index]\n",
    "    ytrain, ytest = y[train_index], y[test_index]\n",
    "\n",
    "    cat_model = CatBoostClassifier(**parameters)\n",
    "    cat_model.fit(Xtrain, ytrain, eval_set=[(Xtest,ytest)], verbose=200)\n",
    "    \n",
    "    pred = cat_model.predict_proba(Xtest)[:, 1]\n",
    "    score = roc_auc_score(ytest, pred)\n",
    "    fold_score = fold_score + (score/n)\n",
    "    print(fold_score)\n",
    "    \n",
    "    predictions = cat_model.predict_proba(test)[:, 1]\n",
    "    test_pred.append(predictions)"
   ]
  },
  {
   "cell_type": "code",
   "execution_count": 30,
   "metadata": {
    "colab": {
     "base_uri": "https://localhost:8080/",
     "height": 336
    },
    "id": "tsQE31mx9lLD",
    "outputId": "ec76c454-ee83-4d0d-c6dc-0df4c1aa6be8"
   },
   "outputs": [
    {
     "data": {
      "text/html": [
       "<div>\n",
       "<style scoped>\n",
       "    .dataframe tbody tr th:only-of-type {\n",
       "        vertical-align: middle;\n",
       "    }\n",
       "\n",
       "    .dataframe tbody tr th {\n",
       "        vertical-align: top;\n",
       "    }\n",
       "\n",
       "    .dataframe thead th {\n",
       "        text-align: right;\n",
       "    }\n",
       "</style>\n",
       "<table border=\"1\" class=\"dataframe\">\n",
       "  <thead>\n",
       "    <tr style=\"text-align: right;\">\n",
       "      <th></th>\n",
       "      <th>0</th>\n",
       "      <th>1</th>\n",
       "      <th>2</th>\n",
       "      <th>3</th>\n",
       "      <th>4</th>\n",
       "      <th>5</th>\n",
       "      <th>6</th>\n",
       "      <th>7</th>\n",
       "      <th>8</th>\n",
       "      <th>9</th>\n",
       "      <th>10</th>\n",
       "      <th>11</th>\n",
       "      <th>12</th>\n",
       "      <th>13</th>\n",
       "      <th>14</th>\n",
       "      <th>15</th>\n",
       "      <th>16</th>\n",
       "      <th>17</th>\n",
       "      <th>18</th>\n",
       "      <th>19</th>\n",
       "      <th>20</th>\n",
       "      <th>21</th>\n",
       "      <th>22</th>\n",
       "      <th>23</th>\n",
       "      <th>24</th>\n",
       "      <th>25</th>\n",
       "      <th>26</th>\n",
       "      <th>27</th>\n",
       "      <th>28</th>\n",
       "      <th>29</th>\n",
       "      <th>30</th>\n",
       "      <th>31</th>\n",
       "      <th>32</th>\n",
       "      <th>33</th>\n",
       "      <th>34</th>\n",
       "      <th>35</th>\n",
       "      <th>36</th>\n",
       "      <th>37</th>\n",
       "      <th>38</th>\n",
       "      <th>39</th>\n",
       "      <th>...</th>\n",
       "      <th>23960</th>\n",
       "      <th>23961</th>\n",
       "      <th>23962</th>\n",
       "      <th>23963</th>\n",
       "      <th>23964</th>\n",
       "      <th>23965</th>\n",
       "      <th>23966</th>\n",
       "      <th>23967</th>\n",
       "      <th>23968</th>\n",
       "      <th>23969</th>\n",
       "      <th>23970</th>\n",
       "      <th>23971</th>\n",
       "      <th>23972</th>\n",
       "      <th>23973</th>\n",
       "      <th>23974</th>\n",
       "      <th>23975</th>\n",
       "      <th>23976</th>\n",
       "      <th>23977</th>\n",
       "      <th>23978</th>\n",
       "      <th>23979</th>\n",
       "      <th>23980</th>\n",
       "      <th>23981</th>\n",
       "      <th>23982</th>\n",
       "      <th>23983</th>\n",
       "      <th>23984</th>\n",
       "      <th>23985</th>\n",
       "      <th>23986</th>\n",
       "      <th>23987</th>\n",
       "      <th>23988</th>\n",
       "      <th>23989</th>\n",
       "      <th>23990</th>\n",
       "      <th>23991</th>\n",
       "      <th>23992</th>\n",
       "      <th>23993</th>\n",
       "      <th>23994</th>\n",
       "      <th>23995</th>\n",
       "      <th>23996</th>\n",
       "      <th>23997</th>\n",
       "      <th>23998</th>\n",
       "      <th>23999</th>\n",
       "    </tr>\n",
       "  </thead>\n",
       "  <tbody>\n",
       "    <tr>\n",
       "      <th>0</th>\n",
       "      <td>0.372921</td>\n",
       "      <td>0.396441</td>\n",
       "      <td>0.371848</td>\n",
       "      <td>0.744578</td>\n",
       "      <td>0.160414</td>\n",
       "      <td>0.328547</td>\n",
       "      <td>0.373582</td>\n",
       "      <td>0.565930</td>\n",
       "      <td>0.385529</td>\n",
       "      <td>0.350568</td>\n",
       "      <td>0.107736</td>\n",
       "      <td>0.020793</td>\n",
       "      <td>0.537535</td>\n",
       "      <td>0.040119</td>\n",
       "      <td>0.452260</td>\n",
       "      <td>0.670934</td>\n",
       "      <td>0.309269</td>\n",
       "      <td>0.066502</td>\n",
       "      <td>0.126143</td>\n",
       "      <td>0.750165</td>\n",
       "      <td>0.079158</td>\n",
       "      <td>0.085669</td>\n",
       "      <td>0.057784</td>\n",
       "      <td>0.314444</td>\n",
       "      <td>0.030529</td>\n",
       "      <td>0.040468</td>\n",
       "      <td>0.423891</td>\n",
       "      <td>0.039494</td>\n",
       "      <td>0.144136</td>\n",
       "      <td>0.074949</td>\n",
       "      <td>0.607407</td>\n",
       "      <td>0.335737</td>\n",
       "      <td>0.080632</td>\n",
       "      <td>0.201953</td>\n",
       "      <td>0.309257</td>\n",
       "      <td>0.664504</td>\n",
       "      <td>0.102969</td>\n",
       "      <td>0.113823</td>\n",
       "      <td>0.018033</td>\n",
       "      <td>0.005358</td>\n",
       "      <td>...</td>\n",
       "      <td>0.015429</td>\n",
       "      <td>0.108611</td>\n",
       "      <td>0.113779</td>\n",
       "      <td>0.006232</td>\n",
       "      <td>0.006051</td>\n",
       "      <td>0.318983</td>\n",
       "      <td>0.128988</td>\n",
       "      <td>0.094804</td>\n",
       "      <td>0.019660</td>\n",
       "      <td>0.101967</td>\n",
       "      <td>0.447801</td>\n",
       "      <td>0.329513</td>\n",
       "      <td>0.108592</td>\n",
       "      <td>0.015278</td>\n",
       "      <td>0.138154</td>\n",
       "      <td>0.181802</td>\n",
       "      <td>0.010279</td>\n",
       "      <td>0.066670</td>\n",
       "      <td>0.016346</td>\n",
       "      <td>0.405297</td>\n",
       "      <td>0.049832</td>\n",
       "      <td>0.458477</td>\n",
       "      <td>0.393564</td>\n",
       "      <td>0.571826</td>\n",
       "      <td>0.559463</td>\n",
       "      <td>0.303491</td>\n",
       "      <td>0.424195</td>\n",
       "      <td>0.284595</td>\n",
       "      <td>0.466638</td>\n",
       "      <td>0.036537</td>\n",
       "      <td>0.459599</td>\n",
       "      <td>0.613366</td>\n",
       "      <td>0.852750</td>\n",
       "      <td>0.571896</td>\n",
       "      <td>0.142309</td>\n",
       "      <td>0.726090</td>\n",
       "      <td>0.246306</td>\n",
       "      <td>0.314021</td>\n",
       "      <td>0.525091</td>\n",
       "      <td>0.177703</td>\n",
       "    </tr>\n",
       "    <tr>\n",
       "      <th>1</th>\n",
       "      <td>0.298085</td>\n",
       "      <td>0.368263</td>\n",
       "      <td>0.358783</td>\n",
       "      <td>0.776056</td>\n",
       "      <td>0.202239</td>\n",
       "      <td>0.388081</td>\n",
       "      <td>0.397717</td>\n",
       "      <td>0.567089</td>\n",
       "      <td>0.425311</td>\n",
       "      <td>0.314004</td>\n",
       "      <td>0.109310</td>\n",
       "      <td>0.017545</td>\n",
       "      <td>0.584296</td>\n",
       "      <td>0.038964</td>\n",
       "      <td>0.454628</td>\n",
       "      <td>0.641596</td>\n",
       "      <td>0.305588</td>\n",
       "      <td>0.054697</td>\n",
       "      <td>0.127318</td>\n",
       "      <td>0.726688</td>\n",
       "      <td>0.072992</td>\n",
       "      <td>0.076813</td>\n",
       "      <td>0.054252</td>\n",
       "      <td>0.275099</td>\n",
       "      <td>0.026308</td>\n",
       "      <td>0.035337</td>\n",
       "      <td>0.493392</td>\n",
       "      <td>0.036439</td>\n",
       "      <td>0.146899</td>\n",
       "      <td>0.080224</td>\n",
       "      <td>0.620841</td>\n",
       "      <td>0.321483</td>\n",
       "      <td>0.079762</td>\n",
       "      <td>0.196112</td>\n",
       "      <td>0.325113</td>\n",
       "      <td>0.661273</td>\n",
       "      <td>0.101258</td>\n",
       "      <td>0.103513</td>\n",
       "      <td>0.018026</td>\n",
       "      <td>0.005192</td>\n",
       "      <td>...</td>\n",
       "      <td>0.014486</td>\n",
       "      <td>0.106383</td>\n",
       "      <td>0.117240</td>\n",
       "      <td>0.006693</td>\n",
       "      <td>0.006150</td>\n",
       "      <td>0.277481</td>\n",
       "      <td>0.130502</td>\n",
       "      <td>0.104484</td>\n",
       "      <td>0.017130</td>\n",
       "      <td>0.094495</td>\n",
       "      <td>0.437053</td>\n",
       "      <td>0.295461</td>\n",
       "      <td>0.130750</td>\n",
       "      <td>0.012954</td>\n",
       "      <td>0.105029</td>\n",
       "      <td>0.131729</td>\n",
       "      <td>0.011193</td>\n",
       "      <td>0.061468</td>\n",
       "      <td>0.016466</td>\n",
       "      <td>0.391324</td>\n",
       "      <td>0.052698</td>\n",
       "      <td>0.535376</td>\n",
       "      <td>0.400328</td>\n",
       "      <td>0.581505</td>\n",
       "      <td>0.527562</td>\n",
       "      <td>0.349800</td>\n",
       "      <td>0.455470</td>\n",
       "      <td>0.288442</td>\n",
       "      <td>0.466605</td>\n",
       "      <td>0.039119</td>\n",
       "      <td>0.418712</td>\n",
       "      <td>0.590515</td>\n",
       "      <td>0.857107</td>\n",
       "      <td>0.650035</td>\n",
       "      <td>0.134045</td>\n",
       "      <td>0.692761</td>\n",
       "      <td>0.272384</td>\n",
       "      <td>0.315050</td>\n",
       "      <td>0.548586</td>\n",
       "      <td>0.189819</td>\n",
       "    </tr>\n",
       "    <tr>\n",
       "      <th>2</th>\n",
       "      <td>0.353567</td>\n",
       "      <td>0.369187</td>\n",
       "      <td>0.381308</td>\n",
       "      <td>0.739589</td>\n",
       "      <td>0.196832</td>\n",
       "      <td>0.342802</td>\n",
       "      <td>0.369086</td>\n",
       "      <td>0.584013</td>\n",
       "      <td>0.435119</td>\n",
       "      <td>0.325549</td>\n",
       "      <td>0.083641</td>\n",
       "      <td>0.019950</td>\n",
       "      <td>0.541571</td>\n",
       "      <td>0.037803</td>\n",
       "      <td>0.501744</td>\n",
       "      <td>0.656227</td>\n",
       "      <td>0.277491</td>\n",
       "      <td>0.063584</td>\n",
       "      <td>0.112356</td>\n",
       "      <td>0.736726</td>\n",
       "      <td>0.059078</td>\n",
       "      <td>0.087082</td>\n",
       "      <td>0.058679</td>\n",
       "      <td>0.209048</td>\n",
       "      <td>0.021187</td>\n",
       "      <td>0.033128</td>\n",
       "      <td>0.497204</td>\n",
       "      <td>0.040271</td>\n",
       "      <td>0.138218</td>\n",
       "      <td>0.082268</td>\n",
       "      <td>0.633951</td>\n",
       "      <td>0.319652</td>\n",
       "      <td>0.069286</td>\n",
       "      <td>0.182500</td>\n",
       "      <td>0.350715</td>\n",
       "      <td>0.695374</td>\n",
       "      <td>0.077593</td>\n",
       "      <td>0.121645</td>\n",
       "      <td>0.016433</td>\n",
       "      <td>0.004546</td>\n",
       "      <td>...</td>\n",
       "      <td>0.016142</td>\n",
       "      <td>0.114275</td>\n",
       "      <td>0.098944</td>\n",
       "      <td>0.005960</td>\n",
       "      <td>0.006177</td>\n",
       "      <td>0.286653</td>\n",
       "      <td>0.134916</td>\n",
       "      <td>0.093228</td>\n",
       "      <td>0.017660</td>\n",
       "      <td>0.106486</td>\n",
       "      <td>0.375846</td>\n",
       "      <td>0.290925</td>\n",
       "      <td>0.120915</td>\n",
       "      <td>0.012536</td>\n",
       "      <td>0.125794</td>\n",
       "      <td>0.169397</td>\n",
       "      <td>0.010198</td>\n",
       "      <td>0.067279</td>\n",
       "      <td>0.015456</td>\n",
       "      <td>0.416969</td>\n",
       "      <td>0.055474</td>\n",
       "      <td>0.547104</td>\n",
       "      <td>0.420761</td>\n",
       "      <td>0.593623</td>\n",
       "      <td>0.505691</td>\n",
       "      <td>0.248701</td>\n",
       "      <td>0.508413</td>\n",
       "      <td>0.367919</td>\n",
       "      <td>0.447311</td>\n",
       "      <td>0.030748</td>\n",
       "      <td>0.451104</td>\n",
       "      <td>0.611826</td>\n",
       "      <td>0.869055</td>\n",
       "      <td>0.621296</td>\n",
       "      <td>0.117591</td>\n",
       "      <td>0.695421</td>\n",
       "      <td>0.242976</td>\n",
       "      <td>0.273956</td>\n",
       "      <td>0.527983</td>\n",
       "      <td>0.149566</td>\n",
       "    </tr>\n",
       "    <tr>\n",
       "      <th>3</th>\n",
       "      <td>0.289685</td>\n",
       "      <td>0.446525</td>\n",
       "      <td>0.368098</td>\n",
       "      <td>0.743246</td>\n",
       "      <td>0.194006</td>\n",
       "      <td>0.383502</td>\n",
       "      <td>0.374382</td>\n",
       "      <td>0.575526</td>\n",
       "      <td>0.423887</td>\n",
       "      <td>0.316597</td>\n",
       "      <td>0.090350</td>\n",
       "      <td>0.017722</td>\n",
       "      <td>0.523937</td>\n",
       "      <td>0.038977</td>\n",
       "      <td>0.565784</td>\n",
       "      <td>0.602862</td>\n",
       "      <td>0.321420</td>\n",
       "      <td>0.061345</td>\n",
       "      <td>0.128485</td>\n",
       "      <td>0.755552</td>\n",
       "      <td>0.067016</td>\n",
       "      <td>0.072257</td>\n",
       "      <td>0.055558</td>\n",
       "      <td>0.309735</td>\n",
       "      <td>0.018430</td>\n",
       "      <td>0.040872</td>\n",
       "      <td>0.448198</td>\n",
       "      <td>0.041941</td>\n",
       "      <td>0.149049</td>\n",
       "      <td>0.068578</td>\n",
       "      <td>0.629121</td>\n",
       "      <td>0.331520</td>\n",
       "      <td>0.072695</td>\n",
       "      <td>0.218409</td>\n",
       "      <td>0.307310</td>\n",
       "      <td>0.704760</td>\n",
       "      <td>0.094204</td>\n",
       "      <td>0.124134</td>\n",
       "      <td>0.017315</td>\n",
       "      <td>0.005911</td>\n",
       "      <td>...</td>\n",
       "      <td>0.015381</td>\n",
       "      <td>0.096715</td>\n",
       "      <td>0.117297</td>\n",
       "      <td>0.005865</td>\n",
       "      <td>0.005924</td>\n",
       "      <td>0.336757</td>\n",
       "      <td>0.128250</td>\n",
       "      <td>0.091358</td>\n",
       "      <td>0.016779</td>\n",
       "      <td>0.090829</td>\n",
       "      <td>0.399971</td>\n",
       "      <td>0.260005</td>\n",
       "      <td>0.107996</td>\n",
       "      <td>0.014049</td>\n",
       "      <td>0.128906</td>\n",
       "      <td>0.159237</td>\n",
       "      <td>0.010523</td>\n",
       "      <td>0.070409</td>\n",
       "      <td>0.015051</td>\n",
       "      <td>0.372946</td>\n",
       "      <td>0.049062</td>\n",
       "      <td>0.510139</td>\n",
       "      <td>0.412254</td>\n",
       "      <td>0.543802</td>\n",
       "      <td>0.552254</td>\n",
       "      <td>0.269152</td>\n",
       "      <td>0.558970</td>\n",
       "      <td>0.306498</td>\n",
       "      <td>0.378589</td>\n",
       "      <td>0.034716</td>\n",
       "      <td>0.446722</td>\n",
       "      <td>0.643648</td>\n",
       "      <td>0.865178</td>\n",
       "      <td>0.631049</td>\n",
       "      <td>0.134353</td>\n",
       "      <td>0.742303</td>\n",
       "      <td>0.221173</td>\n",
       "      <td>0.270376</td>\n",
       "      <td>0.528144</td>\n",
       "      <td>0.236169</td>\n",
       "    </tr>\n",
       "    <tr>\n",
       "      <th>4</th>\n",
       "      <td>0.332315</td>\n",
       "      <td>0.441853</td>\n",
       "      <td>0.371210</td>\n",
       "      <td>0.768285</td>\n",
       "      <td>0.209948</td>\n",
       "      <td>0.392222</td>\n",
       "      <td>0.382793</td>\n",
       "      <td>0.556117</td>\n",
       "      <td>0.369733</td>\n",
       "      <td>0.306843</td>\n",
       "      <td>0.114857</td>\n",
       "      <td>0.018137</td>\n",
       "      <td>0.584544</td>\n",
       "      <td>0.037699</td>\n",
       "      <td>0.496897</td>\n",
       "      <td>0.614437</td>\n",
       "      <td>0.266400</td>\n",
       "      <td>0.057820</td>\n",
       "      <td>0.135201</td>\n",
       "      <td>0.738470</td>\n",
       "      <td>0.072205</td>\n",
       "      <td>0.079495</td>\n",
       "      <td>0.056456</td>\n",
       "      <td>0.268952</td>\n",
       "      <td>0.022484</td>\n",
       "      <td>0.038267</td>\n",
       "      <td>0.499002</td>\n",
       "      <td>0.037268</td>\n",
       "      <td>0.149921</td>\n",
       "      <td>0.057553</td>\n",
       "      <td>0.597194</td>\n",
       "      <td>0.309164</td>\n",
       "      <td>0.071993</td>\n",
       "      <td>0.198915</td>\n",
       "      <td>0.331536</td>\n",
       "      <td>0.750078</td>\n",
       "      <td>0.110479</td>\n",
       "      <td>0.115467</td>\n",
       "      <td>0.016910</td>\n",
       "      <td>0.005200</td>\n",
       "      <td>...</td>\n",
       "      <td>0.013585</td>\n",
       "      <td>0.108691</td>\n",
       "      <td>0.110710</td>\n",
       "      <td>0.007335</td>\n",
       "      <td>0.005862</td>\n",
       "      <td>0.316396</td>\n",
       "      <td>0.130076</td>\n",
       "      <td>0.103678</td>\n",
       "      <td>0.017426</td>\n",
       "      <td>0.083312</td>\n",
       "      <td>0.369141</td>\n",
       "      <td>0.283194</td>\n",
       "      <td>0.138381</td>\n",
       "      <td>0.013934</td>\n",
       "      <td>0.126630</td>\n",
       "      <td>0.192148</td>\n",
       "      <td>0.009608</td>\n",
       "      <td>0.066972</td>\n",
       "      <td>0.015949</td>\n",
       "      <td>0.379774</td>\n",
       "      <td>0.047634</td>\n",
       "      <td>0.542239</td>\n",
       "      <td>0.392673</td>\n",
       "      <td>0.551707</td>\n",
       "      <td>0.496574</td>\n",
       "      <td>0.317290</td>\n",
       "      <td>0.447840</td>\n",
       "      <td>0.297249</td>\n",
       "      <td>0.348352</td>\n",
       "      <td>0.031893</td>\n",
       "      <td>0.413978</td>\n",
       "      <td>0.584360</td>\n",
       "      <td>0.866607</td>\n",
       "      <td>0.576345</td>\n",
       "      <td>0.122270</td>\n",
       "      <td>0.659696</td>\n",
       "      <td>0.214854</td>\n",
       "      <td>0.268316</td>\n",
       "      <td>0.522375</td>\n",
       "      <td>0.188139</td>\n",
       "    </tr>\n",
       "    <tr>\n",
       "      <th>5</th>\n",
       "      <td>0.349051</td>\n",
       "      <td>0.373756</td>\n",
       "      <td>0.395854</td>\n",
       "      <td>0.755979</td>\n",
       "      <td>0.187767</td>\n",
       "      <td>0.361811</td>\n",
       "      <td>0.378643</td>\n",
       "      <td>0.591646</td>\n",
       "      <td>0.408061</td>\n",
       "      <td>0.309527</td>\n",
       "      <td>0.106966</td>\n",
       "      <td>0.019877</td>\n",
       "      <td>0.543881</td>\n",
       "      <td>0.042151</td>\n",
       "      <td>0.440180</td>\n",
       "      <td>0.597254</td>\n",
       "      <td>0.320220</td>\n",
       "      <td>0.063234</td>\n",
       "      <td>0.127131</td>\n",
       "      <td>0.757840</td>\n",
       "      <td>0.060369</td>\n",
       "      <td>0.072030</td>\n",
       "      <td>0.052235</td>\n",
       "      <td>0.244660</td>\n",
       "      <td>0.022927</td>\n",
       "      <td>0.038067</td>\n",
       "      <td>0.481104</td>\n",
       "      <td>0.038478</td>\n",
       "      <td>0.146774</td>\n",
       "      <td>0.082927</td>\n",
       "      <td>0.660131</td>\n",
       "      <td>0.341797</td>\n",
       "      <td>0.063080</td>\n",
       "      <td>0.183129</td>\n",
       "      <td>0.288574</td>\n",
       "      <td>0.687648</td>\n",
       "      <td>0.090006</td>\n",
       "      <td>0.118141</td>\n",
       "      <td>0.015741</td>\n",
       "      <td>0.003642</td>\n",
       "      <td>...</td>\n",
       "      <td>0.014154</td>\n",
       "      <td>0.110125</td>\n",
       "      <td>0.109173</td>\n",
       "      <td>0.005883</td>\n",
       "      <td>0.005097</td>\n",
       "      <td>0.311996</td>\n",
       "      <td>0.129017</td>\n",
       "      <td>0.080637</td>\n",
       "      <td>0.015957</td>\n",
       "      <td>0.104122</td>\n",
       "      <td>0.387943</td>\n",
       "      <td>0.296614</td>\n",
       "      <td>0.124859</td>\n",
       "      <td>0.013113</td>\n",
       "      <td>0.115914</td>\n",
       "      <td>0.176856</td>\n",
       "      <td>0.010014</td>\n",
       "      <td>0.065270</td>\n",
       "      <td>0.014342</td>\n",
       "      <td>0.351771</td>\n",
       "      <td>0.054687</td>\n",
       "      <td>0.442966</td>\n",
       "      <td>0.425947</td>\n",
       "      <td>0.597548</td>\n",
       "      <td>0.492185</td>\n",
       "      <td>0.268421</td>\n",
       "      <td>0.435018</td>\n",
       "      <td>0.244370</td>\n",
       "      <td>0.461630</td>\n",
       "      <td>0.034866</td>\n",
       "      <td>0.462946</td>\n",
       "      <td>0.616386</td>\n",
       "      <td>0.861564</td>\n",
       "      <td>0.576037</td>\n",
       "      <td>0.116230</td>\n",
       "      <td>0.668521</td>\n",
       "      <td>0.312928</td>\n",
       "      <td>0.285595</td>\n",
       "      <td>0.532047</td>\n",
       "      <td>0.206856</td>\n",
       "    </tr>\n",
       "    <tr>\n",
       "      <th>6</th>\n",
       "      <td>0.301661</td>\n",
       "      <td>0.404584</td>\n",
       "      <td>0.375173</td>\n",
       "      <td>0.787502</td>\n",
       "      <td>0.155909</td>\n",
       "      <td>0.362569</td>\n",
       "      <td>0.392408</td>\n",
       "      <td>0.570627</td>\n",
       "      <td>0.430458</td>\n",
       "      <td>0.298926</td>\n",
       "      <td>0.079105</td>\n",
       "      <td>0.022249</td>\n",
       "      <td>0.524938</td>\n",
       "      <td>0.039703</td>\n",
       "      <td>0.476774</td>\n",
       "      <td>0.643463</td>\n",
       "      <td>0.295394</td>\n",
       "      <td>0.054852</td>\n",
       "      <td>0.116716</td>\n",
       "      <td>0.771219</td>\n",
       "      <td>0.081654</td>\n",
       "      <td>0.076905</td>\n",
       "      <td>0.042493</td>\n",
       "      <td>0.269553</td>\n",
       "      <td>0.021111</td>\n",
       "      <td>0.042634</td>\n",
       "      <td>0.474286</td>\n",
       "      <td>0.041171</td>\n",
       "      <td>0.149107</td>\n",
       "      <td>0.068775</td>\n",
       "      <td>0.596358</td>\n",
       "      <td>0.290389</td>\n",
       "      <td>0.074259</td>\n",
       "      <td>0.191989</td>\n",
       "      <td>0.311951</td>\n",
       "      <td>0.716250</td>\n",
       "      <td>0.117689</td>\n",
       "      <td>0.132130</td>\n",
       "      <td>0.017789</td>\n",
       "      <td>0.004266</td>\n",
       "      <td>...</td>\n",
       "      <td>0.016800</td>\n",
       "      <td>0.115787</td>\n",
       "      <td>0.091455</td>\n",
       "      <td>0.005007</td>\n",
       "      <td>0.005988</td>\n",
       "      <td>0.323316</td>\n",
       "      <td>0.153714</td>\n",
       "      <td>0.099183</td>\n",
       "      <td>0.018256</td>\n",
       "      <td>0.080689</td>\n",
       "      <td>0.349064</td>\n",
       "      <td>0.333095</td>\n",
       "      <td>0.108010</td>\n",
       "      <td>0.013913</td>\n",
       "      <td>0.138060</td>\n",
       "      <td>0.187652</td>\n",
       "      <td>0.010151</td>\n",
       "      <td>0.065908</td>\n",
       "      <td>0.011892</td>\n",
       "      <td>0.373309</td>\n",
       "      <td>0.058203</td>\n",
       "      <td>0.513353</td>\n",
       "      <td>0.412655</td>\n",
       "      <td>0.591262</td>\n",
       "      <td>0.526257</td>\n",
       "      <td>0.295841</td>\n",
       "      <td>0.492713</td>\n",
       "      <td>0.294127</td>\n",
       "      <td>0.409927</td>\n",
       "      <td>0.036466</td>\n",
       "      <td>0.404073</td>\n",
       "      <td>0.633587</td>\n",
       "      <td>0.881451</td>\n",
       "      <td>0.669118</td>\n",
       "      <td>0.121093</td>\n",
       "      <td>0.746823</td>\n",
       "      <td>0.248589</td>\n",
       "      <td>0.302965</td>\n",
       "      <td>0.470850</td>\n",
       "      <td>0.172327</td>\n",
       "    </tr>\n",
       "    <tr>\n",
       "      <th>7</th>\n",
       "      <td>0.305678</td>\n",
       "      <td>0.413857</td>\n",
       "      <td>0.398572</td>\n",
       "      <td>0.732354</td>\n",
       "      <td>0.206328</td>\n",
       "      <td>0.353959</td>\n",
       "      <td>0.368928</td>\n",
       "      <td>0.578187</td>\n",
       "      <td>0.472693</td>\n",
       "      <td>0.290151</td>\n",
       "      <td>0.111009</td>\n",
       "      <td>0.017014</td>\n",
       "      <td>0.600188</td>\n",
       "      <td>0.048803</td>\n",
       "      <td>0.431037</td>\n",
       "      <td>0.623889</td>\n",
       "      <td>0.275962</td>\n",
       "      <td>0.061246</td>\n",
       "      <td>0.144955</td>\n",
       "      <td>0.700277</td>\n",
       "      <td>0.069848</td>\n",
       "      <td>0.064557</td>\n",
       "      <td>0.051330</td>\n",
       "      <td>0.247723</td>\n",
       "      <td>0.018917</td>\n",
       "      <td>0.037561</td>\n",
       "      <td>0.492278</td>\n",
       "      <td>0.032011</td>\n",
       "      <td>0.157850</td>\n",
       "      <td>0.078899</td>\n",
       "      <td>0.610314</td>\n",
       "      <td>0.284315</td>\n",
       "      <td>0.050393</td>\n",
       "      <td>0.203048</td>\n",
       "      <td>0.325305</td>\n",
       "      <td>0.714600</td>\n",
       "      <td>0.079816</td>\n",
       "      <td>0.131720</td>\n",
       "      <td>0.019537</td>\n",
       "      <td>0.004617</td>\n",
       "      <td>...</td>\n",
       "      <td>0.015810</td>\n",
       "      <td>0.100542</td>\n",
       "      <td>0.102800</td>\n",
       "      <td>0.006140</td>\n",
       "      <td>0.006337</td>\n",
       "      <td>0.333553</td>\n",
       "      <td>0.123869</td>\n",
       "      <td>0.093551</td>\n",
       "      <td>0.017212</td>\n",
       "      <td>0.111822</td>\n",
       "      <td>0.403408</td>\n",
       "      <td>0.289558</td>\n",
       "      <td>0.096914</td>\n",
       "      <td>0.014016</td>\n",
       "      <td>0.123100</td>\n",
       "      <td>0.137017</td>\n",
       "      <td>0.012723</td>\n",
       "      <td>0.050499</td>\n",
       "      <td>0.016872</td>\n",
       "      <td>0.399982</td>\n",
       "      <td>0.040122</td>\n",
       "      <td>0.518182</td>\n",
       "      <td>0.507189</td>\n",
       "      <td>0.584808</td>\n",
       "      <td>0.490422</td>\n",
       "      <td>0.258149</td>\n",
       "      <td>0.519529</td>\n",
       "      <td>0.263245</td>\n",
       "      <td>0.516281</td>\n",
       "      <td>0.035561</td>\n",
       "      <td>0.407257</td>\n",
       "      <td>0.564438</td>\n",
       "      <td>0.875027</td>\n",
       "      <td>0.650950</td>\n",
       "      <td>0.109105</td>\n",
       "      <td>0.724175</td>\n",
       "      <td>0.300984</td>\n",
       "      <td>0.270473</td>\n",
       "      <td>0.527034</td>\n",
       "      <td>0.195038</td>\n",
       "    </tr>\n",
       "  </tbody>\n",
       "</table>\n",
       "<p>8 rows × 24000 columns</p>\n",
       "</div>"
      ],
      "text/plain": [
       "      0         1         2         3         4         5         6      \\\n",
       "0  0.372921  0.396441  0.371848  0.744578  0.160414  0.328547  0.373582   \n",
       "1  0.298085  0.368263  0.358783  0.776056  0.202239  0.388081  0.397717   \n",
       "2  0.353567  0.369187  0.381308  0.739589  0.196832  0.342802  0.369086   \n",
       "3  0.289685  0.446525  0.368098  0.743246  0.194006  0.383502  0.374382   \n",
       "4  0.332315  0.441853  0.371210  0.768285  0.209948  0.392222  0.382793   \n",
       "5  0.349051  0.373756  0.395854  0.755979  0.187767  0.361811  0.378643   \n",
       "6  0.301661  0.404584  0.375173  0.787502  0.155909  0.362569  0.392408   \n",
       "7  0.305678  0.413857  0.398572  0.732354  0.206328  0.353959  0.368928   \n",
       "\n",
       "      7         8         9         10        11        12        13     \\\n",
       "0  0.565930  0.385529  0.350568  0.107736  0.020793  0.537535  0.040119   \n",
       "1  0.567089  0.425311  0.314004  0.109310  0.017545  0.584296  0.038964   \n",
       "2  0.584013  0.435119  0.325549  0.083641  0.019950  0.541571  0.037803   \n",
       "3  0.575526  0.423887  0.316597  0.090350  0.017722  0.523937  0.038977   \n",
       "4  0.556117  0.369733  0.306843  0.114857  0.018137  0.584544  0.037699   \n",
       "5  0.591646  0.408061  0.309527  0.106966  0.019877  0.543881  0.042151   \n",
       "6  0.570627  0.430458  0.298926  0.079105  0.022249  0.524938  0.039703   \n",
       "7  0.578187  0.472693  0.290151  0.111009  0.017014  0.600188  0.048803   \n",
       "\n",
       "      14        15        16        17        18        19        20     \\\n",
       "0  0.452260  0.670934  0.309269  0.066502  0.126143  0.750165  0.079158   \n",
       "1  0.454628  0.641596  0.305588  0.054697  0.127318  0.726688  0.072992   \n",
       "2  0.501744  0.656227  0.277491  0.063584  0.112356  0.736726  0.059078   \n",
       "3  0.565784  0.602862  0.321420  0.061345  0.128485  0.755552  0.067016   \n",
       "4  0.496897  0.614437  0.266400  0.057820  0.135201  0.738470  0.072205   \n",
       "5  0.440180  0.597254  0.320220  0.063234  0.127131  0.757840  0.060369   \n",
       "6  0.476774  0.643463  0.295394  0.054852  0.116716  0.771219  0.081654   \n",
       "7  0.431037  0.623889  0.275962  0.061246  0.144955  0.700277  0.069848   \n",
       "\n",
       "      21        22        23        24        25        26        27     \\\n",
       "0  0.085669  0.057784  0.314444  0.030529  0.040468  0.423891  0.039494   \n",
       "1  0.076813  0.054252  0.275099  0.026308  0.035337  0.493392  0.036439   \n",
       "2  0.087082  0.058679  0.209048  0.021187  0.033128  0.497204  0.040271   \n",
       "3  0.072257  0.055558  0.309735  0.018430  0.040872  0.448198  0.041941   \n",
       "4  0.079495  0.056456  0.268952  0.022484  0.038267  0.499002  0.037268   \n",
       "5  0.072030  0.052235  0.244660  0.022927  0.038067  0.481104  0.038478   \n",
       "6  0.076905  0.042493  0.269553  0.021111  0.042634  0.474286  0.041171   \n",
       "7  0.064557  0.051330  0.247723  0.018917  0.037561  0.492278  0.032011   \n",
       "\n",
       "      28        29        30        31        32        33        34     \\\n",
       "0  0.144136  0.074949  0.607407  0.335737  0.080632  0.201953  0.309257   \n",
       "1  0.146899  0.080224  0.620841  0.321483  0.079762  0.196112  0.325113   \n",
       "2  0.138218  0.082268  0.633951  0.319652  0.069286  0.182500  0.350715   \n",
       "3  0.149049  0.068578  0.629121  0.331520  0.072695  0.218409  0.307310   \n",
       "4  0.149921  0.057553  0.597194  0.309164  0.071993  0.198915  0.331536   \n",
       "5  0.146774  0.082927  0.660131  0.341797  0.063080  0.183129  0.288574   \n",
       "6  0.149107  0.068775  0.596358  0.290389  0.074259  0.191989  0.311951   \n",
       "7  0.157850  0.078899  0.610314  0.284315  0.050393  0.203048  0.325305   \n",
       "\n",
       "      35        36        37        38        39     ...     23960     23961  \\\n",
       "0  0.664504  0.102969  0.113823  0.018033  0.005358  ...  0.015429  0.108611   \n",
       "1  0.661273  0.101258  0.103513  0.018026  0.005192  ...  0.014486  0.106383   \n",
       "2  0.695374  0.077593  0.121645  0.016433  0.004546  ...  0.016142  0.114275   \n",
       "3  0.704760  0.094204  0.124134  0.017315  0.005911  ...  0.015381  0.096715   \n",
       "4  0.750078  0.110479  0.115467  0.016910  0.005200  ...  0.013585  0.108691   \n",
       "5  0.687648  0.090006  0.118141  0.015741  0.003642  ...  0.014154  0.110125   \n",
       "6  0.716250  0.117689  0.132130  0.017789  0.004266  ...  0.016800  0.115787   \n",
       "7  0.714600  0.079816  0.131720  0.019537  0.004617  ...  0.015810  0.100542   \n",
       "\n",
       "      23962     23963     23964     23965     23966     23967     23968  \\\n",
       "0  0.113779  0.006232  0.006051  0.318983  0.128988  0.094804  0.019660   \n",
       "1  0.117240  0.006693  0.006150  0.277481  0.130502  0.104484  0.017130   \n",
       "2  0.098944  0.005960  0.006177  0.286653  0.134916  0.093228  0.017660   \n",
       "3  0.117297  0.005865  0.005924  0.336757  0.128250  0.091358  0.016779   \n",
       "4  0.110710  0.007335  0.005862  0.316396  0.130076  0.103678  0.017426   \n",
       "5  0.109173  0.005883  0.005097  0.311996  0.129017  0.080637  0.015957   \n",
       "6  0.091455  0.005007  0.005988  0.323316  0.153714  0.099183  0.018256   \n",
       "7  0.102800  0.006140  0.006337  0.333553  0.123869  0.093551  0.017212   \n",
       "\n",
       "      23969     23970     23971     23972     23973     23974     23975  \\\n",
       "0  0.101967  0.447801  0.329513  0.108592  0.015278  0.138154  0.181802   \n",
       "1  0.094495  0.437053  0.295461  0.130750  0.012954  0.105029  0.131729   \n",
       "2  0.106486  0.375846  0.290925  0.120915  0.012536  0.125794  0.169397   \n",
       "3  0.090829  0.399971  0.260005  0.107996  0.014049  0.128906  0.159237   \n",
       "4  0.083312  0.369141  0.283194  0.138381  0.013934  0.126630  0.192148   \n",
       "5  0.104122  0.387943  0.296614  0.124859  0.013113  0.115914  0.176856   \n",
       "6  0.080689  0.349064  0.333095  0.108010  0.013913  0.138060  0.187652   \n",
       "7  0.111822  0.403408  0.289558  0.096914  0.014016  0.123100  0.137017   \n",
       "\n",
       "      23976     23977     23978     23979     23980     23981     23982  \\\n",
       "0  0.010279  0.066670  0.016346  0.405297  0.049832  0.458477  0.393564   \n",
       "1  0.011193  0.061468  0.016466  0.391324  0.052698  0.535376  0.400328   \n",
       "2  0.010198  0.067279  0.015456  0.416969  0.055474  0.547104  0.420761   \n",
       "3  0.010523  0.070409  0.015051  0.372946  0.049062  0.510139  0.412254   \n",
       "4  0.009608  0.066972  0.015949  0.379774  0.047634  0.542239  0.392673   \n",
       "5  0.010014  0.065270  0.014342  0.351771  0.054687  0.442966  0.425947   \n",
       "6  0.010151  0.065908  0.011892  0.373309  0.058203  0.513353  0.412655   \n",
       "7  0.012723  0.050499  0.016872  0.399982  0.040122  0.518182  0.507189   \n",
       "\n",
       "      23983     23984     23985     23986     23987     23988     23989  \\\n",
       "0  0.571826  0.559463  0.303491  0.424195  0.284595  0.466638  0.036537   \n",
       "1  0.581505  0.527562  0.349800  0.455470  0.288442  0.466605  0.039119   \n",
       "2  0.593623  0.505691  0.248701  0.508413  0.367919  0.447311  0.030748   \n",
       "3  0.543802  0.552254  0.269152  0.558970  0.306498  0.378589  0.034716   \n",
       "4  0.551707  0.496574  0.317290  0.447840  0.297249  0.348352  0.031893   \n",
       "5  0.597548  0.492185  0.268421  0.435018  0.244370  0.461630  0.034866   \n",
       "6  0.591262  0.526257  0.295841  0.492713  0.294127  0.409927  0.036466   \n",
       "7  0.584808  0.490422  0.258149  0.519529  0.263245  0.516281  0.035561   \n",
       "\n",
       "      23990     23991     23992     23993     23994     23995     23996  \\\n",
       "0  0.459599  0.613366  0.852750  0.571896  0.142309  0.726090  0.246306   \n",
       "1  0.418712  0.590515  0.857107  0.650035  0.134045  0.692761  0.272384   \n",
       "2  0.451104  0.611826  0.869055  0.621296  0.117591  0.695421  0.242976   \n",
       "3  0.446722  0.643648  0.865178  0.631049  0.134353  0.742303  0.221173   \n",
       "4  0.413978  0.584360  0.866607  0.576345  0.122270  0.659696  0.214854   \n",
       "5  0.462946  0.616386  0.861564  0.576037  0.116230  0.668521  0.312928   \n",
       "6  0.404073  0.633587  0.881451  0.669118  0.121093  0.746823  0.248589   \n",
       "7  0.407257  0.564438  0.875027  0.650950  0.109105  0.724175  0.300984   \n",
       "\n",
       "      23997     23998     23999  \n",
       "0  0.314021  0.525091  0.177703  \n",
       "1  0.315050  0.548586  0.189819  \n",
       "2  0.273956  0.527983  0.149566  \n",
       "3  0.270376  0.528144  0.236169  \n",
       "4  0.268316  0.522375  0.188139  \n",
       "5  0.285595  0.532047  0.206856  \n",
       "6  0.302965  0.470850  0.172327  \n",
       "7  0.270473  0.527034  0.195038  \n",
       "\n",
       "[8 rows x 24000 columns]"
      ]
     },
     "execution_count": 30,
     "metadata": {},
     "output_type": "execute_result"
    }
   ],
   "source": [
    "prediction = pd.DataFrame(test_pred)\n",
    "prediction.head(20)"
   ]
  },
  {
   "cell_type": "code",
   "execution_count": 31,
   "metadata": {
    "id": "Kki6h5G7t4Dt"
   },
   "outputs": [],
   "source": [
    "dt = pd.read_csv('Test.csv')\n",
    "output = pd.DataFrame({'Applicant_ID' : dt['Applicant_ID'], \"default_status\": np.mean(prediction, axis = 0)})"
   ]
  },
  {
   "cell_type": "code",
   "execution_count": 32,
   "metadata": {},
   "outputs": [
    {
     "data": {
      "text/html": [
       "<div>\n",
       "<style scoped>\n",
       "    .dataframe tbody tr th:only-of-type {\n",
       "        vertical-align: middle;\n",
       "    }\n",
       "\n",
       "    .dataframe tbody tr th {\n",
       "        vertical-align: top;\n",
       "    }\n",
       "\n",
       "    .dataframe thead th {\n",
       "        text-align: right;\n",
       "    }\n",
       "</style>\n",
       "<table border=\"1\" class=\"dataframe\">\n",
       "  <thead>\n",
       "    <tr style=\"text-align: right;\">\n",
       "      <th></th>\n",
       "      <th>Applicant_ID</th>\n",
       "      <th>default_status</th>\n",
       "    </tr>\n",
       "  </thead>\n",
       "  <tbody>\n",
       "    <tr>\n",
       "      <th>0</th>\n",
       "      <td>Apcnt_1000032</td>\n",
       "      <td>0.325370</td>\n",
       "    </tr>\n",
       "    <tr>\n",
       "      <th>1</th>\n",
       "      <td>Apcnt_1000048</td>\n",
       "      <td>0.401808</td>\n",
       "    </tr>\n",
       "    <tr>\n",
       "      <th>2</th>\n",
       "      <td>Apcnt_1000052</td>\n",
       "      <td>0.377606</td>\n",
       "    </tr>\n",
       "    <tr>\n",
       "      <th>3</th>\n",
       "      <td>Apcnt_1000076</td>\n",
       "      <td>0.755949</td>\n",
       "    </tr>\n",
       "    <tr>\n",
       "      <th>4</th>\n",
       "      <td>Apcnt_1000080</td>\n",
       "      <td>0.189180</td>\n",
       "    </tr>\n",
       "    <tr>\n",
       "      <th>5</th>\n",
       "      <td>Apcnt_1000084</td>\n",
       "      <td>0.364187</td>\n",
       "    </tr>\n",
       "    <tr>\n",
       "      <th>6</th>\n",
       "      <td>Apcnt_1000104</td>\n",
       "      <td>0.379692</td>\n",
       "    </tr>\n",
       "    <tr>\n",
       "      <th>7</th>\n",
       "      <td>Apcnt_1000116</td>\n",
       "      <td>0.573642</td>\n",
       "    </tr>\n",
       "    <tr>\n",
       "      <th>8</th>\n",
       "      <td>Apcnt_1000128</td>\n",
       "      <td>0.418849</td>\n",
       "    </tr>\n",
       "    <tr>\n",
       "      <th>9</th>\n",
       "      <td>Apcnt_1000156</td>\n",
       "      <td>0.314021</td>\n",
       "    </tr>\n",
       "    <tr>\n",
       "      <th>10</th>\n",
       "      <td>Apcnt_1000192</td>\n",
       "      <td>0.100372</td>\n",
       "    </tr>\n",
       "    <tr>\n",
       "      <th>11</th>\n",
       "      <td>Apcnt_1000208</td>\n",
       "      <td>0.019161</td>\n",
       "    </tr>\n",
       "    <tr>\n",
       "      <th>12</th>\n",
       "      <td>Apcnt_1000264</td>\n",
       "      <td>0.555111</td>\n",
       "    </tr>\n",
       "    <tr>\n",
       "      <th>13</th>\n",
       "      <td>Apcnt_1000288</td>\n",
       "      <td>0.040527</td>\n",
       "    </tr>\n",
       "    <tr>\n",
       "      <th>14</th>\n",
       "      <td>Apcnt_1000292</td>\n",
       "      <td>0.477413</td>\n",
       "    </tr>\n",
       "    <tr>\n",
       "      <th>15</th>\n",
       "      <td>Apcnt_1000328</td>\n",
       "      <td>0.631333</td>\n",
       "    </tr>\n",
       "    <tr>\n",
       "      <th>16</th>\n",
       "      <td>Apcnt_1000336</td>\n",
       "      <td>0.296468</td>\n",
       "    </tr>\n",
       "    <tr>\n",
       "      <th>17</th>\n",
       "      <td>Apcnt_1000356</td>\n",
       "      <td>0.060410</td>\n",
       "    </tr>\n",
       "    <tr>\n",
       "      <th>18</th>\n",
       "      <td>Apcnt_1000368</td>\n",
       "      <td>0.127288</td>\n",
       "    </tr>\n",
       "    <tr>\n",
       "      <th>19</th>\n",
       "      <td>Apcnt_1000372</td>\n",
       "      <td>0.742117</td>\n",
       "    </tr>\n",
       "    <tr>\n",
       "      <th>20</th>\n",
       "      <td>Apcnt_1000392</td>\n",
       "      <td>0.070290</td>\n",
       "    </tr>\n",
       "    <tr>\n",
       "      <th>21</th>\n",
       "      <td>Apcnt_1000396</td>\n",
       "      <td>0.076851</td>\n",
       "    </tr>\n",
       "    <tr>\n",
       "      <th>22</th>\n",
       "      <td>Apcnt_1000400</td>\n",
       "      <td>0.053598</td>\n",
       "    </tr>\n",
       "    <tr>\n",
       "      <th>23</th>\n",
       "      <td>Apcnt_1000416</td>\n",
       "      <td>0.267402</td>\n",
       "    </tr>\n",
       "    <tr>\n",
       "      <th>24</th>\n",
       "      <td>Apcnt_1000428</td>\n",
       "      <td>0.022737</td>\n",
       "    </tr>\n",
       "    <tr>\n",
       "      <th>25</th>\n",
       "      <td>Apcnt_1000440</td>\n",
       "      <td>0.038292</td>\n",
       "    </tr>\n",
       "    <tr>\n",
       "      <th>26</th>\n",
       "      <td>Apcnt_1000456</td>\n",
       "      <td>0.476169</td>\n",
       "    </tr>\n",
       "    <tr>\n",
       "      <th>27</th>\n",
       "      <td>Apcnt_1000472</td>\n",
       "      <td>0.038384</td>\n",
       "    </tr>\n",
       "    <tr>\n",
       "      <th>28</th>\n",
       "      <td>Apcnt_1000488</td>\n",
       "      <td>0.147744</td>\n",
       "    </tr>\n",
       "    <tr>\n",
       "      <th>29</th>\n",
       "      <td>Apcnt_1000492</td>\n",
       "      <td>0.074272</td>\n",
       "    </tr>\n",
       "    <tr>\n",
       "      <th>30</th>\n",
       "      <td>Apcnt_1000504</td>\n",
       "      <td>0.619415</td>\n",
       "    </tr>\n",
       "    <tr>\n",
       "      <th>31</th>\n",
       "      <td>Apcnt_1000516</td>\n",
       "      <td>0.316757</td>\n",
       "    </tr>\n",
       "    <tr>\n",
       "      <th>32</th>\n",
       "      <td>Apcnt_1000532</td>\n",
       "      <td>0.070262</td>\n",
       "    </tr>\n",
       "    <tr>\n",
       "      <th>33</th>\n",
       "      <td>Apcnt_1000552</td>\n",
       "      <td>0.197007</td>\n",
       "    </tr>\n",
       "    <tr>\n",
       "      <th>34</th>\n",
       "      <td>Apcnt_1000564</td>\n",
       "      <td>0.318720</td>\n",
       "    </tr>\n",
       "    <tr>\n",
       "      <th>35</th>\n",
       "      <td>Apcnt_1000576</td>\n",
       "      <td>0.699311</td>\n",
       "    </tr>\n",
       "    <tr>\n",
       "      <th>36</th>\n",
       "      <td>Apcnt_1000596</td>\n",
       "      <td>0.096752</td>\n",
       "    </tr>\n",
       "    <tr>\n",
       "      <th>37</th>\n",
       "      <td>Apcnt_1000620</td>\n",
       "      <td>0.120072</td>\n",
       "    </tr>\n",
       "    <tr>\n",
       "      <th>38</th>\n",
       "      <td>Apcnt_1000624</td>\n",
       "      <td>0.017473</td>\n",
       "    </tr>\n",
       "    <tr>\n",
       "      <th>39</th>\n",
       "      <td>Apcnt_1000636</td>\n",
       "      <td>0.004841</td>\n",
       "    </tr>\n",
       "    <tr>\n",
       "      <th>40</th>\n",
       "      <td>Apcnt_1000648</td>\n",
       "      <td>0.030041</td>\n",
       "    </tr>\n",
       "    <tr>\n",
       "      <th>41</th>\n",
       "      <td>Apcnt_1000668</td>\n",
       "      <td>0.033612</td>\n",
       "    </tr>\n",
       "    <tr>\n",
       "      <th>42</th>\n",
       "      <td>Apcnt_1000680</td>\n",
       "      <td>0.109328</td>\n",
       "    </tr>\n",
       "    <tr>\n",
       "      <th>43</th>\n",
       "      <td>Apcnt_1000696</td>\n",
       "      <td>0.042067</td>\n",
       "    </tr>\n",
       "    <tr>\n",
       "      <th>44</th>\n",
       "      <td>Apcnt_1000704</td>\n",
       "      <td>0.495354</td>\n",
       "    </tr>\n",
       "    <tr>\n",
       "      <th>45</th>\n",
       "      <td>Apcnt_1000724</td>\n",
       "      <td>0.042586</td>\n",
       "    </tr>\n",
       "    <tr>\n",
       "      <th>46</th>\n",
       "      <td>Apcnt_1000740</td>\n",
       "      <td>0.268072</td>\n",
       "    </tr>\n",
       "    <tr>\n",
       "      <th>47</th>\n",
       "      <td>Apcnt_1000744</td>\n",
       "      <td>0.012498</td>\n",
       "    </tr>\n",
       "    <tr>\n",
       "      <th>48</th>\n",
       "      <td>Apcnt_1000756</td>\n",
       "      <td>0.035459</td>\n",
       "    </tr>\n",
       "    <tr>\n",
       "      <th>49</th>\n",
       "      <td>Apcnt_1000768</td>\n",
       "      <td>0.005065</td>\n",
       "    </tr>\n",
       "  </tbody>\n",
       "</table>\n",
       "</div>"
      ],
      "text/plain": [
       "     Applicant_ID  default_status\n",
       "0   Apcnt_1000032        0.325370\n",
       "1   Apcnt_1000048        0.401808\n",
       "2   Apcnt_1000052        0.377606\n",
       "3   Apcnt_1000076        0.755949\n",
       "4   Apcnt_1000080        0.189180\n",
       "5   Apcnt_1000084        0.364187\n",
       "6   Apcnt_1000104        0.379692\n",
       "7   Apcnt_1000116        0.573642\n",
       "8   Apcnt_1000128        0.418849\n",
       "9   Apcnt_1000156        0.314021\n",
       "10  Apcnt_1000192        0.100372\n",
       "11  Apcnt_1000208        0.019161\n",
       "12  Apcnt_1000264        0.555111\n",
       "13  Apcnt_1000288        0.040527\n",
       "14  Apcnt_1000292        0.477413\n",
       "15  Apcnt_1000328        0.631333\n",
       "16  Apcnt_1000336        0.296468\n",
       "17  Apcnt_1000356        0.060410\n",
       "18  Apcnt_1000368        0.127288\n",
       "19  Apcnt_1000372        0.742117\n",
       "20  Apcnt_1000392        0.070290\n",
       "21  Apcnt_1000396        0.076851\n",
       "22  Apcnt_1000400        0.053598\n",
       "23  Apcnt_1000416        0.267402\n",
       "24  Apcnt_1000428        0.022737\n",
       "25  Apcnt_1000440        0.038292\n",
       "26  Apcnt_1000456        0.476169\n",
       "27  Apcnt_1000472        0.038384\n",
       "28  Apcnt_1000488        0.147744\n",
       "29  Apcnt_1000492        0.074272\n",
       "30  Apcnt_1000504        0.619415\n",
       "31  Apcnt_1000516        0.316757\n",
       "32  Apcnt_1000532        0.070262\n",
       "33  Apcnt_1000552        0.197007\n",
       "34  Apcnt_1000564        0.318720\n",
       "35  Apcnt_1000576        0.699311\n",
       "36  Apcnt_1000596        0.096752\n",
       "37  Apcnt_1000620        0.120072\n",
       "38  Apcnt_1000624        0.017473\n",
       "39  Apcnt_1000636        0.004841\n",
       "40  Apcnt_1000648        0.030041\n",
       "41  Apcnt_1000668        0.033612\n",
       "42  Apcnt_1000680        0.109328\n",
       "43  Apcnt_1000696        0.042067\n",
       "44  Apcnt_1000704        0.495354\n",
       "45  Apcnt_1000724        0.042586\n",
       "46  Apcnt_1000740        0.268072\n",
       "47  Apcnt_1000744        0.012498\n",
       "48  Apcnt_1000756        0.035459\n",
       "49  Apcnt_1000768        0.005065"
      ]
     },
     "execution_count": 32,
     "metadata": {},
     "output_type": "execute_result"
    }
   ],
   "source": [
    "output.head(50)"
   ]
  },
  {
   "cell_type": "code",
   "execution_count": null,
   "metadata": {},
   "outputs": [],
   "source": []
  },
  {
   "cell_type": "code",
   "execution_count": null,
   "metadata": {},
   "outputs": [],
   "source": []
  },
  {
   "cell_type": "code",
   "execution_count": 66,
   "metadata": {
    "colab": {
     "base_uri": "https://localhost:8080/",
     "height": 1547
    },
    "id": "1nxnlakuFz7j",
    "outputId": "118fecc9-b6a8-4de1-d576-afdebbf2c5a0"
   },
   "outputs": [
    {
     "data": {
      "text/html": [
       "<div>\n",
       "<style scoped>\n",
       "    .dataframe tbody tr th:only-of-type {\n",
       "        vertical-align: middle;\n",
       "    }\n",
       "\n",
       "    .dataframe tbody tr th {\n",
       "        vertical-align: top;\n",
       "    }\n",
       "\n",
       "    .dataframe thead th {\n",
       "        text-align: right;\n",
       "    }\n",
       "</style>\n",
       "<table border=\"1\" class=\"dataframe\">\n",
       "  <thead>\n",
       "    <tr style=\"text-align: right;\">\n",
       "      <th></th>\n",
       "      <th>Applicant_ID</th>\n",
       "      <th>default_status</th>\n",
       "    </tr>\n",
       "  </thead>\n",
       "  <tbody>\n",
       "    <tr>\n",
       "      <th>0</th>\n",
       "      <td>Apcnt_1000032</td>\n",
       "      <td>0.329019</td>\n",
       "    </tr>\n",
       "    <tr>\n",
       "      <th>1</th>\n",
       "      <td>Apcnt_1000048</td>\n",
       "      <td>0.411260</td>\n",
       "    </tr>\n",
       "    <tr>\n",
       "      <th>2</th>\n",
       "      <td>Apcnt_1000052</td>\n",
       "      <td>0.349365</td>\n",
       "    </tr>\n",
       "    <tr>\n",
       "      <th>3</th>\n",
       "      <td>Apcnt_1000076</td>\n",
       "      <td>0.745906</td>\n",
       "    </tr>\n",
       "    <tr>\n",
       "      <th>4</th>\n",
       "      <td>Apcnt_1000080</td>\n",
       "      <td>0.182204</td>\n",
       "    </tr>\n",
       "    <tr>\n",
       "      <th>5</th>\n",
       "      <td>Apcnt_1000084</td>\n",
       "      <td>0.356096</td>\n",
       "    </tr>\n",
       "    <tr>\n",
       "      <th>6</th>\n",
       "      <td>Apcnt_1000104</td>\n",
       "      <td>0.367451</td>\n",
       "    </tr>\n",
       "    <tr>\n",
       "      <th>7</th>\n",
       "      <td>Apcnt_1000116</td>\n",
       "      <td>0.578959</td>\n",
       "    </tr>\n",
       "    <tr>\n",
       "      <th>8</th>\n",
       "      <td>Apcnt_1000128</td>\n",
       "      <td>0.414560</td>\n",
       "    </tr>\n",
       "    <tr>\n",
       "      <th>9</th>\n",
       "      <td>Apcnt_1000156</td>\n",
       "      <td>0.319750</td>\n",
       "    </tr>\n",
       "    <tr>\n",
       "      <th>10</th>\n",
       "      <td>Apcnt_1000192</td>\n",
       "      <td>0.104303</td>\n",
       "    </tr>\n",
       "    <tr>\n",
       "      <th>11</th>\n",
       "      <td>Apcnt_1000208</td>\n",
       "      <td>0.021056</td>\n",
       "    </tr>\n",
       "    <tr>\n",
       "      <th>12</th>\n",
       "      <td>Apcnt_1000264</td>\n",
       "      <td>0.566330</td>\n",
       "    </tr>\n",
       "    <tr>\n",
       "      <th>13</th>\n",
       "      <td>Apcnt_1000288</td>\n",
       "      <td>0.039332</td>\n",
       "    </tr>\n",
       "    <tr>\n",
       "      <th>14</th>\n",
       "      <td>Apcnt_1000292</td>\n",
       "      <td>0.492021</td>\n",
       "    </tr>\n",
       "    <tr>\n",
       "      <th>15</th>\n",
       "      <td>Apcnt_1000328</td>\n",
       "      <td>0.643177</td>\n",
       "    </tr>\n",
       "    <tr>\n",
       "      <th>16</th>\n",
       "      <td>Apcnt_1000336</td>\n",
       "      <td>0.319537</td>\n",
       "    </tr>\n",
       "    <tr>\n",
       "      <th>17</th>\n",
       "      <td>Apcnt_1000356</td>\n",
       "      <td>0.059303</td>\n",
       "    </tr>\n",
       "    <tr>\n",
       "      <th>18</th>\n",
       "      <td>Apcnt_1000368</td>\n",
       "      <td>0.124625</td>\n",
       "    </tr>\n",
       "    <tr>\n",
       "      <th>19</th>\n",
       "      <td>Apcnt_1000372</td>\n",
       "      <td>0.729852</td>\n",
       "    </tr>\n",
       "    <tr>\n",
       "      <th>20</th>\n",
       "      <td>Apcnt_1000392</td>\n",
       "      <td>0.071733</td>\n",
       "    </tr>\n",
       "    <tr>\n",
       "      <th>21</th>\n",
       "      <td>Apcnt_1000396</td>\n",
       "      <td>0.088354</td>\n",
       "    </tr>\n",
       "    <tr>\n",
       "      <th>22</th>\n",
       "      <td>Apcnt_1000400</td>\n",
       "      <td>0.053265</td>\n",
       "    </tr>\n",
       "    <tr>\n",
       "      <th>23</th>\n",
       "      <td>Apcnt_1000416</td>\n",
       "      <td>0.265141</td>\n",
       "    </tr>\n",
       "    <tr>\n",
       "      <th>24</th>\n",
       "      <td>Apcnt_1000428</td>\n",
       "      <td>0.025802</td>\n",
       "    </tr>\n",
       "    <tr>\n",
       "      <th>25</th>\n",
       "      <td>Apcnt_1000440</td>\n",
       "      <td>0.037144</td>\n",
       "    </tr>\n",
       "    <tr>\n",
       "      <th>26</th>\n",
       "      <td>Apcnt_1000456</td>\n",
       "      <td>0.458165</td>\n",
       "    </tr>\n",
       "    <tr>\n",
       "      <th>27</th>\n",
       "      <td>Apcnt_1000472</td>\n",
       "      <td>0.040513</td>\n",
       "    </tr>\n",
       "    <tr>\n",
       "      <th>28</th>\n",
       "      <td>Apcnt_1000488</td>\n",
       "      <td>0.136821</td>\n",
       "    </tr>\n",
       "    <tr>\n",
       "      <th>29</th>\n",
       "      <td>Apcnt_1000492</td>\n",
       "      <td>0.076367</td>\n",
       "    </tr>\n",
       "    <tr>\n",
       "      <th>30</th>\n",
       "      <td>Apcnt_1000504</td>\n",
       "      <td>0.621005</td>\n",
       "    </tr>\n",
       "    <tr>\n",
       "      <th>31</th>\n",
       "      <td>Apcnt_1000516</td>\n",
       "      <td>0.313425</td>\n",
       "    </tr>\n",
       "    <tr>\n",
       "      <th>32</th>\n",
       "      <td>Apcnt_1000532</td>\n",
       "      <td>0.079751</td>\n",
       "    </tr>\n",
       "    <tr>\n",
       "      <th>33</th>\n",
       "      <td>Apcnt_1000552</td>\n",
       "      <td>0.201326</td>\n",
       "    </tr>\n",
       "    <tr>\n",
       "      <th>34</th>\n",
       "      <td>Apcnt_1000564</td>\n",
       "      <td>0.313601</td>\n",
       "    </tr>\n",
       "    <tr>\n",
       "      <th>35</th>\n",
       "      <td>Apcnt_1000576</td>\n",
       "      <td>0.686342</td>\n",
       "    </tr>\n",
       "    <tr>\n",
       "      <th>36</th>\n",
       "      <td>Apcnt_1000596</td>\n",
       "      <td>0.096008</td>\n",
       "    </tr>\n",
       "    <tr>\n",
       "      <th>37</th>\n",
       "      <td>Apcnt_1000620</td>\n",
       "      <td>0.105067</td>\n",
       "    </tr>\n",
       "    <tr>\n",
       "      <th>38</th>\n",
       "      <td>Apcnt_1000624</td>\n",
       "      <td>0.018280</td>\n",
       "    </tr>\n",
       "    <tr>\n",
       "      <th>39</th>\n",
       "      <td>Apcnt_1000636</td>\n",
       "      <td>0.005467</td>\n",
       "    </tr>\n",
       "    <tr>\n",
       "      <th>40</th>\n",
       "      <td>Apcnt_1000648</td>\n",
       "      <td>0.032223</td>\n",
       "    </tr>\n",
       "    <tr>\n",
       "      <th>41</th>\n",
       "      <td>Apcnt_1000668</td>\n",
       "      <td>0.039635</td>\n",
       "    </tr>\n",
       "    <tr>\n",
       "      <th>42</th>\n",
       "      <td>Apcnt_1000680</td>\n",
       "      <td>0.117140</td>\n",
       "    </tr>\n",
       "    <tr>\n",
       "      <th>43</th>\n",
       "      <td>Apcnt_1000696</td>\n",
       "      <td>0.044053</td>\n",
       "    </tr>\n",
       "    <tr>\n",
       "      <th>44</th>\n",
       "      <td>Apcnt_1000704</td>\n",
       "      <td>0.489579</td>\n",
       "    </tr>\n",
       "    <tr>\n",
       "      <th>45</th>\n",
       "      <td>Apcnt_1000724</td>\n",
       "      <td>0.044610</td>\n",
       "    </tr>\n",
       "    <tr>\n",
       "      <th>46</th>\n",
       "      <td>Apcnt_1000740</td>\n",
       "      <td>0.267047</td>\n",
       "    </tr>\n",
       "    <tr>\n",
       "      <th>47</th>\n",
       "      <td>Apcnt_1000744</td>\n",
       "      <td>0.014783</td>\n",
       "    </tr>\n",
       "    <tr>\n",
       "      <th>48</th>\n",
       "      <td>Apcnt_1000756</td>\n",
       "      <td>0.033797</td>\n",
       "    </tr>\n",
       "    <tr>\n",
       "      <th>49</th>\n",
       "      <td>Apcnt_1000768</td>\n",
       "      <td>0.005680</td>\n",
       "    </tr>\n",
       "  </tbody>\n",
       "</table>\n",
       "</div>"
      ],
      "text/plain": [
       "     Applicant_ID  default_status\n",
       "0   Apcnt_1000032        0.329019\n",
       "1   Apcnt_1000048        0.411260\n",
       "2   Apcnt_1000052        0.349365\n",
       "3   Apcnt_1000076        0.745906\n",
       "4   Apcnt_1000080        0.182204\n",
       "5   Apcnt_1000084        0.356096\n",
       "6   Apcnt_1000104        0.367451\n",
       "7   Apcnt_1000116        0.578959\n",
       "8   Apcnt_1000128        0.414560\n",
       "9   Apcnt_1000156        0.319750\n",
       "10  Apcnt_1000192        0.104303\n",
       "11  Apcnt_1000208        0.021056\n",
       "12  Apcnt_1000264        0.566330\n",
       "13  Apcnt_1000288        0.039332\n",
       "14  Apcnt_1000292        0.492021\n",
       "15  Apcnt_1000328        0.643177\n",
       "16  Apcnt_1000336        0.319537\n",
       "17  Apcnt_1000356        0.059303\n",
       "18  Apcnt_1000368        0.124625\n",
       "19  Apcnt_1000372        0.729852\n",
       "20  Apcnt_1000392        0.071733\n",
       "21  Apcnt_1000396        0.088354\n",
       "22  Apcnt_1000400        0.053265\n",
       "23  Apcnt_1000416        0.265141\n",
       "24  Apcnt_1000428        0.025802\n",
       "25  Apcnt_1000440        0.037144\n",
       "26  Apcnt_1000456        0.458165\n",
       "27  Apcnt_1000472        0.040513\n",
       "28  Apcnt_1000488        0.136821\n",
       "29  Apcnt_1000492        0.076367\n",
       "30  Apcnt_1000504        0.621005\n",
       "31  Apcnt_1000516        0.313425\n",
       "32  Apcnt_1000532        0.079751\n",
       "33  Apcnt_1000552        0.201326\n",
       "34  Apcnt_1000564        0.313601\n",
       "35  Apcnt_1000576        0.686342\n",
       "36  Apcnt_1000596        0.096008\n",
       "37  Apcnt_1000620        0.105067\n",
       "38  Apcnt_1000624        0.018280\n",
       "39  Apcnt_1000636        0.005467\n",
       "40  Apcnt_1000648        0.032223\n",
       "41  Apcnt_1000668        0.039635\n",
       "42  Apcnt_1000680        0.117140\n",
       "43  Apcnt_1000696        0.044053\n",
       "44  Apcnt_1000704        0.489579\n",
       "45  Apcnt_1000724        0.044610\n",
       "46  Apcnt_1000740        0.267047\n",
       "47  Apcnt_1000744        0.014783\n",
       "48  Apcnt_1000756        0.033797\n",
       "49  Apcnt_1000768        0.005680"
      ]
     },
     "execution_count": 66,
     "metadata": {
      "tags": []
     },
     "output_type": "execute_result"
    }
   ],
   "source": [
    "output.head(50)"
   ]
  },
  {
   "cell_type": "code",
   "execution_count": 63,
   "metadata": {
    "id": "NxciQOXNt4Dv"
   },
   "outputs": [],
   "source": [
    "output.to_csv('Finally3.csv', index= False)"
   ]
  },
  {
   "cell_type": "code",
   "execution_count": null,
   "metadata": {
    "id": "l-B_L5Fmt4Dy"
   },
   "outputs": [],
   "source": [
    "## Averaging/Weighted Averaging of best submissions"
   ]
  },
  {
   "cell_type": "code",
   "execution_count": null,
   "metadata": {
    "id": "oWtLM0xft4D1"
   },
   "outputs": [],
   "source": [
    "dat1 = pd.read_csv('S1.csv')\n",
    "dat2 = pd.read_csv('S2.csv')\n",
    "dat3 = pd.read_csv('S4.csv')\n",
    "dat4 = pd.read_csv('S3.csv')\n",
    "\n",
    "\n",
    "dat5 = pd.read_csv('10C_MODELcrossVal.csv')\n",
    "dat6 = pd.read_csv('Final5.csv')\n",
    "\n",
    "dat6 = pd.read_csv('Finalllo.csv')\n",
    "dat7 = pd.read_csv('Finalllimm.csv')\n",
    "dat8 = pd.read_csv('Finalllii.csv')\n",
    "dat9 = pd.read_csv('FL.csv')\n",
    "dat10 = pd.read_csv('FL2.csv')"
   ]
  },
  {
   "cell_type": "code",
   "execution_count": null,
   "metadata": {
    "id": "ATEMgyLXt4D4"
   },
   "outputs": [],
   "source": [
    "datt = (dat2['default_status'] + dat6['default_status']+dat7['default_status'] + dat8['default_status']+dat9['default_status']+dat10['default_status'])/6\n",
    "#datt = (dat1['default_status'] + dat2['default_status'] + dat3['default_status'])/3\n",
    "#datt = 0.4*(dat2['default_status']) + 0.3*(dat3['default_status']) + 0.3*(dat1['default_status'])"
   ]
  },
  {
   "cell_type": "code",
   "execution_count": null,
   "metadata": {
    "id": "p-nfXAcAt4D6"
   },
   "outputs": [],
   "source": [
    "df = pd.read_csv('SampleSubmission.csv')\n",
    "df['default_status'] = datt\n",
    "df.to_csv('FL3.csv', index = False)"
   ]
  },
  {
   "cell_type": "code",
   "execution_count": null,
   "metadata": {
    "id": "Sw_lc2hlt4D9",
    "outputId": "9fb6075c-8bea-4c32-f34b-98f7d3587775"
   },
   "outputs": [
    {
     "data": {
      "text/html": [
       "<div>\n",
       "<style scoped>\n",
       "    .dataframe tbody tr th:only-of-type {\n",
       "        vertical-align: middle;\n",
       "    }\n",
       "\n",
       "    .dataframe tbody tr th {\n",
       "        vertical-align: top;\n",
       "    }\n",
       "\n",
       "    .dataframe thead th {\n",
       "        text-align: right;\n",
       "    }\n",
       "</style>\n",
       "<table border=\"1\" class=\"dataframe\">\n",
       "  <thead>\n",
       "    <tr style=\"text-align: right;\">\n",
       "      <th></th>\n",
       "      <th>Applicant_ID</th>\n",
       "      <th>default_status</th>\n",
       "    </tr>\n",
       "  </thead>\n",
       "  <tbody>\n",
       "    <tr>\n",
       "      <th>0</th>\n",
       "      <td>Apcnt_1000032</td>\n",
       "      <td>0.314835</td>\n",
       "    </tr>\n",
       "    <tr>\n",
       "      <th>1</th>\n",
       "      <td>Apcnt_1000048</td>\n",
       "      <td>0.392888</td>\n",
       "    </tr>\n",
       "    <tr>\n",
       "      <th>2</th>\n",
       "      <td>Apcnt_1000052</td>\n",
       "      <td>0.375079</td>\n",
       "    </tr>\n",
       "    <tr>\n",
       "      <th>3</th>\n",
       "      <td>Apcnt_1000076</td>\n",
       "      <td>0.744925</td>\n",
       "    </tr>\n",
       "    <tr>\n",
       "      <th>4</th>\n",
       "      <td>Apcnt_1000080</td>\n",
       "      <td>0.157771</td>\n",
       "    </tr>\n",
       "  </tbody>\n",
       "</table>\n",
       "</div>"
      ],
      "text/plain": [
       "    Applicant_ID  default_status\n",
       "0  Apcnt_1000032        0.314835\n",
       "1  Apcnt_1000048        0.392888\n",
       "2  Apcnt_1000052        0.375079\n",
       "3  Apcnt_1000076        0.744925\n",
       "4  Apcnt_1000080        0.157771"
      ]
     },
     "execution_count": 438,
     "metadata": {
      "tags": []
     },
     "output_type": "execute_result"
    }
   ],
   "source": [
    "df.head()"
   ]
  },
  {
   "cell_type": "code",
   "execution_count": null,
   "metadata": {
    "id": "n5rHcTEwt4EA"
   },
   "outputs": [],
   "source": []
  },
  {
   "cell_type": "code",
   "execution_count": null,
   "metadata": {
    "id": "YYXgbR7LINR1"
   },
   "outputs": [],
   "source": []
  }
 ],
 "metadata": {
  "accelerator": "GPU",
  "colab": {
   "collapsed_sections": [],
   "name": "FINAL WORK.ipynb",
   "provenance": []
  },
  "kernelspec": {
   "display_name": "Python 3",
   "language": "python",
   "name": "python3"
  },
  "language_info": {
   "codemirror_mode": {
    "name": "ipython",
    "version": 3
   },
   "file_extension": ".py",
   "mimetype": "text/x-python",
   "name": "python",
   "nbconvert_exporter": "python",
   "pygments_lexer": "ipython3",
   "version": "3.7.6"
  }
 },
 "nbformat": 4,
 "nbformat_minor": 1
}
