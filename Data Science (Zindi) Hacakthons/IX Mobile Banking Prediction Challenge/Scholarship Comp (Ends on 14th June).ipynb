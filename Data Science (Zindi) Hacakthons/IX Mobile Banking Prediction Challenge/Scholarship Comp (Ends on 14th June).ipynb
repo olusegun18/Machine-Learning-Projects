{
 "cells": [
  {
   "cell_type": "code",
   "execution_count": 1,
   "metadata": {},
   "outputs": [],
   "source": [
    "import pandas as pd\n",
    "import numpy as np\n",
    "import seaborn as sns\n",
    "import matplotlib.pyplot as plt\n",
    "from sklearn.model_selection import KFold, cross_val_score\n",
    "from sklearn.preprocessing import LabelEncoder\n",
    "import sklearn.linear_model as linear_model\n",
    "from scipy import stats\n",
    "from scipy.stats import skew,norm  # for some statistics\n",
    "from scipy.special import boxcox1p\n",
    "%matplotlib inline\n",
    "from sklearn.model_selection import StratifiedKFold\n",
    "from sklearn.model_selection import RepeatedStratifiedKFold\n",
    "from sklearn.metrics import roc_auc_score\n",
    "from sklearn.ensemble import  GradientBoostingClassifier,RandomForestClassifier\n",
    "import lightgbm as lgbm\n",
    "import xgboost as xgb\n",
    "from catboost import CatBoostClassifier\n",
    "\n",
    "from sklearn.linear_model import  LinearRegression, Ridge\n",
    "import os, gc, warnings\n",
    "warnings.filterwarnings('ignore')"
   ]
  },
  {
   "cell_type": "code",
   "execution_count": 2,
   "metadata": {},
   "outputs": [],
   "source": [
    "ttrain = pd.read_csv('Train.csv')\n",
    "ttest = pd.read_csv('Test.csv')"
   ]
  },
  {
   "cell_type": "code",
   "execution_count": 3,
   "metadata": {},
   "outputs": [],
   "source": [
    "submission = pd.read_csv(\"SampleSubmission.csv\")"
   ]
  },
  {
   "cell_type": "code",
   "execution_count": 4,
   "metadata": {},
   "outputs": [],
   "source": [
    "fin_data = pd.concat([ttrain,ttest]).reset_index(drop=True)"
   ]
  },
  {
   "cell_type": "code",
   "execution_count": 5,
   "metadata": {},
   "outputs": [],
   "source": [
    "fin_data.drop(['Target'],axis =1, inplace = True)"
   ]
  },
  {
   "cell_type": "code",
   "execution_count": null,
   "metadata": {},
   "outputs": [],
   "source": []
  },
  {
   "cell_type": "markdown",
   "metadata": {},
   "source": [
    "## DEALING WITH MISSING VALUES"
   ]
  },
  {
   "cell_type": "code",
   "execution_count": 6,
   "metadata": {},
   "outputs": [
    {
     "data": {
      "text/plain": [
       "ID                   0\n",
       "country_code         0\n",
       "region               0\n",
       "age                451\n",
       "FQ1                  0\n",
       "FQ2              84998\n",
       "FQ3              88777\n",
       "FQ4                  0\n",
       "FQ5             124825\n",
       "FQ6              68386\n",
       "FQ7              68386\n",
       "FQ8                  0\n",
       "FQ9                  0\n",
       "FQ10                 0\n",
       "FQ11             35135\n",
       "FQ12                 0\n",
       "FQ13                 0\n",
       "FQ14                 0\n",
       "FQ15                 0\n",
       "FQ16                 0\n",
       "FQ17            138698\n",
       "FQ18                 0\n",
       "FQ19             67764\n",
       "FQ20             35135\n",
       "FQ21             35135\n",
       "FQ22                 0\n",
       "FQ23                 0\n",
       "FQ24             99926\n",
       "FQ35            117982\n",
       "FQ36            138540\n",
       "FQ25                 0\n",
       "FQ26                 0\n",
       "FQ27            150280\n",
       "FQ28            152786\n",
       "FQ29             35135\n",
       "FQ30            151932\n",
       "FQ31            153690\n",
       "FQ32             68127\n",
       "FQ33                 2\n",
       "FQ34             45135\n",
       "FQ37                 0\n",
       "dtype: int64"
      ]
     },
     "execution_count": 6,
     "metadata": {},
     "output_type": "execute_result"
    }
   ],
   "source": [
    "fin_data.isnull().sum()"
   ]
  },
  {
   "cell_type": "code",
   "execution_count": 7,
   "metadata": {},
   "outputs": [],
   "source": [
    "list = []\n",
    "for i in fin_data.columns:\n",
    "    kd = fin_data[i].isna().sum()\n",
    "    ml = len(fin_data[i])\n",
    "    jd = kd/ml * 100\n",
    "    \n",
    "    \n",
    "    if jd > 70:\n",
    "        fin_data.drop(i, axis = 1, inplace = True)\n",
    "        list.append(i)\n",
    "        \n",
    "        \n",
    "        \"\"\" Dropping fetaures with missing values greater than 70% \"\"\""
   ]
  },
  {
   "cell_type": "code",
   "execution_count": 8,
   "metadata": {},
   "outputs": [],
   "source": [
    "fin_data['age'].fillna(fin_data['age'].median(), inplace = True) ## replaced the missing value in age with the median\n",
    "## median is robust to outliers."
   ]
  },
  {
   "cell_type": "code",
   "execution_count": 9,
   "metadata": {},
   "outputs": [],
   "source": [
    "def fill(col):\n",
    "    for i in col:\n",
    "        #fin_data[i].fillna(fin_data[i].mode()[0], inplace = True)\n",
    "        #fin_data[i].astype(str)\n",
    "        fin_data[i].fillna(9999, inplace = True)\n",
    "        \n",
    "        \"\"\" Filling up the remaining features with a very large number \"\"\""
   ]
  },
  {
   "cell_type": "code",
   "execution_count": 10,
   "metadata": {},
   "outputs": [],
   "source": [
    "fill(fin_data.drop([\"ID\",\"country_code\"],axis=1))"
   ]
  },
  {
   "cell_type": "code",
   "execution_count": null,
   "metadata": {},
   "outputs": [],
   "source": []
  },
  {
   "cell_type": "markdown",
   "metadata": {},
   "source": [
    "## OUTLIER REMOVAL IN THE AGE FEATURE"
   ]
  },
  {
   "cell_type": "code",
   "execution_count": 11,
   "metadata": {},
   "outputs": [],
   "source": [
    "fin_data['age'] = np.log1p(fin_data['age'])"
   ]
  },
  {
   "cell_type": "code",
   "execution_count": 12,
   "metadata": {},
   "outputs": [
    {
     "data": {
      "text/html": [
       "<div>\n",
       "<style scoped>\n",
       "    .dataframe tbody tr th:only-of-type {\n",
       "        vertical-align: middle;\n",
       "    }\n",
       "\n",
       "    .dataframe tbody tr th {\n",
       "        vertical-align: top;\n",
       "    }\n",
       "\n",
       "    .dataframe thead th {\n",
       "        text-align: right;\n",
       "    }\n",
       "</style>\n",
       "<table border=\"1\" class=\"dataframe\">\n",
       "  <thead>\n",
       "    <tr style=\"text-align: right;\">\n",
       "      <th></th>\n",
       "      <th>Skewness</th>\n",
       "    </tr>\n",
       "  </thead>\n",
       "  <tbody>\n",
       "    <tr>\n",
       "      <th>FQ33</th>\n",
       "      <td>278.262224</td>\n",
       "    </tr>\n",
       "    <tr>\n",
       "      <th>FQ11</th>\n",
       "      <td>1.304865</td>\n",
       "    </tr>\n",
       "    <tr>\n",
       "      <th>FQ29</th>\n",
       "      <td>1.304865</td>\n",
       "    </tr>\n",
       "    <tr>\n",
       "      <th>FQ20</th>\n",
       "      <td>1.304865</td>\n",
       "    </tr>\n",
       "    <tr>\n",
       "      <th>FQ21</th>\n",
       "      <td>1.304865</td>\n",
       "    </tr>\n",
       "    <tr>\n",
       "      <th>FQ34</th>\n",
       "      <td>0.918448</td>\n",
       "    </tr>\n",
       "    <tr>\n",
       "      <th>FQ18</th>\n",
       "      <td>0.911484</td>\n",
       "    </tr>\n",
       "    <tr>\n",
       "      <th>FQ22</th>\n",
       "      <td>0.647726</td>\n",
       "    </tr>\n",
       "    <tr>\n",
       "      <th>FQ19</th>\n",
       "      <td>0.252368</td>\n",
       "    </tr>\n",
       "    <tr>\n",
       "      <th>FQ32</th>\n",
       "      <td>0.242779</td>\n",
       "    </tr>\n",
       "  </tbody>\n",
       "</table>\n",
       "</div>"
      ],
      "text/plain": [
       "        Skewness\n",
       "FQ33  278.262224\n",
       "FQ11    1.304865\n",
       "FQ29    1.304865\n",
       "FQ20    1.304865\n",
       "FQ21    1.304865\n",
       "FQ34    0.918448\n",
       "FQ18    0.911484\n",
       "FQ22    0.647726\n",
       "FQ19    0.252368\n",
       "FQ32    0.242779"
      ]
     },
     "execution_count": 12,
     "metadata": {},
     "output_type": "execute_result"
    }
   ],
   "source": [
    "numerical = fin_data.dtypes[fin_data.dtypes != 'object'].index\n",
    "\n",
    "skewness = fin_data[numerical].apply(lambda x: skew(x.dropna())).sort_values(ascending=False)\n",
    "\n",
    "skewness_df = pd.DataFrame({'Skewness': skewness})\n",
    "skewness_df.head(10)"
   ]
  },
  {
   "cell_type": "code",
   "execution_count": 13,
   "metadata": {},
   "outputs": [
    {
     "data": {
      "text/plain": [
       "False    18\n",
       "True     14\n",
       "dtype: int64"
      ]
     },
     "execution_count": 13,
     "metadata": {},
     "output_type": "execute_result"
    }
   ],
   "source": [
    "(abs(skewness) > 0.75).value_counts()"
   ]
  },
  {
   "cell_type": "code",
   "execution_count": 14,
   "metadata": {},
   "outputs": [],
   "source": [
    "from scipy.special import boxcox1p\n",
    "\n",
    "boxcox_features = skewness_df[np.abs(skewness_df['Skewness'])>0.75].index\n",
    "lam = 0.5\n",
    "\n",
    "for col in boxcox_features:\n",
    "    fin_data.loc[:, col] = boxcox1p(fin_data[col], lam)"
   ]
  },
  {
   "cell_type": "code",
   "execution_count": 15,
   "metadata": {},
   "outputs": [
    {
     "data": {
      "text/html": [
       "<div>\n",
       "<style scoped>\n",
       "    .dataframe tbody tr th:only-of-type {\n",
       "        vertical-align: middle;\n",
       "    }\n",
       "\n",
       "    .dataframe tbody tr th {\n",
       "        vertical-align: top;\n",
       "    }\n",
       "\n",
       "    .dataframe thead th {\n",
       "        text-align: right;\n",
       "    }\n",
       "</style>\n",
       "<table border=\"1\" class=\"dataframe\">\n",
       "  <thead>\n",
       "    <tr style=\"text-align: right;\">\n",
       "      <th></th>\n",
       "      <th>Skewness</th>\n",
       "    </tr>\n",
       "  </thead>\n",
       "  <tbody>\n",
       "    <tr>\n",
       "      <th>FQ33</th>\n",
       "      <td>233.349629</td>\n",
       "    </tr>\n",
       "    <tr>\n",
       "      <th>FQ11</th>\n",
       "      <td>1.304843</td>\n",
       "    </tr>\n",
       "    <tr>\n",
       "      <th>FQ29</th>\n",
       "      <td>1.304842</td>\n",
       "    </tr>\n",
       "    <tr>\n",
       "      <th>FQ20</th>\n",
       "      <td>1.304836</td>\n",
       "    </tr>\n",
       "    <tr>\n",
       "      <th>FQ21</th>\n",
       "      <td>1.304833</td>\n",
       "    </tr>\n",
       "    <tr>\n",
       "      <th>FQ34</th>\n",
       "      <td>0.918434</td>\n",
       "    </tr>\n",
       "    <tr>\n",
       "      <th>FQ18</th>\n",
       "      <td>0.698322</td>\n",
       "    </tr>\n",
       "    <tr>\n",
       "      <th>FQ22</th>\n",
       "      <td>0.647726</td>\n",
       "    </tr>\n",
       "    <tr>\n",
       "      <th>FQ19</th>\n",
       "      <td>0.252368</td>\n",
       "    </tr>\n",
       "    <tr>\n",
       "      <th>FQ32</th>\n",
       "      <td>0.242779</td>\n",
       "    </tr>\n",
       "  </tbody>\n",
       "</table>\n",
       "</div>"
      ],
      "text/plain": [
       "        Skewness\n",
       "FQ33  233.349629\n",
       "FQ11    1.304843\n",
       "FQ29    1.304842\n",
       "FQ20    1.304836\n",
       "FQ21    1.304833\n",
       "FQ34    0.918434\n",
       "FQ18    0.698322\n",
       "FQ22    0.647726\n",
       "FQ19    0.252368\n",
       "FQ32    0.242779"
      ]
     },
     "execution_count": 15,
     "metadata": {},
     "output_type": "execute_result"
    }
   ],
   "source": [
    "skewness2 = fin_data[numerical].apply(lambda x: skew(x.dropna())).sort_values(ascending=False)\n",
    "\n",
    "skewness_df2 = pd.DataFrame({'Skewness': skewness2})\n",
    "skewness_df2.head(10)"
   ]
  },
  {
   "cell_type": "code",
   "execution_count": 16,
   "metadata": {},
   "outputs": [
    {
     "data": {
      "image/png": "[encoded data removed]",
      "text/plain": [
       "<Figure size 432x288 with 1 Axes>"
      ]
     },
     "metadata": {
      "needs_background": "light"
     },
     "output_type": "display_data"
    },
    {
     "data": {
      "image/png": "[encoded data removed]",
      "text/plain": [
       "<Figure size 432x288 with 1 Axes>"
      ]
     },
     "metadata": {
      "needs_background": "light"
     },
     "output_type": "display_data"
    }
   ],
   "source": [
    "from scipy.stats import norm, skew, probplot\n",
    "\n",
    "fin_data['age'] = np.log1p(fin_data['age'])\n",
    "\n",
    "mu, sigma = norm.fit(fin_data['age'])\n",
    "sns.distplot(fin_data['age'], fit=norm)\n",
    "plt.legend(['Normal distribution ($\\mu=$ {:.2f} and $\\sigma=$ {:.2f} )'.format(mu, sigma)], loc = 'best')\n",
    "plt.ylabel('Frequency')\n",
    "plt.title('Histogram of SalePrice');\n",
    "\n",
    "fig = plt.figure()\n",
    "res = probplot(fin_data['age'], plot=plt);"
   ]
  },
  {
   "cell_type": "code",
   "execution_count": 17,
   "metadata": {},
   "outputs": [
    {
     "data": {
      "text/plain": [
       "Index(['ID'], dtype='object')"
      ]
     },
     "execution_count": 17,
     "metadata": {},
     "output_type": "execute_result"
    }
   ],
   "source": [
    "cat_col = fin_data.select_dtypes(include=[np.object]).columns\n",
    "cat_col"
   ]
  },
  {
   "cell_type": "code",
   "execution_count": 18,
   "metadata": {},
   "outputs": [],
   "source": [
    "#fin_data['region'] = fin_data['region'].astype(str)\n",
    "# fin_data['country_code'] = fin_data['country_code'].astype(str)"
   ]
  },
  {
   "cell_type": "code",
   "execution_count": 19,
   "metadata": {},
   "outputs": [],
   "source": [
    "#from sklearn.preprocessing import LabelEncoder\n",
    "#le = LabelEncoder()\n",
    "#fin_data['region'] = le.fit_transform(fin_data['region'])\n",
    "#fin_data['country_code'] = le.fit_transform(fin_data['country_code'])"
   ]
  },
  {
   "cell_type": "code",
   "execution_count": 20,
   "metadata": {},
   "outputs": [],
   "source": [
    "#for i in col:\n",
    "#    fin_data[i] = le.fit_transform(fin_data[i])"
   ]
  },
  {
   "cell_type": "code",
   "execution_count": 21,
   "metadata": {},
   "outputs": [],
   "source": [
    "fin_data.drop(['ID'],axis =1, inplace = True)"
   ]
  },
  {
   "cell_type": "code",
   "execution_count": 22,
   "metadata": {},
   "outputs": [],
   "source": [
    "skf = StratifiedKFold(n_splits = 5, shuffle = True, random_state=99)"
   ]
  },
  {
   "cell_type": "code",
   "execution_count": 23,
   "metadata": {},
   "outputs": [],
   "source": [
    "split=ttrain.shape[0]\n",
    "train_df=fin_data[:split]\n",
    "test_df=fin_data[split:]"
   ]
  },
  {
   "cell_type": "code",
   "execution_count": 24,
   "metadata": {},
   "outputs": [],
   "source": [
    "X = train_df\n",
    "y = ttrain['Target']\n",
    "X = X.astype('float')\n",
    "y = pd.DataFrame(y, dtype = float)"
   ]
  },
  {
   "cell_type": "code",
   "execution_count": 25,
   "metadata": {},
   "outputs": [
    {
     "data": {
      "text/html": [
       "<div>\n",
       "<style scoped>\n",
       "    .dataframe tbody tr th:only-of-type {\n",
       "        vertical-align: middle;\n",
       "    }\n",
       "\n",
       "    .dataframe tbody tr th {\n",
       "        vertical-align: top;\n",
       "    }\n",
       "\n",
       "    .dataframe thead th {\n",
       "        text-align: right;\n",
       "    }\n",
       "</style>\n",
       "<table border=\"1\" class=\"dataframe\">\n",
       "  <thead>\n",
       "    <tr style=\"text-align: right;\">\n",
       "      <th></th>\n",
       "      <th>country_code</th>\n",
       "      <th>region</th>\n",
       "      <th>age</th>\n",
       "      <th>FQ1</th>\n",
       "      <th>FQ2</th>\n",
       "      <th>FQ3</th>\n",
       "      <th>FQ4</th>\n",
       "      <th>FQ6</th>\n",
       "      <th>FQ7</th>\n",
       "      <th>FQ8</th>\n",
       "      <th>...</th>\n",
       "      <th>FQ22</th>\n",
       "      <th>FQ23</th>\n",
       "      <th>FQ24</th>\n",
       "      <th>FQ25</th>\n",
       "      <th>FQ26</th>\n",
       "      <th>FQ29</th>\n",
       "      <th>FQ32</th>\n",
       "      <th>FQ33</th>\n",
       "      <th>FQ34</th>\n",
       "      <th>FQ37</th>\n",
       "    </tr>\n",
       "  </thead>\n",
       "  <tbody>\n",
       "    <tr>\n",
       "      <th>0</th>\n",
       "      <td>1.0</td>\n",
       "      <td>6.0</td>\n",
       "      <td>1.522467</td>\n",
       "      <td>2.0</td>\n",
       "      <td>9999.0</td>\n",
       "      <td>9999.0</td>\n",
       "      <td>2.0</td>\n",
       "      <td>9999.0</td>\n",
       "      <td>1.0</td>\n",
       "      <td>1.464102</td>\n",
       "      <td>...</td>\n",
       "      <td>1.0</td>\n",
       "      <td>2.0</td>\n",
       "      <td>9999.0</td>\n",
       "      <td>1.464102</td>\n",
       "      <td>1.464102</td>\n",
       "      <td>0.828427</td>\n",
       "      <td>9999.0</td>\n",
       "      <td>0.828427</td>\n",
       "      <td>0.828427</td>\n",
       "      <td>0.0</td>\n",
       "    </tr>\n",
       "    <tr>\n",
       "      <th>1</th>\n",
       "      <td>32.0</td>\n",
       "      <td>7.0</td>\n",
       "      <td>1.660640</td>\n",
       "      <td>2.0</td>\n",
       "      <td>9999.0</td>\n",
       "      <td>9999.0</td>\n",
       "      <td>2.0</td>\n",
       "      <td>9999.0</td>\n",
       "      <td>1.0</td>\n",
       "      <td>1.464102</td>\n",
       "      <td>...</td>\n",
       "      <td>1.0</td>\n",
       "      <td>2.0</td>\n",
       "      <td>9999.0</td>\n",
       "      <td>0.828427</td>\n",
       "      <td>0.828427</td>\n",
       "      <td>1.464102</td>\n",
       "      <td>9999.0</td>\n",
       "      <td>0.828427</td>\n",
       "      <td>1.464102</td>\n",
       "      <td>0.0</td>\n",
       "    </tr>\n",
       "    <tr>\n",
       "      <th>2</th>\n",
       "      <td>71.0</td>\n",
       "      <td>7.0</td>\n",
       "      <td>1.419607</td>\n",
       "      <td>2.0</td>\n",
       "      <td>1.0</td>\n",
       "      <td>9999.0</td>\n",
       "      <td>2.0</td>\n",
       "      <td>9999.0</td>\n",
       "      <td>1.0</td>\n",
       "      <td>1.464102</td>\n",
       "      <td>...</td>\n",
       "      <td>1.0</td>\n",
       "      <td>2.0</td>\n",
       "      <td>9999.0</td>\n",
       "      <td>1.464102</td>\n",
       "      <td>0.828427</td>\n",
       "      <td>1.464102</td>\n",
       "      <td>9999.0</td>\n",
       "      <td>1.464102</td>\n",
       "      <td>0.828427</td>\n",
       "      <td>1.0</td>\n",
       "    </tr>\n",
       "    <tr>\n",
       "      <th>3</th>\n",
       "      <td>48.0</td>\n",
       "      <td>3.0</td>\n",
       "      <td>1.466077</td>\n",
       "      <td>1.0</td>\n",
       "      <td>9999.0</td>\n",
       "      <td>9999.0</td>\n",
       "      <td>2.0</td>\n",
       "      <td>2.0</td>\n",
       "      <td>9999.0</td>\n",
       "      <td>1.464102</td>\n",
       "      <td>...</td>\n",
       "      <td>1.0</td>\n",
       "      <td>2.0</td>\n",
       "      <td>9999.0</td>\n",
       "      <td>1.464102</td>\n",
       "      <td>1.464102</td>\n",
       "      <td>198.000000</td>\n",
       "      <td>2.0</td>\n",
       "      <td>0.828427</td>\n",
       "      <td>0.828427</td>\n",
       "      <td>1.0</td>\n",
       "    </tr>\n",
       "    <tr>\n",
       "      <th>4</th>\n",
       "      <td>25.0</td>\n",
       "      <td>0.0</td>\n",
       "      <td>1.683065</td>\n",
       "      <td>2.0</td>\n",
       "      <td>9999.0</td>\n",
       "      <td>9999.0</td>\n",
       "      <td>2.0</td>\n",
       "      <td>9999.0</td>\n",
       "      <td>9999.0</td>\n",
       "      <td>1.464102</td>\n",
       "      <td>...</td>\n",
       "      <td>1.0</td>\n",
       "      <td>1.0</td>\n",
       "      <td>2.0</td>\n",
       "      <td>1.464102</td>\n",
       "      <td>1.464102</td>\n",
       "      <td>1.464102</td>\n",
       "      <td>2.0</td>\n",
       "      <td>0.828427</td>\n",
       "      <td>0.828427</td>\n",
       "      <td>1.0</td>\n",
       "    </tr>\n",
       "  </tbody>\n",
       "</table>\n",
       "<p>5 rows × 32 columns</p>\n",
       "</div>"
      ],
      "text/plain": [
       "   country_code  region       age  FQ1     FQ2     FQ3  FQ4     FQ6     FQ7  \\\n",
       "0           1.0     6.0  1.522467  2.0  9999.0  9999.0  2.0  9999.0     1.0   \n",
       "1          32.0     7.0  1.660640  2.0  9999.0  9999.0  2.0  9999.0     1.0   \n",
       "2          71.0     7.0  1.419607  2.0     1.0  9999.0  2.0  9999.0     1.0   \n",
       "3          48.0     3.0  1.466077  1.0  9999.0  9999.0  2.0     2.0  9999.0   \n",
       "4          25.0     0.0  1.683065  2.0  9999.0  9999.0  2.0  9999.0  9999.0   \n",
       "\n",
       "        FQ8  ...  FQ22  FQ23    FQ24      FQ25      FQ26        FQ29    FQ32  \\\n",
       "0  1.464102  ...   1.0   2.0  9999.0  1.464102  1.464102    0.828427  9999.0   \n",
       "1  1.464102  ...   1.0   2.0  9999.0  0.828427  0.828427    1.464102  9999.0   \n",
       "2  1.464102  ...   1.0   2.0  9999.0  1.464102  0.828427    1.464102  9999.0   \n",
       "3  1.464102  ...   1.0   2.0  9999.0  1.464102  1.464102  198.000000     2.0   \n",
       "4  1.464102  ...   1.0   1.0     2.0  1.464102  1.464102    1.464102     2.0   \n",
       "\n",
       "       FQ33      FQ34  FQ37  \n",
       "0  0.828427  0.828427   0.0  \n",
       "1  0.828427  1.464102   0.0  \n",
       "2  1.464102  0.828427   1.0  \n",
       "3  0.828427  0.828427   1.0  \n",
       "4  0.828427  0.828427   1.0  \n",
       "\n",
       "[5 rows x 32 columns]"
      ]
     },
     "execution_count": 25,
     "metadata": {},
     "output_type": "execute_result"
    }
   ],
   "source": [
    "X.head()"
   ]
  },
  {
   "cell_type": "code",
   "execution_count": null,
   "metadata": {},
   "outputs": [],
   "source": []
  },
  {
   "cell_type": "code",
   "execution_count": 26,
   "metadata": {},
   "outputs": [],
   "source": [
    "from sklearn.metrics import roc_auc_score\n",
    "from sklearn.model_selection import train_test_split\n",
    "from catboost import CatBoostClassifier\n",
    "from sklearn.linear_model import LogisticRegression\n",
    "from sklearn.ensemble import RandomForestClassifier\n",
    "X_train, X_test, y_train, y_test = train_test_split(X,y, test_size=0.3,random_state=19)"
   ]
  },
  {
   "cell_type": "code",
   "execution_count": 27,
   "metadata": {},
   "outputs": [],
   "source": [
    "#from catboost import Pool\n",
    "#cat_model= CatBoostClassifier(silent=True, eval_metric = 'AUC')\n",
    "#cat_model= CatBoostClassifier(silent=True, n_estimators= 660, learning_rate=0.2, depth =3, eval_metric = 'AUC',l2_leaf_reg= 3)\n",
    "#cat_model.fit(Pool(X_train,y_train))\n",
    "#cat = cat_model.predict_proba(X_test)[:,1]"
   ]
  },
  {
   "cell_type": "code",
   "execution_count": 28,
   "metadata": {},
   "outputs": [],
   "source": [
    "#print(roc_auc_score(y_test,cat))\n",
    "#print(classification_report(y_test,cat))"
   ]
  },
  {
   "cell_type": "code",
   "execution_count": 29,
   "metadata": {},
   "outputs": [],
   "source": [
    "#predictions = cat_model.predict_proba(test_df)[:,1]\n",
    "#sub= ttest[[\"ID\"]]\n",
    "#sub['Target'] = predictions\n",
    "#sub.to_csv('cat.csv', index = False)"
   ]
  },
  {
   "cell_type": "markdown",
   "metadata": {},
   "source": [
    "## MODELS"
   ]
  },
  {
   "cell_type": "code",
   "execution_count": 30,
   "metadata": {},
   "outputs": [],
   "source": [
    "def model(model,train,label,test,model_name):\n",
    "    mean_train = []\n",
    "    mean_test = []\n",
    "    test_pred = np.zeros(test.shape[0])\n",
    "    val_pred = np.zeros(train.shape[0])\n",
    "    for count, (train_index,test_index) in enumerate(skf.split(train,label)):\n",
    "        x_train,x_test = train.iloc[train_index],train.iloc[test_index]\n",
    "        y_train,y_test = label.iloc[train_index],label.iloc[test_index]\n",
    "        print(f'========================Fold{count +1}==========================')\n",
    "        model.fit(x_train, y_train)\n",
    "        train_predict = model.predict_proba(x_train)[:,1]\n",
    "        test_predict = model.predict_proba(x_test)[:,1]\n",
    "        val_pred[test_index] = test_predict\n",
    "        test_pred+= model.predict_proba(test)[:,1]\n",
    "        \n",
    "        print('\\nValidation scores', roc_auc_score(y_test,test_predict))\n",
    "        print('\\nTraining scores', roc_auc_score(y_train,train_predict))\n",
    "        mean_train.append(roc_auc_score(y_train, train_predict))\n",
    "        mean_test.append(roc_auc_score(y_test,test_predict))\n",
    "    print('Average Testing ROC score for 10 folds split:',np.mean(mean_test))\n",
    "    print('Average Training ROC score for 10 folds split:',np.mean(mean_train))\n",
    "    print('standard Deviation for 10 folds split:',np.std(mean_test))\n",
    "    return val_pred, test_pred, model_name\n",
    "        \n",
    "def Stacking(model,Train_stack,Test_stack,target,file_name):\n",
    "    prediction = model.fit(Train_stack, target).predict(Test_stack)\n",
    "    submission['Target'] = prediction\n",
    "    submission.to_csv(file_name,index=False)"
   ]
  },
  {
   "cell_type": "markdown",
   "metadata": {},
   "source": [
    "## LGBM 1"
   ]
  },
  {
   "cell_type": "code",
   "execution_count": 31,
   "metadata": {},
   "outputs": [],
   "source": [
    "def lgb(model,train,label,test,model_name):\n",
    "    mean_train = []\n",
    "    mean_test = []\n",
    "    test_pred = np.zeros(test.shape[0])\n",
    "    val_pred = np.zeros(train.shape[0])\n",
    "    for count, (train_index,test_index) in enumerate(skf.split(train,label)):\n",
    "        x_train,x_test = train.iloc[train_index],train.iloc[test_index]\n",
    "        y_train,y_test = label.iloc[train_index],label.iloc[test_index]\n",
    "        print(f'========================Fold{count +1}==========================')\n",
    "        model.fit(x_train,y_train,eval_set=[(x_test,y_test)],early_stopping_rounds=500,\n",
    "                               verbose=250)\n",
    "        train_predict = model.predict_proba(x_train, num_iteration = model.best_iteration_)[:,1]\n",
    "        test_predict = model.predict_proba(x_test, num_iteration = model.best_iteration_)[:,1]\n",
    "        val_pred[test_index] = test_predict\n",
    "        test_pred+= model.predict_proba(test, num_iteration = model.best_iteration_)[:,1]\n",
    "        \n",
    "        print('\\nValidation scores', roc_auc_score(y_test,test_predict))\n",
    "        print('\\nTraining scores', roc_auc_score(y_train,train_predict))\n",
    "        mean_train.append(roc_auc_score(y_train, train_predict))\n",
    "        mean_test.append(roc_auc_score(y_test,test_predict))\n",
    "    print('Average Testing ROC score for 10 folds split:',np.mean(mean_test))\n",
    "    print('Average Training ROC score for 10 folds split:',np.mean(mean_train))\n",
    "    print('standard Deviation for 10 folds split:',np.std(mean_test))\n",
    "    return val_pred, test_pred, model_name"
   ]
  },
  {
   "cell_type": "code",
   "execution_count": 32,
   "metadata": {},
   "outputs": [
    {
     "name": "stdout",
     "output_type": "stream",
     "text": [
      "========================Fold1==========================\n",
      "Training until validation scores don't improve for 500 rounds\n",
      "[250]\tvalid_0's auc: 0.503235\n",
      "[500]\tvalid_0's auc: 0.499443\n",
      "Early stopping, best iteration is:\n",
      "[7]\tvalid_0's auc: 0.512332\n",
      "\n",
      "Validation scores 0.512332474654088\n",
      "\n",
      "Training scores 0.5562688891343058\n",
      "========================Fold2==========================\n",
      "Training until validation scores don't improve for 500 rounds\n",
      "[250]\tvalid_0's auc: 0.496244\n",
      "[500]\tvalid_0's auc: 0.498709\n",
      "Early stopping, best iteration is:\n",
      "[94]\tvalid_0's auc: 0.502107\n",
      "\n",
      "Validation scores 0.5021065704105201\n",
      "\n",
      "Training scores 0.6549186937161524\n",
      "========================Fold3==========================\n",
      "Training until validation scores don't improve for 500 rounds\n",
      "[250]\tvalid_0's auc: 0.501909\n",
      "[500]\tvalid_0's auc: 0.50106\n",
      "[750]\tvalid_0's auc: 0.501146\n",
      "Early stopping, best iteration is:\n",
      "[327]\tvalid_0's auc: 0.50264\n",
      "\n",
      "Validation scores 0.5026400074879762\n",
      "\n",
      "Training scores 0.7429897876126108\n",
      "========================Fold4==========================\n",
      "Training until validation scores don't improve for 500 rounds\n",
      "[250]\tvalid_0's auc: 0.501352\n",
      "[500]\tvalid_0's auc: 0.499928\n",
      "Early stopping, best iteration is:\n",
      "[162]\tvalid_0's auc: 0.505089\n",
      "\n",
      "Validation scores 0.5050889895051842\n",
      "\n",
      "Training scores 0.6875238609819381\n",
      "========================Fold5==========================\n",
      "Training until validation scores don't improve for 500 rounds\n",
      "[250]\tvalid_0's auc: 0.502005\n",
      "[500]\tvalid_0's auc: 0.499613\n",
      "Early stopping, best iteration is:\n",
      "[1]\tvalid_0's auc: 0.509286\n",
      "\n",
      "Validation scores 0.5092859229788806\n",
      "\n",
      "Training scores 0.5285671687588347\n",
      "Average Testing ROC score for 10 folds split: 0.5062907930073298\n",
      "Average Training ROC score for 10 folds split: 0.6340536800407685\n",
      "standard Deviation for 10 folds split: 0.003943425058828981\n"
     ]
    }
   ],
   "source": [
    "lgb_model = lgbm.LGBMClassifier(random_state=34, n_estimators=8000, num_leaves=35,reg_lambda=6,reg_alpha=6 ,metric='auc', learning_rate=0.08,\n",
    "    max_depth=-1, class_weight = 'balanced')\n",
    "LGB1_train, LGB1_test, LGB1_name =lgb(lgb_model,X, y, test_df,'lightgbm(1)')\n"
   ]
  },
  {
   "cell_type": "markdown",
   "metadata": {},
   "source": [
    "## LGBM 2"
   ]
  },
  {
   "cell_type": "code",
   "execution_count": 33,
   "metadata": {},
   "outputs": [
    {
     "name": "stdout",
     "output_type": "stream",
     "text": [
      "========================Fold1==========================\n",
      "Training until validation scores don't improve for 500 rounds\n",
      "[250]\tvalid_0's auc: 0.498779\n",
      "[500]\tvalid_0's auc: 0.500601\n",
      "Early stopping, best iteration is:\n",
      "[4]\tvalid_0's auc: 0.506768\n",
      "\n",
      "Validation scores 0.5067678625697755\n",
      "\n",
      "Training scores 0.530132448494461\n",
      "========================Fold2==========================\n",
      "Training until validation scores don't improve for 500 rounds\n",
      "[250]\tvalid_0's auc: 0.492977\n",
      "[500]\tvalid_0's auc: 0.495999\n",
      "Early stopping, best iteration is:\n",
      "[28]\tvalid_0's auc: 0.499139\n",
      "\n",
      "Validation scores 0.4991389960276662\n",
      "\n",
      "Training scores 0.5645391822761556\n",
      "========================Fold3==========================\n",
      "Training until validation scores don't improve for 500 rounds\n",
      "[250]\tvalid_0's auc: 0.492815\n",
      "[500]\tvalid_0's auc: 0.49518\n",
      "Early stopping, best iteration is:\n",
      "[1]\tvalid_0's auc: 0.501533\n",
      "\n",
      "Validation scores 0.5015331413160776\n",
      "\n",
      "Training scores 0.5178267893284146\n",
      "========================Fold4==========================\n",
      "Training until validation scores don't improve for 500 rounds\n",
      "[250]\tvalid_0's auc: 0.49532\n",
      "[500]\tvalid_0's auc: 0.49736\n",
      "Early stopping, best iteration is:\n",
      "[1]\tvalid_0's auc: 0.509228\n",
      "\n",
      "Validation scores 0.5092281792942797\n",
      "\n",
      "Training scores 0.5174782261271897\n",
      "========================Fold5==========================\n",
      "Training until validation scores don't improve for 500 rounds\n",
      "[250]\tvalid_0's auc: 0.502504\n",
      "[500]\tvalid_0's auc: 0.503307\n",
      "[750]\tvalid_0's auc: 0.504007\n",
      "[1000]\tvalid_0's auc: 0.504304\n",
      "[1250]\tvalid_0's auc: 0.503325\n",
      "Early stopping, best iteration is:\n",
      "[778]\tvalid_0's auc: 0.504484\n",
      "\n",
      "Validation scores 0.5044838617676681\n",
      "\n",
      "Training scores 0.6344530656370513\n",
      "Average Testing ROC score for 10 folds split: 0.5042304081950935\n",
      "Average Training ROC score for 10 folds split: 0.5528859423726544\n",
      "standard Deviation for 10 folds split: 0.003596619408616004\n"
     ]
    }
   ],
   "source": [
    "lgb_model2 = lgbm.LGBMClassifier(random_state=34, n_estimators=5000,colsample_bytree=0.9,min_child_samples=10,\n",
    "    subsample=0.5,subsample_freq=2,num_leaves=120,reg_lambda=2,reg_alpha=5 ,metric='auc', learning_rate=0.008,\n",
    "    max_depth=5)\n",
    "LGBM2_train, LGBM2_test, LGBM2_name= lgb(lgb_model2,X,y,test_df,'lightgbm(2)')"
   ]
  },
  {
   "cell_type": "code",
   "execution_count": null,
   "metadata": {},
   "outputs": [],
   "source": []
  },
  {
   "cell_type": "markdown",
   "metadata": {},
   "source": [
    "## CATBOOST 1"
   ]
  },
  {
   "cell_type": "code",
   "execution_count": 34,
   "metadata": {},
   "outputs": [],
   "source": [
    "def cat(model,train,label,test,model_name):\n",
    "    mean_train = []\n",
    "    mean_test = []\n",
    "    test_pred = np.zeros(test.shape[0])\n",
    "    val_pred = np.zeros(train.shape[0])\n",
    "    for count, (train_index,test_index) in enumerate(skf.split(train,label)):\n",
    "        x_train,x_test = train.iloc[train_index],train.iloc[test_index]\n",
    "        y_train,y_test = label.iloc[train_index],label.iloc[test_index]\n",
    "        print(f'========================Fold{count +1}==========================')\n",
    "        model.fit(x_train,y_train,eval_set=[(x_test,y_test)],early_stopping_rounds=500,\n",
    "                           verbose=250,use_best_model=True)\n",
    "        train_predict = model.predict_proba(x_train)[:,1]\n",
    "        test_predict = model.predict_proba(x_test)[:,1]\n",
    "        val_pred[test_index] = test_predict\n",
    "        test_pred+= model.predict_proba(test)[:,1]\n",
    "        \n",
    "        print('\\nTesting scores', roc_auc_score(y_test,test_predict))\n",
    "        print('\\nTraining scores', roc_auc_score(y_train,train_predict))\n",
    "        mean_train.append(roc_auc_score(y_train, train_predict))\n",
    "        mean_test.append(roc_auc_score(y_test,test_predict))\n",
    "    print('Average Testing ROC score for 8 folds split:',np.mean(mean_test))\n",
    "    print('Average Training ROC score for 8 folds split:',np.mean(mean_train))\n",
    "    print('standard Deviation for 8 folds split:',np.std(mean_test))\n",
    "    return val_pred, test_pred, model_name\n"
   ]
  },
  {
   "cell_type": "code",
   "execution_count": 35,
   "metadata": {},
   "outputs": [
    {
     "name": "stdout",
     "output_type": "stream",
     "text": [
      "========================Fold1==========================\n",
      "Learning rate set to 0.047382\n",
      "0:\ttest: 0.5013594\tbest: 0.5013594 (0)\ttotal: 100ms\tremaining: 8m 21s\n",
      "250:\ttest: 0.5053124\tbest: 0.5053971 (248)\ttotal: 9.89s\tremaining: 3m 7s\n",
      "500:\ttest: 0.5052478\tbest: 0.5073976 (424)\ttotal: 19.5s\tremaining: 2m 55s\n",
      "750:\ttest: 0.5054503\tbest: 0.5073976 (424)\ttotal: 30s\tremaining: 2m 49s\n",
      "Stopped by overfitting detector  (500 iterations wait)\n",
      "\n",
      "bestTest = 0.5073976041\n",
      "bestIteration = 424\n",
      "\n",
      "Shrink model to first 425 iterations.\n",
      "\n",
      "Testing scores 0.5073976041375519\n",
      "\n",
      "Training scores 0.6817653196357147\n",
      "========================Fold2==========================\n",
      "Learning rate set to 0.047383\n",
      "0:\ttest: 0.5023512\tbest: 0.5023512 (0)\ttotal: 34.3ms\tremaining: 2m 51s\n",
      "250:\ttest: 0.4964507\tbest: 0.5023512 (0)\ttotal: 9.54s\tremaining: 3m\n",
      "500:\ttest: 0.4995829\tbest: 0.5023512 (0)\ttotal: 19.8s\tremaining: 2m 58s\n",
      "Stopped by overfitting detector  (500 iterations wait)\n",
      "\n",
      "bestTest = 0.5023511929\n",
      "bestIteration = 0\n",
      "\n",
      "Shrink model to first 1 iterations.\n",
      "\n",
      "Testing scores 0.502351192878933\n",
      "\n",
      "Training scores 0.5132057319187282\n",
      "========================Fold3==========================\n",
      "Learning rate set to 0.047383\n",
      "0:\ttest: 0.5050118\tbest: 0.5050118 (0)\ttotal: 37ms\tremaining: 3m 4s\n",
      "250:\ttest: 0.4981222\tbest: 0.5050118 (0)\ttotal: 10.2s\tremaining: 3m 13s\n",
      "500:\ttest: 0.4954902\tbest: 0.5050118 (0)\ttotal: 19.8s\tremaining: 2m 57s\n",
      "Stopped by overfitting detector  (500 iterations wait)\n",
      "\n",
      "bestTest = 0.5050117681\n",
      "bestIteration = 0\n",
      "\n",
      "Shrink model to first 1 iterations.\n",
      "\n",
      "Testing scores 0.5050117681479595\n",
      "\n",
      "Training scores 0.5121290760555166\n",
      "========================Fold4==========================\n",
      "Learning rate set to 0.047383\n",
      "0:\ttest: 0.5043531\tbest: 0.5043531 (0)\ttotal: 35.4ms\tremaining: 2m 56s\n",
      "250:\ttest: 0.4908005\tbest: 0.5053701 (3)\ttotal: 9.51s\tremaining: 3m\n",
      "500:\ttest: 0.4984760\tbest: 0.5053701 (3)\ttotal: 20.8s\tremaining: 3m 6s\n",
      "Stopped by overfitting detector  (500 iterations wait)\n",
      "\n",
      "bestTest = 0.5053701199\n",
      "bestIteration = 3\n",
      "\n",
      "Shrink model to first 4 iterations.\n",
      "\n",
      "Testing scores 0.5053701199185531\n",
      "\n",
      "Training scores 0.5214740678671296\n",
      "========================Fold5==========================\n",
      "Learning rate set to 0.047383\n",
      "0:\ttest: 0.5036744\tbest: 0.5036744 (0)\ttotal: 40.8ms\tremaining: 3m 23s\n",
      "250:\ttest: 0.4952117\tbest: 0.5036744 (0)\ttotal: 9.53s\tremaining: 3m\n",
      "500:\ttest: 0.4999544\tbest: 0.5036744 (0)\ttotal: 19.1s\tremaining: 2m 51s\n",
      "Stopped by overfitting detector  (500 iterations wait)\n",
      "\n",
      "bestTest = 0.5036743921\n",
      "bestIteration = 0\n",
      "\n",
      "Shrink model to first 1 iterations.\n",
      "\n",
      "Testing scores 0.5036744135115135\n",
      "\n",
      "Training scores 0.5128886542929978\n",
      "Average Testing ROC score for 8 folds split: 0.5047610197189022\n",
      "Average Training ROC score for 8 folds split: 0.5482925699540174\n",
      "standard Deviation for 8 folds split: 0.0016954901163455302\n"
     ]
    }
   ],
   "source": [
    "catboost =  CatBoostClassifier(random_seed=34,use_best_model=True,\n",
    "                          n_estimators=5000,silent=True,eval_metric='AUC')\n",
    "\n",
    "cat1_train, cat1_test, cat1_name = cat(catboost,X,y,test_df,'catboost(1)')"
   ]
  },
  {
   "cell_type": "code",
   "execution_count": null,
   "metadata": {},
   "outputs": [],
   "source": []
  },
  {
   "cell_type": "markdown",
   "metadata": {},
   "source": [
    "## CATBOOST 2"
   ]
  },
  {
   "cell_type": "code",
   "execution_count": 36,
   "metadata": {},
   "outputs": [
    {
     "name": "stdout",
     "output_type": "stream",
     "text": [
      "========================Fold1==========================\n",
      "0:\ttest: 0.5013594\tbest: 0.5013594 (0)\ttotal: 42.9ms\tremaining: 5m 43s\n",
      "250:\ttest: 0.4970079\tbest: 0.5013594 (0)\ttotal: 10.2s\tremaining: 5m 15s\n",
      "500:\ttest: 0.4947134\tbest: 0.5013594 (0)\ttotal: 20.8s\tremaining: 5m 10s\n",
      "Stopped by overfitting detector  (500 iterations wait)\n",
      "\n",
      "bestTest = 0.5013593769\n",
      "bestIteration = 0\n",
      "\n",
      "Shrink model to first 1 iterations.\n",
      "\n",
      "Testing scores 0.5013593768988537\n",
      "\n",
      "Training scores 0.5132007571652667\n",
      "========================Fold2==========================\n",
      "0:\ttest: 0.5023512\tbest: 0.5023512 (0)\ttotal: 35.6ms\tremaining: 4m 44s\n",
      "250:\ttest: 0.4929780\tbest: 0.5033928 (17)\ttotal: 12.8s\tremaining: 6m 33s\n",
      "500:\ttest: 0.4927576\tbest: 0.5033928 (17)\ttotal: 22.7s\tremaining: 5m 40s\n",
      "Stopped by overfitting detector  (500 iterations wait)\n",
      "\n",
      "bestTest = 0.5033927968\n",
      "bestIteration = 17\n",
      "\n",
      "Shrink model to first 18 iterations.\n",
      "\n",
      "Testing scores 0.5033927968242876\n",
      "\n",
      "Training scores 0.5417615391798823\n",
      "========================Fold3==========================\n",
      "0:\ttest: 0.5050118\tbest: 0.5050118 (0)\ttotal: 42ms\tremaining: 5m 35s\n",
      "250:\ttest: 0.4942940\tbest: 0.5050118 (0)\ttotal: 9.75s\tremaining: 5m\n",
      "500:\ttest: 0.4953259\tbest: 0.5050118 (0)\ttotal: 19.6s\tremaining: 4m 54s\n",
      "Stopped by overfitting detector  (500 iterations wait)\n",
      "\n",
      "bestTest = 0.5050117681\n",
      "bestIteration = 0\n",
      "\n",
      "Shrink model to first 1 iterations.\n",
      "\n",
      "Testing scores 0.5050117681479595\n",
      "\n",
      "Training scores 0.5121290760555166\n",
      "========================Fold4==========================\n",
      "0:\ttest: 0.5043531\tbest: 0.5043531 (0)\ttotal: 37.6ms\tremaining: 5m\n",
      "250:\ttest: 0.4911782\tbest: 0.5068459 (3)\ttotal: 11.1s\tremaining: 5m 41s\n",
      "500:\ttest: 0.4907798\tbest: 0.5068459 (3)\ttotal: 22.5s\tremaining: 5m 37s\n",
      "Stopped by overfitting detector  (500 iterations wait)\n",
      "\n",
      "bestTest = 0.5068458702\n",
      "bestIteration = 3\n",
      "\n",
      "Shrink model to first 4 iterations.\n",
      "\n",
      "Testing scores 0.506845886263174\n",
      "\n",
      "Training scores 0.5219814983360396\n",
      "========================Fold5==========================\n",
      "0:\ttest: 0.5036744\tbest: 0.5036744 (0)\ttotal: 123ms\tremaining: 16m 25s\n",
      "250:\ttest: 0.4925047\tbest: 0.5036744 (0)\ttotal: 9.95s\tremaining: 5m 7s\n",
      "500:\ttest: 0.4893865\tbest: 0.5036744 (0)\ttotal: 19.8s\tremaining: 4m 55s\n",
      "Stopped by overfitting detector  (500 iterations wait)\n",
      "\n",
      "bestTest = 0.5036743921\n",
      "bestIteration = 0\n",
      "\n",
      "Shrink model to first 1 iterations.\n",
      "\n",
      "Testing scores 0.5036744135115135\n",
      "\n",
      "Training scores 0.5128886542929978\n",
      "Average Testing ROC score for 8 folds split: 0.5040568483291576\n",
      "Average Training ROC score for 8 folds split: 0.5203923050059406\n",
      "standard Deviation for 8 folds split: 0.0018195701341742867\n"
     ]
    }
   ],
   "source": [
    "catboost2 =  CatBoostClassifier(random_seed=34,bootstrap_type='Bayesian',max_depth=6,learning_rate=0.007,\n",
    "                          iterations=8000,silent=True,eval_metric='AUC')\n",
    "\n",
    "\n",
    "cat2_train, cat2_test, cat2_name = cat(catboost2,X,y,test_df,'catboost(2)')"
   ]
  },
  {
   "cell_type": "code",
   "execution_count": null,
   "metadata": {},
   "outputs": [],
   "source": []
  },
  {
   "cell_type": "markdown",
   "metadata": {},
   "source": [
    "## RANDOM FOREST 1"
   ]
  },
  {
   "cell_type": "code",
   "execution_count": 37,
   "metadata": {},
   "outputs": [
    {
     "name": "stdout",
     "output_type": "stream",
     "text": [
      "========================Fold1==========================\n",
      "\n",
      "Validation scores 0.49860843825704704\n",
      "\n",
      "Training scores 1.0\n",
      "========================Fold2==========================\n",
      "\n",
      "Validation scores 0.4977623066454912\n",
      "\n",
      "Training scores 1.0\n",
      "========================Fold3==========================\n",
      "\n",
      "Validation scores 0.49805097163180917\n",
      "\n",
      "Training scores 1.0\n",
      "========================Fold4==========================\n",
      "\n",
      "Validation scores 0.4982781630527328\n",
      "\n",
      "Training scores 1.0\n",
      "========================Fold5==========================\n",
      "\n",
      "Validation scores 0.4983658526570548\n",
      "\n",
      "Training scores 1.0\n",
      "Average Testing ROC score for 10 folds split: 0.49821314644882697\n",
      "Average Training ROC score for 10 folds split: 1.0\n",
      "standard Deviation for 10 folds split: 0.00028752709716033727\n"
     ]
    }
   ],
   "source": [
    "rf1_model = RandomForestClassifier(n_jobs=-1,criterion='entropy',min_samples_split=10,n_estimators=400,random_state=99)\n",
    "rf1_train, rf1_test, rf1_name = model(rf1_model,X,y,test_df,'RandomForest(1)')"
   ]
  },
  {
   "cell_type": "code",
   "execution_count": null,
   "metadata": {},
   "outputs": [],
   "source": []
  },
  {
   "cell_type": "markdown",
   "metadata": {},
   "source": [
    "## RANDOM FOREST 2"
   ]
  },
  {
   "cell_type": "code",
   "execution_count": 38,
   "metadata": {},
   "outputs": [
    {
     "name": "stdout",
     "output_type": "stream",
     "text": [
      "========================Fold1==========================\n",
      "\n",
      "Validation scores 0.4998367837313435\n",
      "\n",
      "Training scores 0.7914423695103342\n",
      "========================Fold2==========================\n",
      "\n",
      "Validation scores 0.4939552098387116\n",
      "\n",
      "Training scores 0.7845598251088661\n",
      "========================Fold3==========================\n",
      "\n",
      "Validation scores 0.4906217651433213\n",
      "\n",
      "Training scores 0.7705438320529066\n",
      "========================Fold4==========================\n",
      "\n",
      "Validation scores 0.4956410625205611\n",
      "\n",
      "Training scores 0.7846783553861674\n",
      "========================Fold5==========================\n",
      "\n",
      "Validation scores 0.49670637632419584\n",
      "\n",
      "Training scores 0.7882419575965502\n",
      "Average Testing ROC score for 10 folds split: 0.49535223951162666\n",
      "Average Training ROC score for 10 folds split: 0.7838932679309649\n",
      "standard Deviation for 10 folds split: 0.0030449079379330957\n"
     ]
    }
   ],
   "source": [
    "rf_model2 = RandomForestClassifier(max_depth=10,min_samples_split=10,min_samples_leaf=15,n_estimators=400,n_jobs=-1,random_state=34)\n",
    "rf2_train, rf2_test, rf2_name= model( rf_model2,X,y,test_df,'RandomForest(2)')"
   ]
  },
  {
   "cell_type": "code",
   "execution_count": null,
   "metadata": {},
   "outputs": [],
   "source": []
  },
  {
   "cell_type": "code",
   "execution_count": null,
   "metadata": {},
   "outputs": [],
   "source": []
  },
  {
   "cell_type": "code",
   "execution_count": 39,
   "metadata": {},
   "outputs": [],
   "source": [
    "#classifier = lgbm.LGBMClassifier()\n",
    "#param_grid  = {'num_iterations': np.arange(100, 10000, 100),\n",
    "               #'learning_rate':np.arange(0.001, 1, 0.001),\n",
    "               #'max_depth = 10': np.arange(1, 20, 1),\n",
    "               #'num_leaves':np.arange(1, 1000, 5),\n",
    "              #'reg_lambda': np.arange(1,10,1),\n",
    "              #'reg_alpha': np.arange(1,10,1)}"
   ]
  },
  {
   "cell_type": "code",
   "execution_count": null,
   "metadata": {},
   "outputs": [],
   "source": []
  },
  {
   "cell_type": "markdown",
   "metadata": {},
   "source": [
    "## XGBOOST"
   ]
  },
  {
   "cell_type": "code",
   "execution_count": 40,
   "metadata": {},
   "outputs": [],
   "source": [
    "def xgb(model,train,label,test,model_name):\n",
    "    mean_train = []\n",
    "    mean_test = []\n",
    "    test_pred = np.zeros(test.shape[0])\n",
    "    val_pred = np.zeros(train.shape[0])\n",
    "    for count, (train_index,test_index) in enumerate(skf.split(train,label)):\n",
    "        x_train,x_test = train.iloc[train_index],train.iloc[test_index]\n",
    "        y_train,y_test = label.iloc[train_index],label.iloc[test_index]\n",
    "        print(f'========================Fold{count +1}==========================')\n",
    "        model.fit(x_train, y_train, early_stopping_rounds = 500, eval_metric=\"auc\",\n",
    "                           eval_set=[(x_test, y_test)],verbose=250)\n",
    "        train_predict = model.predict_proba(x_train, ntree_limit = model.get_booster().best_ntree_limit)[:,1]\n",
    "        test_predict = model.predict_proba(x_test, ntree_limit = model.get_booster().best_ntree_limit)[:,1]\n",
    "        val_pred[test_index] = test_predict\n",
    "        test_pred+= model.predict_proba(test, ntree_limit = model.get_booster().best_ntree_limit)[:,1]\n",
    "        \n",
    "        print('\\nTesting scores', roc_auc_score(y_test,test_predict))\n",
    "        print('\\nTraining scores', roc_auc_score(y_train,train_predict))\n",
    "        mean_train.append(roc_auc_score(y_train, train_predict))\n",
    "        mean_test.append(roc_auc_score(y_test,test_predict))\n",
    "    print('Average Testing ROC score for 10 folds split:',np.mean(mean_test))\n",
    "    print('Average Training ROC score for 10 folds split:',np.mean(mean_train))\n",
    "    print('standard Deviation for 10 folds split:',np.std(mean_test))\n",
    "    return val_pred, test_pred, model_name"
   ]
  },
  {
   "cell_type": "code",
   "execution_count": 44,
   "metadata": {
    "scrolled": false
   },
   "outputs": [
    {
     "name": "stdout",
     "output_type": "stream",
     "text": [
      "========================Fold1==========================\n",
      "[0]\tvalidation_0-auc:0.50000\n",
      "Will train until validation_0-auc hasn't improved in 500 rounds.\n",
      "[250]\tvalidation_0-auc:0.49867\n",
      "[500]\tvalidation_0-auc:0.50016\n",
      "Stopping. Best iteration:\n",
      "[6]\tvalidation_0-auc:0.50590\n",
      "\n",
      "\n",
      "Testing scores 0.5058956340607161\n",
      "\n",
      "Training scores 0.5613897522877155\n",
      "========================Fold2==========================\n",
      "[0]\tvalidation_0-auc:0.50000\n",
      "Will train until validation_0-auc hasn't improved in 500 rounds.\n",
      "[250]\tvalidation_0-auc:0.50092\n",
      "[500]\tvalidation_0-auc:0.50539\n",
      "[750]\tvalidation_0-auc:0.50264\n",
      "Stopping. Best iteration:\n",
      "[453]\tvalidation_0-auc:0.50589\n",
      "\n",
      "\n",
      "Testing scores 0.505889770330613\n",
      "\n",
      "Training scores 0.9606352408923248\n",
      "========================Fold3==========================\n",
      "[0]\tvalidation_0-auc:0.50000\n",
      "Will train until validation_0-auc hasn't improved in 500 rounds.\n",
      "[250]\tvalidation_0-auc:0.50323\n",
      "[500]\tvalidation_0-auc:0.50003\n",
      "Stopping. Best iteration:\n",
      "[59]\tvalidation_0-auc:0.50740\n",
      "\n",
      "\n",
      "Testing scores 0.507401665219708\n",
      "\n",
      "Training scores 0.7420009722903878\n",
      "========================Fold4==========================\n",
      "[0]\tvalidation_0-auc:0.50000\n",
      "Will train until validation_0-auc hasn't improved in 500 rounds.\n",
      "[250]\tvalidation_0-auc:0.49812\n",
      "[500]\tvalidation_0-auc:0.49500\n",
      "Stopping. Best iteration:\n",
      "[18]\tvalidation_0-auc:0.50494\n",
      "\n",
      "\n",
      "Testing scores 0.5049431928467855\n",
      "\n",
      "Training scores 0.635031701170099\n",
      "========================Fold5==========================\n",
      "[0]\tvalidation_0-auc:0.50000\n",
      "Will train until validation_0-auc hasn't improved in 500 rounds.\n",
      "[250]\tvalidation_0-auc:0.49606\n",
      "[500]\tvalidation_0-auc:0.49663\n",
      "Stopping. Best iteration:\n",
      "[2]\tvalidation_0-auc:0.50538\n",
      "\n",
      "\n",
      "Testing scores 0.5053807110700319\n",
      "\n",
      "Training scores 0.5118021357681313\n",
      "Average Testing ROC score for 10 folds split: 0.5059021947055709\n",
      "Average Training ROC score for 10 folds split: 0.6821719604817317\n",
      "standard Deviation for 10 folds split: 0.0008294864648937201\n"
     ]
    }
   ],
   "source": [
    "from xgboost import XGBClassifier\n",
    "Xgboost = XGBClassifier(learning_rate=0.5,subsample=0.7,colsample_bytree=0.9,reg_alpha=6,\n",
    "               n_jobs=-1,n_estimators=5000,max_depth= 7,random_state=34)\n",
    "\n",
    "xgb_train, xgb_test, xgb_name= xgb(Xgboost,X,y,test_df,'xgboost')"
   ]
  },
  {
   "cell_type": "code",
   "execution_count": null,
   "metadata": {},
   "outputs": [],
   "source": []
  },
  {
   "cell_type": "markdown",
   "metadata": {},
   "source": [
    "## GRADIENT BOOSTING"
   ]
  },
  {
   "cell_type": "code",
   "execution_count": 45,
   "metadata": {},
   "outputs": [
    {
     "name": "stdout",
     "output_type": "stream",
     "text": [
      "========================Fold1==========================\n",
      "\n",
      "Validation scores 0.5053644879632263\n",
      "\n",
      "Training scores 0.6222504613296113\n",
      "========================Fold2==========================\n",
      "\n",
      "Validation scores 0.49615057064931795\n",
      "\n",
      "Training scores 0.622578233315992\n",
      "========================Fold3==========================\n",
      "\n",
      "Validation scores 0.49595028994426066\n",
      "\n",
      "Training scores 0.6221885165793559\n",
      "========================Fold4==========================\n",
      "\n",
      "Validation scores 0.49601082302395355\n",
      "\n",
      "Training scores 0.6196955361481137\n",
      "========================Fold5==========================\n",
      "\n",
      "Validation scores 0.5018818584519003\n",
      "\n",
      "Training scores 0.6256853825145623\n",
      "Average Testing ROC score for 10 folds split: 0.4990716060065317\n",
      "Average Training ROC score for 10 folds split: 0.6224796259775272\n",
      "standard Deviation for 10 folds split: 0.0038766309113124646\n"
     ]
    }
   ],
   "source": [
    "gbm_model = GradientBoostingClassifier(max_depth=4,min_samples_leaf=10,n_estimators=200,learning_rate=0.1,min_samples_split=10,random_state=10)\n",
    "gbm_train, gbm_test, gbm_name= model(gbm_model,X,y,test_df, 'Gbm')"
   ]
  },
  {
   "cell_type": "code",
   "execution_count": null,
   "metadata": {},
   "outputs": [],
   "source": []
  },
  {
   "cell_type": "markdown",
   "metadata": {},
   "source": [
    "## DECISION TREE CLASSIFIER"
   ]
  },
  {
   "cell_type": "code",
   "execution_count": 46,
   "metadata": {},
   "outputs": [
    {
     "name": "stdout",
     "output_type": "stream",
     "text": [
      "========================Fold1==========================\n",
      "\n",
      "Validation scores 0.5034831064456765\n",
      "\n",
      "Training scores 0.5089870773016405\n",
      "========================Fold2==========================\n",
      "\n",
      "Validation scores 0.49062465072445083\n",
      "\n",
      "Training scores 0.5164453203791795\n",
      "========================Fold3==========================\n",
      "\n",
      "Validation scores 0.49711257530485037\n",
      "\n",
      "Training scores 0.5093255834213217\n",
      "========================Fold4==========================\n",
      "\n",
      "Validation scores 0.4971029567010857\n",
      "\n",
      "Training scores 0.5102933231987438\n",
      "========================Fold5==========================\n",
      "\n",
      "Validation scores 0.49995063518801175\n",
      "\n",
      "Training scores 0.5048997300339834\n",
      "Average Testing ROC score for 10 folds split: 0.497654784872815\n",
      "Average Training ROC score for 10 folds split: 0.5099902068669737\n",
      "standard Deviation for 10 folds split: 0.004225199467887272\n"
     ]
    }
   ],
   "source": [
    "from sklearn.tree import DecisionTreeClassifier\n",
    "dtc_model = DecisionTreeClassifier(max_depth=4,min_samples_leaf=10,criterion = 'gini',min_samples_split=10,random_state=10)\n",
    "dtc_train, dtc_test, dtc_name= model(dtc_model,X,y,test_df, 'dtc')"
   ]
  },
  {
   "cell_type": "code",
   "execution_count": null,
   "metadata": {},
   "outputs": [],
   "source": []
  },
  {
   "cell_type": "markdown",
   "metadata": {},
   "source": [
    "## HYPERPARAMETER OPTIMIZATION"
   ]
  },
  {
   "cell_type": "code",
   "execution_count": 47,
   "metadata": {},
   "outputs": [],
   "source": [
    "# from sklearn.metrics import roc_auc_score\n",
    "#from sklearn.model_selection import train_test_split\n",
    "#from catboost import CatBoostClassifier"
   ]
  },
  {
   "cell_type": "code",
   "execution_count": 48,
   "metadata": {},
   "outputs": [],
   "source": [
    "import optuna\n",
    "def objective(trial,data=X,target=y):\n",
    "    \n",
    "    train_x, test_x, train_y, test_y = train_test_split(data, target, test_size=0.2,random_state=42)\n",
    "    params = {\n",
    "        'metric': 'roc_auc', \n",
    "        'random_state': 48,\n",
    "        'n_estimators': 5000,\n",
    "        'reg_alpha': trial.suggest_loguniform('reg_alpha', 1e-3, 10.0),\n",
    "        'reg_lambda': trial.suggest_loguniform('reg_lambda', 1e-3, 10.0),\n",
    "        'colsample_bytree': trial.suggest_categorical('colsample_bytree', [0.3,0.4,0.5,0.6,0.7,0.8,0.9, 1.0]),\n",
    "        'subsample': trial.suggest_categorical('subsample', [0.4,0.5,0.6,0.7,0.8,1.0]),\n",
    "        'learning_rate': trial.suggest_categorical('learning_rate', [0.0001,0.0005, 0.003,0.006,0.008,0.01,0.013,0.0016,0.020]),\n",
    "        'max_depth': trial.suggest_categorical('max_depth', [5,7,9,11,13,15]),\n",
    "        'num_leaves' : trial.suggest_int('num_leaves', 1, 1000)}\n",
    "    model = lgbm.LGBMClassifier(**params)\n",
    "    model.fit(train_x,train_y,eval_set=[(test_x,test_y)],verbose=False)\n",
    "    \n",
    "    preds = model.predict(test_x)\n",
    "    \n",
    "    roc = roc_auc_score(test_y, preds)\n",
    "    \n",
    "    return roc"
   ]
  },
  {
   "cell_type": "code",
   "execution_count": 49,
   "metadata": {},
   "outputs": [],
   "source": [
    "#import sys\n",
    "#sys.maxsize\n",
    "\n",
    "#study = optuna.create_study(direction='minimize')\n",
    "# study.optimize(objective, n_trials=20)\n",
    "# print('Number of finished trials:', len(study.trials))\n",
    "# print('Best trial:', study.best_trial.params)"
   ]
  },
  {
   "cell_type": "code",
   "execution_count": 50,
   "metadata": {},
   "outputs": [],
   "source": [
    "# params=study.best_params "
   ]
  },
  {
   "cell_type": "markdown",
   "metadata": {},
   "source": [
    "## CATBOOST"
   ]
  },
  {
   "cell_type": "code",
   "execution_count": 51,
   "metadata": {},
   "outputs": [],
   "source": [
    "import optuna\n",
    "def objective(trial,data=X,target=y):\n",
    "    \n",
    "    train_x, test_x, train_y, test_y = train_test_split(data, target, test_size=0.2,random_state=42)\n",
    "    params = {\n",
    "        'eval_metric': 'AUC', \n",
    "        'random_state': 48,\n",
    "        'n_estimators': 600,\n",
    "        'learning_rate': trial.suggest_categorical('learning_rate', [0.002,0.004,0.006,0.008,0.01,0.013,0.0016,0.020]),\n",
    "        'max_depth': trial.suggest_categorical('max_depth', [3,4,5,7,8,9,11,13,16])}\n",
    "    model = CatBoostClassifier(**params)\n",
    "    model.fit(train_x,train_y,eval_set=[(test_x,test_y)],verbose=False)\n",
    "    \n",
    "    preds = model.predict(test_x)\n",
    "    \n",
    "    roc = roc_auc_score(test_y, preds)\n",
    "    \n",
    "    return roc"
   ]
  },
  {
   "cell_type": "code",
   "execution_count": 52,
   "metadata": {},
   "outputs": [],
   "source": [
    "#import sys\n",
    "#sys.maxsize\n",
    "\n",
    "#study = optuna.create_study(direction='minimize')\n",
    "#study.optimize(objective, n_trials=20)\n",
    "#print('Number of finished trials:', len(study.trials))\n",
    "#print('Best trial:', study.best_trial.params)"
   ]
  },
  {
   "cell_type": "code",
   "execution_count": null,
   "metadata": {},
   "outputs": [],
   "source": []
  },
  {
   "cell_type": "code",
   "execution_count": 53,
   "metadata": {},
   "outputs": [],
   "source": [
    "#y= y.to_numpy().ravel()"
   ]
  },
  {
   "cell_type": "code",
   "execution_count": 54,
   "metadata": {},
   "outputs": [],
   "source": [
    "# from sklearn.model_selection import GridSearchCV\n",
    "# model = AdaBoostClassifier()\n",
    "# define the grid of values to search\n",
    "# grid = dict()\n",
    "# grid['n_estimators'] = [10, 50, 100, 500]\n",
    "# grid['learning_rate'] = [0.0001, 0.001, 0.01, 0.1, 1.0]\n",
    "# define the evaluation procedure\n",
    "# cv = StratifiedKFold(n_splits=10, random_state=1, shuffle = True)\n",
    "# define the grid search procedure\n",
    "# grid_search = GridSearchCV(estimator=model, param_grid=grid, n_jobs=-1, cv=cv, scoring='roc_auc')\n",
    "# execute the grid search\n",
    "# grid_result = grid_search.fit(X, y)\n",
    "# summarize the best score and configuration\n",
    "# print(\"Best: %f using %s\" % (grid_result.best_score_, grid_result.best_params_))\n",
    "# summarize all scores that were evaluated\n",
    "# means = grid_result.cv_results_['mean_test_score']\n",
    "# stds = grid_result.cv_results_['std_test_score']\n",
    "# params = grid_result.cv_results_['params']\n",
    "# for mean, stdev, param in zip(means, stds, params):\n",
    "#   print(\"%f (%f) with: %r\" % (mean, stdev, param))"
   ]
  },
  {
   "cell_type": "markdown",
   "metadata": {},
   "source": [
    "## STACKING"
   ]
  },
  {
   "cell_type": "code",
   "execution_count": 55,
   "metadata": {},
   "outputs": [
    {
     "data": {
      "text/plain": [
       "\"\\nNOTE : I don't really know if add decision tree classifier to the stack really helps. \\nBut I didnt add it in the model that I submitted.\\n\\n\""
      ]
     },
     "execution_count": 55,
     "metadata": {},
     "output_type": "execute_result"
    }
   ],
   "source": [
    "\"\"\"\n",
    "NOTE : I don't really know if add decision tree classifier to the stack really helps. \n",
    "But I didnt add it in the model that I submitted.\n",
    "\n",
    "\"\"\""
   ]
  },
  {
   "cell_type": "code",
   "execution_count": null,
   "metadata": {},
   "outputs": [],
   "source": []
  },
  {
   "cell_type": "code",
   "execution_count": 56,
   "metadata": {
    "scrolled": true
   },
   "outputs": [
    {
     "data": {
      "text/html": [
       "<div>\n",
       "<style scoped>\n",
       "    .dataframe tbody tr th:only-of-type {\n",
       "        vertical-align: middle;\n",
       "    }\n",
       "\n",
       "    .dataframe tbody tr th {\n",
       "        vertical-align: top;\n",
       "    }\n",
       "\n",
       "    .dataframe thead th {\n",
       "        text-align: right;\n",
       "    }\n",
       "</style>\n",
       "<table border=\"1\" class=\"dataframe\">\n",
       "  <thead>\n",
       "    <tr style=\"text-align: right;\">\n",
       "      <th></th>\n",
       "      <th>xgboost</th>\n",
       "      <th>RandomForest(1)</th>\n",
       "      <th>RandomForest(2)</th>\n",
       "      <th>lightgbm(1)</th>\n",
       "      <th>lightgbm(2)</th>\n",
       "      <th>catboost(1)</th>\n",
       "      <th>catboost(2)</th>\n",
       "      <th>Gbm</th>\n",
       "    </tr>\n",
       "  </thead>\n",
       "  <tbody>\n",
       "    <tr>\n",
       "      <th>0</th>\n",
       "      <td>0.282389</td>\n",
       "      <td>0.284202</td>\n",
       "      <td>0.271863</td>\n",
       "      <td>0.522256</td>\n",
       "      <td>0.275936</td>\n",
       "      <td>0.437482</td>\n",
       "      <td>0.491843</td>\n",
       "      <td>0.281989</td>\n",
       "    </tr>\n",
       "    <tr>\n",
       "      <th>1</th>\n",
       "      <td>0.252450</td>\n",
       "      <td>0.298114</td>\n",
       "      <td>0.269036</td>\n",
       "      <td>0.467890</td>\n",
       "      <td>0.271717</td>\n",
       "      <td>0.436754</td>\n",
       "      <td>0.491963</td>\n",
       "      <td>0.243278</td>\n",
       "    </tr>\n",
       "    <tr>\n",
       "      <th>2</th>\n",
       "      <td>0.330343</td>\n",
       "      <td>0.293038</td>\n",
       "      <td>0.274475</td>\n",
       "      <td>0.500096</td>\n",
       "      <td>0.274787</td>\n",
       "      <td>0.439998</td>\n",
       "      <td>0.491882</td>\n",
       "      <td>0.271948</td>\n",
       "    </tr>\n",
       "    <tr>\n",
       "      <th>3</th>\n",
       "      <td>0.267148</td>\n",
       "      <td>0.301659</td>\n",
       "      <td>0.275976</td>\n",
       "      <td>0.507751</td>\n",
       "      <td>0.275656</td>\n",
       "      <td>0.437195</td>\n",
       "      <td>0.491781</td>\n",
       "      <td>0.299326</td>\n",
       "    </tr>\n",
       "    <tr>\n",
       "      <th>4</th>\n",
       "      <td>0.244610</td>\n",
       "      <td>0.292752</td>\n",
       "      <td>0.280321</td>\n",
       "      <td>0.504101</td>\n",
       "      <td>0.273359</td>\n",
       "      <td>0.441382</td>\n",
       "      <td>0.491960</td>\n",
       "      <td>0.282172</td>\n",
       "    </tr>\n",
       "  </tbody>\n",
       "</table>\n",
       "</div>"
      ],
      "text/plain": [
       "    xgboost  RandomForest(1)  RandomForest(2)  lightgbm(1)  lightgbm(2)  \\\n",
       "0  0.282389         0.284202         0.271863     0.522256     0.275936   \n",
       "1  0.252450         0.298114         0.269036     0.467890     0.271717   \n",
       "2  0.330343         0.293038         0.274475     0.500096     0.274787   \n",
       "3  0.267148         0.301659         0.275976     0.507751     0.275656   \n",
       "4  0.244610         0.292752         0.280321     0.504101     0.273359   \n",
       "\n",
       "   catboost(1)  catboost(2)       Gbm  \n",
       "0     0.437482     0.491843  0.281989  \n",
       "1     0.436754     0.491963  0.243278  \n",
       "2     0.439998     0.491882  0.271948  \n",
       "3     0.437195     0.491781  0.299326  \n",
       "4     0.441382     0.491960  0.282172  "
      ]
     },
     "execution_count": 56,
     "metadata": {},
     "output_type": "execute_result"
    }
   ],
   "source": [
    "train_stack = pd.DataFrame(xgb_train)\n",
    "Stack_Train = pd.concat([train_stack,pd.DataFrame(rf1_train),pd.DataFrame(rf2_train),\n",
    "                        pd.DataFrame(LGB1_train),pd.DataFrame(LGBM2_train),pd.DataFrame(cat1_train),pd.DataFrame(cat2_train),\n",
    "                         pd.DataFrame(gbm_train)],1)\n",
    "test_stack = pd.DataFrame(xgb_test)\n",
    "Stack_Test = pd.concat([test_stack,pd.DataFrame(rf1_test),pd.DataFrame(rf2_test),\n",
    "                        pd.DataFrame(LGB1_test),pd.DataFrame(LGBM2_test),pd.DataFrame(cat1_test),pd.DataFrame(cat2_test),\n",
    "                        pd.DataFrame(gbm_test)],1)\n",
    "\n",
    "Stack_Train.columns=[xgb_name,rf1_name,rf2_name,LGB1_name,LGBM2_name,cat1_name,cat2_name,gbm_name]\n",
    "Stack_Test.columns=[xgb_name,rf1_name,rf2_name,LGB1_name,LGBM2_name,cat1_name,cat2_name,gbm_name]\n",
    "\n",
    "Stack_Test = Stack_Test/5\n",
    "Stack_Test.head()"
   ]
  },
  {
   "cell_type": "code",
   "execution_count": 57,
   "metadata": {},
   "outputs": [
    {
     "data": {
      "text/plain": [
       "\"Taking the average doesn't help\""
      ]
     },
     "execution_count": 57,
     "metadata": {},
     "output_type": "execute_result"
    }
   ],
   "source": [
    "tt = Stack_Test.mean(axis = 1)\n",
    "sub= ttest[[\"ID\"]]\n",
    "sub['Target'] = tt\n",
    "sub.to_csv('postchallenge4.csv', index = False)\n",
    "\n",
    "\"\"\"Taking the average doesn't help\"\"\""
   ]
  },
  {
   "cell_type": "code",
   "execution_count": 58,
   "metadata": {},
   "outputs": [
    {
     "data": {
      "text/plain": [
       "(46477, 8)"
      ]
     },
     "execution_count": 58,
     "metadata": {},
     "output_type": "execute_result"
    }
   ],
   "source": [
    "Stack_Test.shape"
   ]
  },
  {
   "cell_type": "code",
   "execution_count": 59,
   "metadata": {},
   "outputs": [],
   "source": [
    "from sklearn.linear_model import LogisticRegression\n",
    "base_model = LogisticRegression()\n",
    "Stacking(base_model,Stack_Train,Stack_Test,y,'final_stack1.csv')\n",
    "\n",
    "## Tried logistic regression but it didnt give a good score"
   ]
  },
  {
   "cell_type": "code",
   "execution_count": 60,
   "metadata": {},
   "outputs": [],
   "source": [
    "base_model = LinearRegression()\n",
    "Stacking(base_model,Stack_Train,Stack_Test,y,'final_stack2.csv')"
   ]
  },
  {
   "cell_type": "code",
   "execution_count": null,
   "metadata": {},
   "outputs": [],
   "source": []
  },
  {
   "cell_type": "code",
   "execution_count": 61,
   "metadata": {},
   "outputs": [
    {
     "data": {
      "text/plain": [
       "'\\n   Using Ridge gave a better score on the leaderbaord\\n\\n'"
      ]
     },
     "execution_count": 61,
     "metadata": {},
     "output_type": "execute_result"
    }
   ],
   "source": [
    "from sklearn.linear_model import Lasso, Ridge\n",
    "base_model = Ridge(alpha = 0.5)\n",
    "Stacking(base_model,Stack_Train,Stack_Test,y,'final_satck3.csv')\n",
    "\n",
    "\n",
    "\"\"\"\n",
    "   Using Ridge gave a better score on the leaderbaord\n",
    "\n",
    "\"\"\""
   ]
  },
  {
   "cell_type": "code",
   "execution_count": null,
   "metadata": {},
   "outputs": [],
   "source": []
  }
 ],
 "metadata": {
  "kernelspec": {
   "display_name": "Python 3",
   "language": "python",
   "name": "python3"
  },
  "language_info": {
   "codemirror_mode": {
    "name": "ipython",
    "version": 3
   },
   "file_extension": ".py",
   "mimetype": "text/x-python",
   "name": "python",
   "nbconvert_exporter": "python",
   "pygments_lexer": "ipython3",
   "version": "3.7.6"
  }
 },
 "nbformat": 4,
 "nbformat_minor": 4
}
